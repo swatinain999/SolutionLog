{
 "cells": [
  {
   "cell_type": "code",
   "execution_count": 164,
   "id": "6b758a4c-7636-4bc3-aec6-a61846928b43",
   "metadata": {},
   "outputs": [],
   "source": [
    "import pandas as pd\n",
    "import numpy as np\n",
    "import matplotlib.pyplot as plt\n",
    "import datetime as dt\n",
    "import seaborn as sns\n",
    "\n",
    "# set the graphs to show in the jupyter notebook\n",
    "%matplotlib inline\n",
    "\n",
    "# set seabor graphs to a better style\n",
    "sns.set(style=\"ticks\")\n",
    "import warnings\n",
    "warnings.filterwarnings('ignore')\n",
    "\n",
    "import os\n",
    "os.chdir('C:\\\\Users\\\\ACER\\\\OneDrive\\\\Desktop\\\\PythonDesk\\\\CaseStudy\\\\Case Study 3 - Insurance Claims Case Study')\n",
    "##pd.options.display.float_format = '{:.0f}'.format\n",
    "\n",
    "import scipy.stats as stats"
   ]
  },
  {
   "cell_type": "code",
   "execution_count": 2,
   "id": "84203c2a-bd6a-4c40-9524-5f683cae2a74",
   "metadata": {},
   "outputs": [],
   "source": [
    "cust_data = pd.read_csv('cust_demographics.csv')\n",
    "claims_data = pd.read_csv('claims.csv')"
   ]
  },
  {
   "cell_type": "code",
   "execution_count": 3,
   "id": "c44b9566-dab5-46f0-87e5-4226d6dea5ac",
   "metadata": {},
   "outputs": [
    {
     "data": {
      "text/html": [
       "<div>\n",
       "<style scoped>\n",
       "    .dataframe tbody tr th:only-of-type {\n",
       "        vertical-align: middle;\n",
       "    }\n",
       "\n",
       "    .dataframe tbody tr th {\n",
       "        vertical-align: top;\n",
       "    }\n",
       "\n",
       "    .dataframe thead th {\n",
       "        text-align: right;\n",
       "    }\n",
       "</style>\n",
       "<table border=\"1\" class=\"dataframe\">\n",
       "  <thead>\n",
       "    <tr style=\"text-align: right;\">\n",
       "      <th></th>\n",
       "      <th>CUST_ID</th>\n",
       "      <th>gender</th>\n",
       "      <th>DateOfBirth</th>\n",
       "      <th>State</th>\n",
       "      <th>Contact</th>\n",
       "      <th>Segment</th>\n",
       "    </tr>\n",
       "  </thead>\n",
       "  <tbody>\n",
       "    <tr>\n",
       "      <th>0</th>\n",
       "      <td>21868593</td>\n",
       "      <td>Female</td>\n",
       "      <td>12-Jan-79</td>\n",
       "      <td>VT</td>\n",
       "      <td>789-916-8172</td>\n",
       "      <td>Platinum</td>\n",
       "    </tr>\n",
       "    <tr>\n",
       "      <th>1</th>\n",
       "      <td>75740424</td>\n",
       "      <td>Female</td>\n",
       "      <td>13-Jan-70</td>\n",
       "      <td>ME</td>\n",
       "      <td>265-543-1264</td>\n",
       "      <td>Silver</td>\n",
       "    </tr>\n",
       "    <tr>\n",
       "      <th>2</th>\n",
       "      <td>30308357</td>\n",
       "      <td>Female</td>\n",
       "      <td>11-Mar-84</td>\n",
       "      <td>TN</td>\n",
       "      <td>798-631-4758</td>\n",
       "      <td>Silver</td>\n",
       "    </tr>\n",
       "    <tr>\n",
       "      <th>3</th>\n",
       "      <td>47830476</td>\n",
       "      <td>Female</td>\n",
       "      <td>01-May-86</td>\n",
       "      <td>MA</td>\n",
       "      <td>413-187-7945</td>\n",
       "      <td>Silver</td>\n",
       "    </tr>\n",
       "    <tr>\n",
       "      <th>4</th>\n",
       "      <td>19269962</td>\n",
       "      <td>Male</td>\n",
       "      <td>13-May-77</td>\n",
       "      <td>NV</td>\n",
       "      <td>956-871-8691</td>\n",
       "      <td>Gold</td>\n",
       "    </tr>\n",
       "  </tbody>\n",
       "</table>\n",
       "</div>"
      ],
      "text/plain": [
       "    CUST_ID  gender DateOfBirth State       Contact   Segment\n",
       "0  21868593  Female   12-Jan-79    VT  789-916-8172  Platinum\n",
       "1  75740424  Female   13-Jan-70    ME  265-543-1264    Silver\n",
       "2  30308357  Female   11-Mar-84    TN  798-631-4758    Silver\n",
       "3  47830476  Female   01-May-86    MA  413-187-7945    Silver\n",
       "4  19269962    Male   13-May-77    NV  956-871-8691      Gold"
      ]
     },
     "execution_count": 3,
     "metadata": {},
     "output_type": "execute_result"
    }
   ],
   "source": [
    "cust_data.head()"
   ]
  },
  {
   "cell_type": "code",
   "execution_count": 4,
   "id": "2b21543e-93ae-486d-901b-7bb119c33c13",
   "metadata": {},
   "outputs": [
    {
     "data": {
      "text/plain": [
       "(1085, 6)"
      ]
     },
     "execution_count": 4,
     "metadata": {},
     "output_type": "execute_result"
    }
   ],
   "source": [
    "cust_data.shape"
   ]
  },
  {
   "cell_type": "code",
   "execution_count": 5,
   "id": "7db4b676-40ef-4f46-bbe6-15c2768e60af",
   "metadata": {},
   "outputs": [
    {
     "data": {
      "text/html": [
       "<div>\n",
       "<style scoped>\n",
       "    .dataframe tbody tr th:only-of-type {\n",
       "        vertical-align: middle;\n",
       "    }\n",
       "\n",
       "    .dataframe tbody tr th {\n",
       "        vertical-align: top;\n",
       "    }\n",
       "\n",
       "    .dataframe thead th {\n",
       "        text-align: right;\n",
       "    }\n",
       "</style>\n",
       "<table border=\"1\" class=\"dataframe\">\n",
       "  <thead>\n",
       "    <tr style=\"text-align: right;\">\n",
       "      <th></th>\n",
       "      <th>claim_id</th>\n",
       "      <th>customer_id</th>\n",
       "      <th>incident_cause</th>\n",
       "      <th>claim_date</th>\n",
       "      <th>claim_area</th>\n",
       "      <th>police_report</th>\n",
       "      <th>claim_type</th>\n",
       "      <th>claim_amount</th>\n",
       "      <th>total_policy_claims</th>\n",
       "      <th>fraudulent</th>\n",
       "    </tr>\n",
       "  </thead>\n",
       "  <tbody>\n",
       "    <tr>\n",
       "      <th>0</th>\n",
       "      <td>54004764</td>\n",
       "      <td>21868593</td>\n",
       "      <td>Driver error</td>\n",
       "      <td>11/27/2017</td>\n",
       "      <td>Auto</td>\n",
       "      <td>No</td>\n",
       "      <td>Material only</td>\n",
       "      <td>$2980</td>\n",
       "      <td>1.0</td>\n",
       "      <td>No</td>\n",
       "    </tr>\n",
       "    <tr>\n",
       "      <th>1</th>\n",
       "      <td>33985796</td>\n",
       "      <td>75740424</td>\n",
       "      <td>Crime</td>\n",
       "      <td>10/03/2018</td>\n",
       "      <td>Home</td>\n",
       "      <td>Unknown</td>\n",
       "      <td>Material only</td>\n",
       "      <td>$2980</td>\n",
       "      <td>3.0</td>\n",
       "      <td>No</td>\n",
       "    </tr>\n",
       "    <tr>\n",
       "      <th>2</th>\n",
       "      <td>53522022</td>\n",
       "      <td>30308357</td>\n",
       "      <td>Other driver error</td>\n",
       "      <td>02/02/2018</td>\n",
       "      <td>Auto</td>\n",
       "      <td>No</td>\n",
       "      <td>Material only</td>\n",
       "      <td>$3369.5</td>\n",
       "      <td>1.0</td>\n",
       "      <td>Yes</td>\n",
       "    </tr>\n",
       "    <tr>\n",
       "      <th>3</th>\n",
       "      <td>13015401</td>\n",
       "      <td>47830476</td>\n",
       "      <td>Natural causes</td>\n",
       "      <td>06/17/2018</td>\n",
       "      <td>Auto</td>\n",
       "      <td>No</td>\n",
       "      <td>Material only</td>\n",
       "      <td>$1680</td>\n",
       "      <td>1.0</td>\n",
       "      <td>No</td>\n",
       "    </tr>\n",
       "    <tr>\n",
       "      <th>4</th>\n",
       "      <td>22890252</td>\n",
       "      <td>19269962</td>\n",
       "      <td>Crime</td>\n",
       "      <td>01/13/2018</td>\n",
       "      <td>Auto</td>\n",
       "      <td>No</td>\n",
       "      <td>Material only</td>\n",
       "      <td>$2680</td>\n",
       "      <td>1.0</td>\n",
       "      <td>No</td>\n",
       "    </tr>\n",
       "  </tbody>\n",
       "</table>\n",
       "</div>"
      ],
      "text/plain": [
       "   claim_id  customer_id      incident_cause  claim_date claim_area  \\\n",
       "0  54004764     21868593        Driver error  11/27/2017       Auto   \n",
       "1  33985796     75740424               Crime  10/03/2018       Home   \n",
       "2  53522022     30308357  Other driver error  02/02/2018       Auto   \n",
       "3  13015401     47830476      Natural causes  06/17/2018       Auto   \n",
       "4  22890252     19269962               Crime  01/13/2018       Auto   \n",
       "\n",
       "  police_report     claim_type claim_amount  total_policy_claims fraudulent  \n",
       "0            No  Material only        $2980                  1.0         No  \n",
       "1       Unknown  Material only        $2980                  3.0         No  \n",
       "2            No  Material only      $3369.5                  1.0        Yes  \n",
       "3            No  Material only        $1680                  1.0         No  \n",
       "4            No  Material only        $2680                  1.0         No  "
      ]
     },
     "execution_count": 5,
     "metadata": {},
     "output_type": "execute_result"
    }
   ],
   "source": [
    "claims_data.head()"
   ]
  },
  {
   "cell_type": "code",
   "execution_count": 6,
   "id": "b5db4b28-08dc-4349-b000-fd9ea162d6ee",
   "metadata": {},
   "outputs": [
    {
     "data": {
      "text/plain": [
       "(1100, 10)"
      ]
     },
     "execution_count": 6,
     "metadata": {},
     "output_type": "execute_result"
    }
   ],
   "source": [
    "claims_data.shape"
   ]
  },
  {
   "cell_type": "code",
   "execution_count": 7,
   "id": "a153ec35-59fd-41f6-bf91-bf1b8354a110",
   "metadata": {},
   "outputs": [],
   "source": [
    "##renaming the cust_id column in cust_data for merging purpose to match it with claims data customer_id\n",
    "cust_data.rename(columns = {'CUST_ID':'customer_id'}, inplace=True)"
   ]
  },
  {
   "cell_type": "code",
   "execution_count": 8,
   "id": "791747a3-e955-4aeb-b3e5-bd49c74661bd",
   "metadata": {},
   "outputs": [
    {
     "data": {
      "text/html": [
       "<div>\n",
       "<style scoped>\n",
       "    .dataframe tbody tr th:only-of-type {\n",
       "        vertical-align: middle;\n",
       "    }\n",
       "\n",
       "    .dataframe tbody tr th {\n",
       "        vertical-align: top;\n",
       "    }\n",
       "\n",
       "    .dataframe thead th {\n",
       "        text-align: right;\n",
       "    }\n",
       "</style>\n",
       "<table border=\"1\" class=\"dataframe\">\n",
       "  <thead>\n",
       "    <tr style=\"text-align: right;\">\n",
       "      <th></th>\n",
       "      <th>customer_id</th>\n",
       "      <th>gender</th>\n",
       "      <th>DateOfBirth</th>\n",
       "      <th>State</th>\n",
       "      <th>Contact</th>\n",
       "      <th>Segment</th>\n",
       "    </tr>\n",
       "  </thead>\n",
       "  <tbody>\n",
       "    <tr>\n",
       "      <th>0</th>\n",
       "      <td>21868593</td>\n",
       "      <td>Female</td>\n",
       "      <td>12-Jan-79</td>\n",
       "      <td>VT</td>\n",
       "      <td>789-916-8172</td>\n",
       "      <td>Platinum</td>\n",
       "    </tr>\n",
       "    <tr>\n",
       "      <th>1</th>\n",
       "      <td>75740424</td>\n",
       "      <td>Female</td>\n",
       "      <td>13-Jan-70</td>\n",
       "      <td>ME</td>\n",
       "      <td>265-543-1264</td>\n",
       "      <td>Silver</td>\n",
       "    </tr>\n",
       "  </tbody>\n",
       "</table>\n",
       "</div>"
      ],
      "text/plain": [
       "   customer_id  gender DateOfBirth State       Contact   Segment\n",
       "0     21868593  Female   12-Jan-79    VT  789-916-8172  Platinum\n",
       "1     75740424  Female   13-Jan-70    ME  265-543-1264    Silver"
      ]
     },
     "execution_count": 8,
     "metadata": {},
     "output_type": "execute_result"
    }
   ],
   "source": [
    "cust_data.head(2)"
   ]
  },
  {
   "cell_type": "markdown",
   "id": "134d57d5-840f-4362-9c46-595bb3cbe417",
   "metadata": {},
   "source": [
    "### Merging the dataset"
   ]
  },
  {
   "cell_type": "code",
   "execution_count": 40,
   "id": "c58f07dd-cfd2-468e-852a-74ebc325ce1c",
   "metadata": {},
   "outputs": [],
   "source": [
    "## Q1. Import claims_data.csv and cust_data.csv which is provided to you and combine the two datasets appropriately to create a 360-degree view of \n",
    "## the data. Use the same for the subsequent questions."
   ]
  },
  {
   "cell_type": "code",
   "execution_count": 9,
   "id": "0efb3cd7-61c3-4a4b-809a-3d62e48cd389",
   "metadata": {},
   "outputs": [],
   "source": [
    "cust_claims = pd.merge(left = cust_data, right = claims_data, on = 'customer_id', how='inner')"
   ]
  },
  {
   "cell_type": "code",
   "execution_count": 10,
   "id": "7c680e7e-ba8b-469b-b49c-003ddc7497ef",
   "metadata": {},
   "outputs": [
    {
     "data": {
      "text/plain": [
       "(1085, 15)"
      ]
     },
     "execution_count": 10,
     "metadata": {},
     "output_type": "execute_result"
    }
   ],
   "source": [
    "cust_claims.shape"
   ]
  },
  {
   "cell_type": "code",
   "execution_count": 161,
   "id": "7ce6e453-314f-481a-9352-bfa6d001390e",
   "metadata": {},
   "outputs": [
    {
     "data": {
      "text/html": [
       "<div>\n",
       "<style scoped>\n",
       "    .dataframe tbody tr th:only-of-type {\n",
       "        vertical-align: middle;\n",
       "    }\n",
       "\n",
       "    .dataframe tbody tr th {\n",
       "        vertical-align: top;\n",
       "    }\n",
       "\n",
       "    .dataframe thead th {\n",
       "        text-align: right;\n",
       "    }\n",
       "</style>\n",
       "<table border=\"1\" class=\"dataframe\">\n",
       "  <thead>\n",
       "    <tr style=\"text-align: right;\">\n",
       "      <th></th>\n",
       "      <th>customer_id</th>\n",
       "      <th>gender</th>\n",
       "      <th>DateOfBirth</th>\n",
       "      <th>State</th>\n",
       "      <th>Contact</th>\n",
       "      <th>Segment</th>\n",
       "      <th>claim_id</th>\n",
       "      <th>incident_cause</th>\n",
       "      <th>claim_date</th>\n",
       "      <th>claim_area</th>\n",
       "      <th>police_report</th>\n",
       "      <th>claim_type</th>\n",
       "      <th>claim_amount</th>\n",
       "      <th>total_policy_claims</th>\n",
       "      <th>fraudulent</th>\n",
       "    </tr>\n",
       "  </thead>\n",
       "  <tbody>\n",
       "    <tr>\n",
       "      <th>0</th>\n",
       "      <td>21868593</td>\n",
       "      <td>Female</td>\n",
       "      <td>12-Jan-79</td>\n",
       "      <td>VT</td>\n",
       "      <td>789-916-8172</td>\n",
       "      <td>Platinum</td>\n",
       "      <td>54004764</td>\n",
       "      <td>Driver error</td>\n",
       "      <td>11/27/2017</td>\n",
       "      <td>Auto</td>\n",
       "      <td>No</td>\n",
       "      <td>Material only</td>\n",
       "      <td>$2980</td>\n",
       "      <td>1</td>\n",
       "      <td>No</td>\n",
       "    </tr>\n",
       "    <tr>\n",
       "      <th>1</th>\n",
       "      <td>75740424</td>\n",
       "      <td>Female</td>\n",
       "      <td>13-Jan-70</td>\n",
       "      <td>ME</td>\n",
       "      <td>265-543-1264</td>\n",
       "      <td>Silver</td>\n",
       "      <td>33985796</td>\n",
       "      <td>Crime</td>\n",
       "      <td>10/03/2018</td>\n",
       "      <td>Home</td>\n",
       "      <td>Unknown</td>\n",
       "      <td>Material only</td>\n",
       "      <td>$2980</td>\n",
       "      <td>3</td>\n",
       "      <td>No</td>\n",
       "    </tr>\n",
       "  </tbody>\n",
       "</table>\n",
       "</div>"
      ],
      "text/plain": [
       "   customer_id  gender DateOfBirth State       Contact   Segment  claim_id  \\\n",
       "0     21868593  Female   12-Jan-79    VT  789-916-8172  Platinum  54004764   \n",
       "1     75740424  Female   13-Jan-70    ME  265-543-1264    Silver  33985796   \n",
       "\n",
       "  incident_cause  claim_date claim_area police_report     claim_type  \\\n",
       "0   Driver error  11/27/2017       Auto            No  Material only   \n",
       "1          Crime  10/03/2018       Home       Unknown  Material only   \n",
       "\n",
       "  claim_amount  total_policy_claims fraudulent  \n",
       "0        $2980                    1         No  \n",
       "1        $2980                    3         No  "
      ]
     },
     "execution_count": 161,
     "metadata": {},
     "output_type": "execute_result"
    }
   ],
   "source": [
    "cust_claims.head(2)"
   ]
  },
  {
   "cell_type": "code",
   "execution_count": 11,
   "id": "cb14ca2c-5457-401c-b4ec-3c1e322165c2",
   "metadata": {},
   "outputs": [
    {
     "name": "stdout",
     "output_type": "stream",
     "text": [
      "<class 'pandas.core.frame.DataFrame'>\n",
      "RangeIndex: 1085 entries, 0 to 1084\n",
      "Data columns (total 15 columns):\n",
      " #   Column               Non-Null Count  Dtype  \n",
      "---  ------               --------------  -----  \n",
      " 0   customer_id          1085 non-null   int64  \n",
      " 1   gender               1085 non-null   object \n",
      " 2   DateOfBirth          1085 non-null   object \n",
      " 3   State                1085 non-null   object \n",
      " 4   Contact              1085 non-null   object \n",
      " 5   Segment              1085 non-null   object \n",
      " 6   claim_id             1085 non-null   int64  \n",
      " 7   incident_cause       1085 non-null   object \n",
      " 8   claim_date           1085 non-null   object \n",
      " 9   claim_area           1085 non-null   object \n",
      " 10  police_report        1085 non-null   object \n",
      " 11  claim_type           1085 non-null   object \n",
      " 12  claim_amount         1020 non-null   object \n",
      " 13  total_policy_claims  1075 non-null   float64\n",
      " 14  fraudulent           1085 non-null   object \n",
      "dtypes: float64(1), int64(2), object(12)\n",
      "memory usage: 127.3+ KB\n"
     ]
    }
   ],
   "source": [
    "cust_claims.info()"
   ]
  },
  {
   "cell_type": "markdown",
   "id": "ad92f481-625d-4331-aede-515184b8b12d",
   "metadata": {},
   "source": [
    "## EDA"
   ]
  },
  {
   "cell_type": "code",
   "execution_count": null,
   "id": "0def6366-110f-4e02-90f2-fe9489b0667e",
   "metadata": {},
   "outputs": [],
   "source": [
    "## Q2. Perform a data audit for the datatypes and find out if there are any mismatch within the current datatypes of the columns and their \n",
    "## business significance"
   ]
  },
  {
   "cell_type": "code",
   "execution_count": 12,
   "id": "fb5332a5-9da1-46fc-a729-5640a47d17b8",
   "metadata": {},
   "outputs": [],
   "source": [
    "## changing data type of DOB from object to datetime\n",
    "cust_claims.DateOfBirth = pd.to_datetime(cust_claims.DateOfBirth, format = '%d-%b-%y')"
   ]
  },
  {
   "cell_type": "code",
   "execution_count": 13,
   "id": "dbc7d0c3-8eb8-4cdf-8564-57da620a74d1",
   "metadata": {},
   "outputs": [
    {
     "data": {
      "text/html": [
       "<div>\n",
       "<style scoped>\n",
       "    .dataframe tbody tr th:only-of-type {\n",
       "        vertical-align: middle;\n",
       "    }\n",
       "\n",
       "    .dataframe tbody tr th {\n",
       "        vertical-align: top;\n",
       "    }\n",
       "\n",
       "    .dataframe thead th {\n",
       "        text-align: right;\n",
       "    }\n",
       "</style>\n",
       "<table border=\"1\" class=\"dataframe\">\n",
       "  <thead>\n",
       "    <tr style=\"text-align: right;\">\n",
       "      <th></th>\n",
       "      <th>customer_id</th>\n",
       "      <th>gender</th>\n",
       "      <th>DateOfBirth</th>\n",
       "      <th>State</th>\n",
       "      <th>Contact</th>\n",
       "      <th>Segment</th>\n",
       "      <th>claim_id</th>\n",
       "      <th>incident_cause</th>\n",
       "      <th>claim_date</th>\n",
       "      <th>claim_area</th>\n",
       "      <th>police_report</th>\n",
       "      <th>claim_type</th>\n",
       "      <th>claim_amount</th>\n",
       "      <th>total_policy_claims</th>\n",
       "      <th>fraudulent</th>\n",
       "    </tr>\n",
       "  </thead>\n",
       "  <tbody>\n",
       "  </tbody>\n",
       "</table>\n",
       "</div>"
      ],
      "text/plain": [
       "Empty DataFrame\n",
       "Columns: [customer_id, gender, DateOfBirth, State, Contact, Segment, claim_id, incident_cause, claim_date, claim_area, police_report, claim_type, claim_amount, total_policy_claims, fraudulent]\n",
       "Index: []"
      ]
     },
     "execution_count": 13,
     "metadata": {},
     "output_type": "execute_result"
    }
   ],
   "source": [
    "## checking if any DOB year is between 2000 and 2059\n",
    "cust_claims[cust_claims.DateOfBirth.dt.year.between(2000,2059) ]"
   ]
  },
  {
   "cell_type": "code",
   "execution_count": 14,
   "id": "0e0fb83e-9e44-4385-82b0-2c0c90115ef4",
   "metadata": {},
   "outputs": [],
   "source": [
    "## date offset the year by 100 which are more than 2000th year\n",
    "cust_claims.DateOfBirth = np.where(cust_claims.DateOfBirth.dt.year > 2000, (cust_claims.DateOfBirth - pd.DateOffset(years = 100)),cust_claims.DateOfBirth)"
   ]
  },
  {
   "cell_type": "code",
   "execution_count": 15,
   "id": "66c04cab-6d69-45a8-9d5d-4cd51cc67ee1",
   "metadata": {},
   "outputs": [
    {
     "data": {
      "text/html": [
       "<div>\n",
       "<style scoped>\n",
       "    .dataframe tbody tr th:only-of-type {\n",
       "        vertical-align: middle;\n",
       "    }\n",
       "\n",
       "    .dataframe tbody tr th {\n",
       "        vertical-align: top;\n",
       "    }\n",
       "\n",
       "    .dataframe thead th {\n",
       "        text-align: right;\n",
       "    }\n",
       "</style>\n",
       "<table border=\"1\" class=\"dataframe\">\n",
       "  <thead>\n",
       "    <tr style=\"text-align: right;\">\n",
       "      <th></th>\n",
       "      <th>customer_id</th>\n",
       "      <th>gender</th>\n",
       "      <th>DateOfBirth</th>\n",
       "      <th>State</th>\n",
       "      <th>Contact</th>\n",
       "      <th>Segment</th>\n",
       "      <th>claim_id</th>\n",
       "      <th>incident_cause</th>\n",
       "      <th>claim_date</th>\n",
       "      <th>claim_area</th>\n",
       "      <th>police_report</th>\n",
       "      <th>claim_type</th>\n",
       "      <th>claim_amount</th>\n",
       "      <th>total_policy_claims</th>\n",
       "      <th>fraudulent</th>\n",
       "    </tr>\n",
       "  </thead>\n",
       "  <tbody>\n",
       "  </tbody>\n",
       "</table>\n",
       "</div>"
      ],
      "text/plain": [
       "Empty DataFrame\n",
       "Columns: [customer_id, gender, DateOfBirth, State, Contact, Segment, claim_id, incident_cause, claim_date, claim_area, police_report, claim_type, claim_amount, total_policy_claims, fraudulent]\n",
       "Index: []"
      ]
     },
     "execution_count": 15,
     "metadata": {},
     "output_type": "execute_result"
    }
   ],
   "source": [
    "cust_claims[cust_claims.DateOfBirth.dt.year > 2000]"
   ]
  },
  {
   "cell_type": "code",
   "execution_count": 16,
   "id": "6a9534b2-0e6f-42c2-8502-6c0c1bf7541e",
   "metadata": {},
   "outputs": [],
   "source": [
    "## changing data type of claim_date from object to datetime\n",
    "cust_claims.claim_date = pd.to_datetime(cust_claims.claim_date)"
   ]
  },
  {
   "cell_type": "code",
   "execution_count": 17,
   "id": "e4082236-856a-49fe-8b31-83a7d5b9f8a5",
   "metadata": {},
   "outputs": [],
   "source": [
    "##changing contact to float from object to float\n",
    "cust_claims.Contact = cust_claims.Contact.str.replace('-','').astype(float)"
   ]
  },
  {
   "cell_type": "code",
   "execution_count": null,
   "id": "1422600b-284c-4ecc-8cdd-0701039e1fe0",
   "metadata": {},
   "outputs": [],
   "source": [
    "## Q3. Convert the column claim_amount to numeric. Use the appropriate modules/attributes to remove the $ sign"
   ]
  },
  {
   "cell_type": "code",
   "execution_count": 18,
   "id": "ebdd78c3-61b8-497e-a1c2-1c6ac3ac5caf",
   "metadata": {},
   "outputs": [],
   "source": [
    "##changing data type of claim_amount from object to float\n",
    "cust_claims.claim_amount = cust_claims.claim_amount.str.replace('$','').astype(float)"
   ]
  },
  {
   "cell_type": "code",
   "execution_count": 19,
   "id": "14116c71-ddcf-4bd5-9010-0c590a049e85",
   "metadata": {},
   "outputs": [
    {
     "data": {
      "text/html": [
       "<div>\n",
       "<style scoped>\n",
       "    .dataframe tbody tr th:only-of-type {\n",
       "        vertical-align: middle;\n",
       "    }\n",
       "\n",
       "    .dataframe tbody tr th {\n",
       "        vertical-align: top;\n",
       "    }\n",
       "\n",
       "    .dataframe thead th {\n",
       "        text-align: right;\n",
       "    }\n",
       "</style>\n",
       "<table border=\"1\" class=\"dataframe\">\n",
       "  <thead>\n",
       "    <tr style=\"text-align: right;\">\n",
       "      <th></th>\n",
       "      <th>customer_id</th>\n",
       "      <th>gender</th>\n",
       "      <th>DateOfBirth</th>\n",
       "      <th>State</th>\n",
       "      <th>Contact</th>\n",
       "      <th>Segment</th>\n",
       "      <th>claim_id</th>\n",
       "      <th>incident_cause</th>\n",
       "      <th>claim_date</th>\n",
       "      <th>claim_area</th>\n",
       "      <th>police_report</th>\n",
       "      <th>claim_type</th>\n",
       "      <th>claim_amount</th>\n",
       "      <th>total_policy_claims</th>\n",
       "      <th>fraudulent</th>\n",
       "    </tr>\n",
       "  </thead>\n",
       "  <tbody>\n",
       "    <tr>\n",
       "      <th>0</th>\n",
       "      <td>21868593</td>\n",
       "      <td>Female</td>\n",
       "      <td>1979-01-12</td>\n",
       "      <td>VT</td>\n",
       "      <td>7.899168e+09</td>\n",
       "      <td>Platinum</td>\n",
       "      <td>54004764</td>\n",
       "      <td>Driver error</td>\n",
       "      <td>2017-11-27</td>\n",
       "      <td>Auto</td>\n",
       "      <td>No</td>\n",
       "      <td>Material only</td>\n",
       "      <td>2980.0</td>\n",
       "      <td>1.0</td>\n",
       "      <td>No</td>\n",
       "    </tr>\n",
       "    <tr>\n",
       "      <th>1</th>\n",
       "      <td>75740424</td>\n",
       "      <td>Female</td>\n",
       "      <td>1970-01-13</td>\n",
       "      <td>ME</td>\n",
       "      <td>2.655431e+09</td>\n",
       "      <td>Silver</td>\n",
       "      <td>33985796</td>\n",
       "      <td>Crime</td>\n",
       "      <td>2018-10-03</td>\n",
       "      <td>Home</td>\n",
       "      <td>Unknown</td>\n",
       "      <td>Material only</td>\n",
       "      <td>2980.0</td>\n",
       "      <td>3.0</td>\n",
       "      <td>No</td>\n",
       "    </tr>\n",
       "    <tr>\n",
       "      <th>2</th>\n",
       "      <td>30308357</td>\n",
       "      <td>Female</td>\n",
       "      <td>1984-03-11</td>\n",
       "      <td>TN</td>\n",
       "      <td>7.986315e+09</td>\n",
       "      <td>Silver</td>\n",
       "      <td>53522022</td>\n",
       "      <td>Other driver error</td>\n",
       "      <td>2018-02-02</td>\n",
       "      <td>Auto</td>\n",
       "      <td>No</td>\n",
       "      <td>Material only</td>\n",
       "      <td>3369.5</td>\n",
       "      <td>1.0</td>\n",
       "      <td>Yes</td>\n",
       "    </tr>\n",
       "    <tr>\n",
       "      <th>3</th>\n",
       "      <td>30308357</td>\n",
       "      <td>Female</td>\n",
       "      <td>1984-03-11</td>\n",
       "      <td>TN</td>\n",
       "      <td>7.986315e+09</td>\n",
       "      <td>Silver</td>\n",
       "      <td>63017412</td>\n",
       "      <td>Driver error</td>\n",
       "      <td>2018-04-04</td>\n",
       "      <td>Auto</td>\n",
       "      <td>No</td>\n",
       "      <td>Material only</td>\n",
       "      <td>1950.0</td>\n",
       "      <td>6.0</td>\n",
       "      <td>No</td>\n",
       "    </tr>\n",
       "    <tr>\n",
       "      <th>4</th>\n",
       "      <td>47830476</td>\n",
       "      <td>Female</td>\n",
       "      <td>1986-05-01</td>\n",
       "      <td>MA</td>\n",
       "      <td>4.131878e+09</td>\n",
       "      <td>Silver</td>\n",
       "      <td>13015401</td>\n",
       "      <td>Natural causes</td>\n",
       "      <td>2018-06-17</td>\n",
       "      <td>Auto</td>\n",
       "      <td>No</td>\n",
       "      <td>Material only</td>\n",
       "      <td>1680.0</td>\n",
       "      <td>1.0</td>\n",
       "      <td>No</td>\n",
       "    </tr>\n",
       "  </tbody>\n",
       "</table>\n",
       "</div>"
      ],
      "text/plain": [
       "   customer_id  gender DateOfBirth State       Contact   Segment  claim_id  \\\n",
       "0     21868593  Female  1979-01-12    VT  7.899168e+09  Platinum  54004764   \n",
       "1     75740424  Female  1970-01-13    ME  2.655431e+09    Silver  33985796   \n",
       "2     30308357  Female  1984-03-11    TN  7.986315e+09    Silver  53522022   \n",
       "3     30308357  Female  1984-03-11    TN  7.986315e+09    Silver  63017412   \n",
       "4     47830476  Female  1986-05-01    MA  4.131878e+09    Silver  13015401   \n",
       "\n",
       "       incident_cause claim_date claim_area police_report     claim_type  \\\n",
       "0        Driver error 2017-11-27       Auto            No  Material only   \n",
       "1               Crime 2018-10-03       Home       Unknown  Material only   \n",
       "2  Other driver error 2018-02-02       Auto            No  Material only   \n",
       "3        Driver error 2018-04-04       Auto            No  Material only   \n",
       "4      Natural causes 2018-06-17       Auto            No  Material only   \n",
       "\n",
       "   claim_amount  total_policy_claims fraudulent  \n",
       "0        2980.0                  1.0         No  \n",
       "1        2980.0                  3.0         No  \n",
       "2        3369.5                  1.0        Yes  \n",
       "3        1950.0                  6.0         No  \n",
       "4        1680.0                  1.0         No  "
      ]
     },
     "execution_count": 19,
     "metadata": {},
     "output_type": "execute_result"
    }
   ],
   "source": [
    "cust_claims.head()"
   ]
  },
  {
   "cell_type": "code",
   "execution_count": 20,
   "id": "8b36d4a3-c2e3-47df-b434-141d3a222974",
   "metadata": {},
   "outputs": [
    {
     "name": "stdout",
     "output_type": "stream",
     "text": [
      "<class 'pandas.core.frame.DataFrame'>\n",
      "RangeIndex: 1085 entries, 0 to 1084\n",
      "Data columns (total 15 columns):\n",
      " #   Column               Non-Null Count  Dtype         \n",
      "---  ------               --------------  -----         \n",
      " 0   customer_id          1085 non-null   int64         \n",
      " 1   gender               1085 non-null   object        \n",
      " 2   DateOfBirth          1085 non-null   datetime64[ns]\n",
      " 3   State                1085 non-null   object        \n",
      " 4   Contact              1085 non-null   float64       \n",
      " 5   Segment              1085 non-null   object        \n",
      " 6   claim_id             1085 non-null   int64         \n",
      " 7   incident_cause       1085 non-null   object        \n",
      " 8   claim_date           1085 non-null   datetime64[ns]\n",
      " 9   claim_area           1085 non-null   object        \n",
      " 10  police_report        1085 non-null   object        \n",
      " 11  claim_type           1085 non-null   object        \n",
      " 12  claim_amount         1020 non-null   float64       \n",
      " 13  total_policy_claims  1075 non-null   float64       \n",
      " 14  fraudulent           1085 non-null   object        \n",
      "dtypes: datetime64[ns](2), float64(3), int64(2), object(8)\n",
      "memory usage: 127.3+ KB\n"
     ]
    }
   ],
   "source": [
    "cust_claims.info()"
   ]
  },
  {
   "cell_type": "code",
   "execution_count": 21,
   "id": "d9b68754-2d4b-42b2-8a35-fcfa96713507",
   "metadata": {},
   "outputs": [],
   "source": [
    "## Q4  Of all the injury claims, some of them have gone unreported with the police. Create an alert flag (1,0) for all such claims.\n",
    "cust_claims['report_flag'] = np.where(cust_claims.police_report == 'Yes', 1, 0)"
   ]
  },
  {
   "cell_type": "code",
   "execution_count": 22,
   "id": "6ecd91b6-4b5f-4cd3-9ada-a41f90895d57",
   "metadata": {},
   "outputs": [
    {
     "data": {
      "text/html": [
       "<div>\n",
       "<style scoped>\n",
       "    .dataframe tbody tr th:only-of-type {\n",
       "        vertical-align: middle;\n",
       "    }\n",
       "\n",
       "    .dataframe tbody tr th {\n",
       "        vertical-align: top;\n",
       "    }\n",
       "\n",
       "    .dataframe thead th {\n",
       "        text-align: right;\n",
       "    }\n",
       "</style>\n",
       "<table border=\"1\" class=\"dataframe\">\n",
       "  <thead>\n",
       "    <tr style=\"text-align: right;\">\n",
       "      <th></th>\n",
       "      <th>customer_id</th>\n",
       "      <th>gender</th>\n",
       "      <th>DateOfBirth</th>\n",
       "      <th>State</th>\n",
       "      <th>Contact</th>\n",
       "      <th>Segment</th>\n",
       "      <th>claim_id</th>\n",
       "      <th>incident_cause</th>\n",
       "      <th>claim_date</th>\n",
       "      <th>claim_area</th>\n",
       "      <th>police_report</th>\n",
       "      <th>claim_type</th>\n",
       "      <th>claim_amount</th>\n",
       "      <th>total_policy_claims</th>\n",
       "      <th>fraudulent</th>\n",
       "      <th>report_flag</th>\n",
       "    </tr>\n",
       "  </thead>\n",
       "  <tbody>\n",
       "    <tr>\n",
       "      <th>0</th>\n",
       "      <td>21868593</td>\n",
       "      <td>Female</td>\n",
       "      <td>1979-01-12</td>\n",
       "      <td>VT</td>\n",
       "      <td>7.899168e+09</td>\n",
       "      <td>Platinum</td>\n",
       "      <td>54004764</td>\n",
       "      <td>Driver error</td>\n",
       "      <td>2017-11-27</td>\n",
       "      <td>Auto</td>\n",
       "      <td>No</td>\n",
       "      <td>Material only</td>\n",
       "      <td>2980.0</td>\n",
       "      <td>1.0</td>\n",
       "      <td>No</td>\n",
       "      <td>0</td>\n",
       "    </tr>\n",
       "    <tr>\n",
       "      <th>1</th>\n",
       "      <td>75740424</td>\n",
       "      <td>Female</td>\n",
       "      <td>1970-01-13</td>\n",
       "      <td>ME</td>\n",
       "      <td>2.655431e+09</td>\n",
       "      <td>Silver</td>\n",
       "      <td>33985796</td>\n",
       "      <td>Crime</td>\n",
       "      <td>2018-10-03</td>\n",
       "      <td>Home</td>\n",
       "      <td>Unknown</td>\n",
       "      <td>Material only</td>\n",
       "      <td>2980.0</td>\n",
       "      <td>3.0</td>\n",
       "      <td>No</td>\n",
       "      <td>0</td>\n",
       "    </tr>\n",
       "    <tr>\n",
       "      <th>2</th>\n",
       "      <td>30308357</td>\n",
       "      <td>Female</td>\n",
       "      <td>1984-03-11</td>\n",
       "      <td>TN</td>\n",
       "      <td>7.986315e+09</td>\n",
       "      <td>Silver</td>\n",
       "      <td>53522022</td>\n",
       "      <td>Other driver error</td>\n",
       "      <td>2018-02-02</td>\n",
       "      <td>Auto</td>\n",
       "      <td>No</td>\n",
       "      <td>Material only</td>\n",
       "      <td>3369.5</td>\n",
       "      <td>1.0</td>\n",
       "      <td>Yes</td>\n",
       "      <td>0</td>\n",
       "    </tr>\n",
       "    <tr>\n",
       "      <th>3</th>\n",
       "      <td>30308357</td>\n",
       "      <td>Female</td>\n",
       "      <td>1984-03-11</td>\n",
       "      <td>TN</td>\n",
       "      <td>7.986315e+09</td>\n",
       "      <td>Silver</td>\n",
       "      <td>63017412</td>\n",
       "      <td>Driver error</td>\n",
       "      <td>2018-04-04</td>\n",
       "      <td>Auto</td>\n",
       "      <td>No</td>\n",
       "      <td>Material only</td>\n",
       "      <td>1950.0</td>\n",
       "      <td>6.0</td>\n",
       "      <td>No</td>\n",
       "      <td>0</td>\n",
       "    </tr>\n",
       "    <tr>\n",
       "      <th>4</th>\n",
       "      <td>47830476</td>\n",
       "      <td>Female</td>\n",
       "      <td>1986-05-01</td>\n",
       "      <td>MA</td>\n",
       "      <td>4.131878e+09</td>\n",
       "      <td>Silver</td>\n",
       "      <td>13015401</td>\n",
       "      <td>Natural causes</td>\n",
       "      <td>2018-06-17</td>\n",
       "      <td>Auto</td>\n",
       "      <td>No</td>\n",
       "      <td>Material only</td>\n",
       "      <td>1680.0</td>\n",
       "      <td>1.0</td>\n",
       "      <td>No</td>\n",
       "      <td>0</td>\n",
       "    </tr>\n",
       "  </tbody>\n",
       "</table>\n",
       "</div>"
      ],
      "text/plain": [
       "   customer_id  gender DateOfBirth State       Contact   Segment  claim_id  \\\n",
       "0     21868593  Female  1979-01-12    VT  7.899168e+09  Platinum  54004764   \n",
       "1     75740424  Female  1970-01-13    ME  2.655431e+09    Silver  33985796   \n",
       "2     30308357  Female  1984-03-11    TN  7.986315e+09    Silver  53522022   \n",
       "3     30308357  Female  1984-03-11    TN  7.986315e+09    Silver  63017412   \n",
       "4     47830476  Female  1986-05-01    MA  4.131878e+09    Silver  13015401   \n",
       "\n",
       "       incident_cause claim_date claim_area police_report     claim_type  \\\n",
       "0        Driver error 2017-11-27       Auto            No  Material only   \n",
       "1               Crime 2018-10-03       Home       Unknown  Material only   \n",
       "2  Other driver error 2018-02-02       Auto            No  Material only   \n",
       "3        Driver error 2018-04-04       Auto            No  Material only   \n",
       "4      Natural causes 2018-06-17       Auto            No  Material only   \n",
       "\n",
       "   claim_amount  total_policy_claims fraudulent  report_flag  \n",
       "0        2980.0                  1.0         No            0  \n",
       "1        2980.0                  3.0         No            0  \n",
       "2        3369.5                  1.0        Yes            0  \n",
       "3        1950.0                  6.0         No            0  \n",
       "4        1680.0                  1.0         No            0  "
      ]
     },
     "execution_count": 22,
     "metadata": {},
     "output_type": "execute_result"
    }
   ],
   "source": [
    "cust_claims.head()"
   ]
  },
  {
   "cell_type": "code",
   "execution_count": null,
   "id": "e60219a8-9906-4631-9464-ec4ce17ccbb9",
   "metadata": {},
   "outputs": [],
   "source": [
    "## Q5 One customer can claim for insurance more than once and in each claim, multiple categories of claims can be involved. However, customer ID \n",
    "## should remain unique. \n",
    "## Retain the most recent observation and delete any duplicated records in the data based on the customer ID column"
   ]
  },
  {
   "cell_type": "code",
   "execution_count": 23,
   "id": "f3ea242d-48f2-4b8c-a63b-e09a7c66febe",
   "metadata": {},
   "outputs": [],
   "source": [
    "cust_claims = cust_claims.sort_values(by = 'claim_date', ascending=False)"
   ]
  },
  {
   "cell_type": "code",
   "execution_count": 24,
   "id": "0977fc6e-edc2-4db7-91ad-a642108c9e06",
   "metadata": {},
   "outputs": [],
   "source": [
    "## this will drop the index of previous dataframe and create default index starting from 0\n",
    "cust_claims.reset_index(drop=True,inplace=True)"
   ]
  },
  {
   "cell_type": "code",
   "execution_count": 25,
   "id": "8eb3c098-877b-4317-955d-69c74dc46f8f",
   "metadata": {},
   "outputs": [],
   "source": [
    "cust_claims.drop_duplicates('customer_id', inplace=True)"
   ]
  },
  {
   "cell_type": "code",
   "execution_count": 26,
   "id": "6130d851-5b75-4a5a-af85-0cd916af72ba",
   "metadata": {},
   "outputs": [
    {
     "data": {
      "text/html": [
       "<div>\n",
       "<style scoped>\n",
       "    .dataframe tbody tr th:only-of-type {\n",
       "        vertical-align: middle;\n",
       "    }\n",
       "\n",
       "    .dataframe tbody tr th {\n",
       "        vertical-align: top;\n",
       "    }\n",
       "\n",
       "    .dataframe thead th {\n",
       "        text-align: right;\n",
       "    }\n",
       "</style>\n",
       "<table border=\"1\" class=\"dataframe\">\n",
       "  <thead>\n",
       "    <tr style=\"text-align: right;\">\n",
       "      <th></th>\n",
       "      <th>customer_id</th>\n",
       "      <th>gender</th>\n",
       "      <th>DateOfBirth</th>\n",
       "      <th>State</th>\n",
       "      <th>Contact</th>\n",
       "      <th>Segment</th>\n",
       "      <th>claim_id</th>\n",
       "      <th>incident_cause</th>\n",
       "      <th>claim_date</th>\n",
       "      <th>claim_area</th>\n",
       "      <th>police_report</th>\n",
       "      <th>claim_type</th>\n",
       "      <th>claim_amount</th>\n",
       "      <th>total_policy_claims</th>\n",
       "      <th>fraudulent</th>\n",
       "      <th>report_flag</th>\n",
       "    </tr>\n",
       "  </thead>\n",
       "  <tbody>\n",
       "    <tr>\n",
       "      <th>0</th>\n",
       "      <td>93915431</td>\n",
       "      <td>Male</td>\n",
       "      <td>1967-09-08</td>\n",
       "      <td>ME</td>\n",
       "      <td>1.347852e+09</td>\n",
       "      <td>Gold</td>\n",
       "      <td>99775483</td>\n",
       "      <td>Other causes</td>\n",
       "      <td>2018-10-30</td>\n",
       "      <td>Auto</td>\n",
       "      <td>No</td>\n",
       "      <td>Material and injury</td>\n",
       "      <td>42124.5</td>\n",
       "      <td>1.0</td>\n",
       "      <td>Yes</td>\n",
       "      <td>0</td>\n",
       "    </tr>\n",
       "    <tr>\n",
       "      <th>1</th>\n",
       "      <td>38011078</td>\n",
       "      <td>Female</td>\n",
       "      <td>1976-05-20</td>\n",
       "      <td>NE</td>\n",
       "      <td>2.711231e+09</td>\n",
       "      <td>Gold</td>\n",
       "      <td>98795403</td>\n",
       "      <td>Crime</td>\n",
       "      <td>2018-10-30</td>\n",
       "      <td>Auto</td>\n",
       "      <td>Unknown</td>\n",
       "      <td>Material only</td>\n",
       "      <td>1940.0</td>\n",
       "      <td>1.0</td>\n",
       "      <td>No</td>\n",
       "      <td>0</td>\n",
       "    </tr>\n",
       "    <tr>\n",
       "      <th>2</th>\n",
       "      <td>58451506</td>\n",
       "      <td>Male</td>\n",
       "      <td>1968-04-22</td>\n",
       "      <td>FL</td>\n",
       "      <td>6.735748e+09</td>\n",
       "      <td>Gold</td>\n",
       "      <td>43042986</td>\n",
       "      <td>Natural causes</td>\n",
       "      <td>2018-10-30</td>\n",
       "      <td>Auto</td>\n",
       "      <td>No</td>\n",
       "      <td>Material only</td>\n",
       "      <td>2420.0</td>\n",
       "      <td>1.0</td>\n",
       "      <td>No</td>\n",
       "      <td>0</td>\n",
       "    </tr>\n",
       "    <tr>\n",
       "      <th>3</th>\n",
       "      <td>46710738</td>\n",
       "      <td>Male</td>\n",
       "      <td>1977-04-28</td>\n",
       "      <td>MO</td>\n",
       "      <td>9.628349e+09</td>\n",
       "      <td>Gold</td>\n",
       "      <td>74761374</td>\n",
       "      <td>Driver error</td>\n",
       "      <td>2018-10-30</td>\n",
       "      <td>Auto</td>\n",
       "      <td>No</td>\n",
       "      <td>Material only</td>\n",
       "      <td>1830.0</td>\n",
       "      <td>1.0</td>\n",
       "      <td>No</td>\n",
       "      <td>0</td>\n",
       "    </tr>\n",
       "    <tr>\n",
       "      <th>4</th>\n",
       "      <td>77510822</td>\n",
       "      <td>Female</td>\n",
       "      <td>1986-03-18</td>\n",
       "      <td>AK</td>\n",
       "      <td>4.369347e+09</td>\n",
       "      <td>Silver</td>\n",
       "      <td>87329176</td>\n",
       "      <td>Other driver error</td>\n",
       "      <td>2018-10-30</td>\n",
       "      <td>Auto</td>\n",
       "      <td>Unknown</td>\n",
       "      <td>Material only</td>\n",
       "      <td>NaN</td>\n",
       "      <td>2.0</td>\n",
       "      <td>No</td>\n",
       "      <td>0</td>\n",
       "    </tr>\n",
       "    <tr>\n",
       "      <th>...</th>\n",
       "      <td>...</td>\n",
       "      <td>...</td>\n",
       "      <td>...</td>\n",
       "      <td>...</td>\n",
       "      <td>...</td>\n",
       "      <td>...</td>\n",
       "      <td>...</td>\n",
       "      <td>...</td>\n",
       "      <td>...</td>\n",
       "      <td>...</td>\n",
       "      <td>...</td>\n",
       "      <td>...</td>\n",
       "      <td>...</td>\n",
       "      <td>...</td>\n",
       "      <td>...</td>\n",
       "      <td>...</td>\n",
       "    </tr>\n",
       "    <tr>\n",
       "      <th>1080</th>\n",
       "      <td>77219712</td>\n",
       "      <td>Female</td>\n",
       "      <td>1999-08-05</td>\n",
       "      <td>NH</td>\n",
       "      <td>6.495929e+09</td>\n",
       "      <td>Platinum</td>\n",
       "      <td>61374372</td>\n",
       "      <td>Other causes</td>\n",
       "      <td>2017-01-01</td>\n",
       "      <td>Auto</td>\n",
       "      <td>No</td>\n",
       "      <td>Material and injury</td>\n",
       "      <td>20200.0</td>\n",
       "      <td>1.0</td>\n",
       "      <td>No</td>\n",
       "      <td>0</td>\n",
       "    </tr>\n",
       "    <tr>\n",
       "      <th>1081</th>\n",
       "      <td>42664554</td>\n",
       "      <td>Female</td>\n",
       "      <td>1993-08-13</td>\n",
       "      <td>TN</td>\n",
       "      <td>3.969733e+09</td>\n",
       "      <td>Gold</td>\n",
       "      <td>42280334</td>\n",
       "      <td>Other causes</td>\n",
       "      <td>2017-01-01</td>\n",
       "      <td>Auto</td>\n",
       "      <td>No</td>\n",
       "      <td>Injury only</td>\n",
       "      <td>27670.0</td>\n",
       "      <td>1.0</td>\n",
       "      <td>No</td>\n",
       "      <td>0</td>\n",
       "    </tr>\n",
       "    <tr>\n",
       "      <th>1082</th>\n",
       "      <td>64840478</td>\n",
       "      <td>Female</td>\n",
       "      <td>1974-02-14</td>\n",
       "      <td>NM</td>\n",
       "      <td>9.181747e+09</td>\n",
       "      <td>Silver</td>\n",
       "      <td>23636125</td>\n",
       "      <td>Other driver error</td>\n",
       "      <td>2017-01-01</td>\n",
       "      <td>Auto</td>\n",
       "      <td>Unknown</td>\n",
       "      <td>Material and injury</td>\n",
       "      <td>17290.0</td>\n",
       "      <td>1.0</td>\n",
       "      <td>No</td>\n",
       "      <td>0</td>\n",
       "    </tr>\n",
       "    <tr>\n",
       "      <th>1083</th>\n",
       "      <td>74155265</td>\n",
       "      <td>Male</td>\n",
       "      <td>1985-11-16</td>\n",
       "      <td>TX</td>\n",
       "      <td>3.927395e+09</td>\n",
       "      <td>Gold</td>\n",
       "      <td>25647821</td>\n",
       "      <td>Natural causes</td>\n",
       "      <td>2017-01-01</td>\n",
       "      <td>Auto</td>\n",
       "      <td>No</td>\n",
       "      <td>Material only</td>\n",
       "      <td>2080.0</td>\n",
       "      <td>1.0</td>\n",
       "      <td>No</td>\n",
       "      <td>0</td>\n",
       "    </tr>\n",
       "    <tr>\n",
       "      <th>1084</th>\n",
       "      <td>61745840</td>\n",
       "      <td>Female</td>\n",
       "      <td>1994-07-24</td>\n",
       "      <td>MA</td>\n",
       "      <td>6.126845e+09</td>\n",
       "      <td>Platinum</td>\n",
       "      <td>90591192</td>\n",
       "      <td>Other driver error</td>\n",
       "      <td>2017-01-01</td>\n",
       "      <td>Home</td>\n",
       "      <td>No</td>\n",
       "      <td>Material and injury</td>\n",
       "      <td>30930.0</td>\n",
       "      <td>1.0</td>\n",
       "      <td>No</td>\n",
       "      <td>0</td>\n",
       "    </tr>\n",
       "  </tbody>\n",
       "</table>\n",
       "<p>1078 rows × 16 columns</p>\n",
       "</div>"
      ],
      "text/plain": [
       "      customer_id  gender DateOfBirth State       Contact   Segment  claim_id  \\\n",
       "0        93915431    Male  1967-09-08    ME  1.347852e+09      Gold  99775483   \n",
       "1        38011078  Female  1976-05-20    NE  2.711231e+09      Gold  98795403   \n",
       "2        58451506    Male  1968-04-22    FL  6.735748e+09      Gold  43042986   \n",
       "3        46710738    Male  1977-04-28    MO  9.628349e+09      Gold  74761374   \n",
       "4        77510822  Female  1986-03-18    AK  4.369347e+09    Silver  87329176   \n",
       "...           ...     ...         ...   ...           ...       ...       ...   \n",
       "1080     77219712  Female  1999-08-05    NH  6.495929e+09  Platinum  61374372   \n",
       "1081     42664554  Female  1993-08-13    TN  3.969733e+09      Gold  42280334   \n",
       "1082     64840478  Female  1974-02-14    NM  9.181747e+09    Silver  23636125   \n",
       "1083     74155265    Male  1985-11-16    TX  3.927395e+09      Gold  25647821   \n",
       "1084     61745840  Female  1994-07-24    MA  6.126845e+09  Platinum  90591192   \n",
       "\n",
       "          incident_cause claim_date claim_area police_report  \\\n",
       "0           Other causes 2018-10-30       Auto            No   \n",
       "1                  Crime 2018-10-30       Auto       Unknown   \n",
       "2         Natural causes 2018-10-30       Auto            No   \n",
       "3           Driver error 2018-10-30       Auto            No   \n",
       "4     Other driver error 2018-10-30       Auto       Unknown   \n",
       "...                  ...        ...        ...           ...   \n",
       "1080        Other causes 2017-01-01       Auto            No   \n",
       "1081        Other causes 2017-01-01       Auto            No   \n",
       "1082  Other driver error 2017-01-01       Auto       Unknown   \n",
       "1083      Natural causes 2017-01-01       Auto            No   \n",
       "1084  Other driver error 2017-01-01       Home            No   \n",
       "\n",
       "               claim_type  claim_amount  total_policy_claims fraudulent  \\\n",
       "0     Material and injury       42124.5                  1.0        Yes   \n",
       "1           Material only        1940.0                  1.0         No   \n",
       "2           Material only        2420.0                  1.0         No   \n",
       "3           Material only        1830.0                  1.0         No   \n",
       "4           Material only           NaN                  2.0         No   \n",
       "...                   ...           ...                  ...        ...   \n",
       "1080  Material and injury       20200.0                  1.0         No   \n",
       "1081          Injury only       27670.0                  1.0         No   \n",
       "1082  Material and injury       17290.0                  1.0         No   \n",
       "1083        Material only        2080.0                  1.0         No   \n",
       "1084  Material and injury       30930.0                  1.0         No   \n",
       "\n",
       "      report_flag  \n",
       "0               0  \n",
       "1               0  \n",
       "2               0  \n",
       "3               0  \n",
       "4               0  \n",
       "...           ...  \n",
       "1080            0  \n",
       "1081            0  \n",
       "1082            0  \n",
       "1083            0  \n",
       "1084            0  \n",
       "\n",
       "[1078 rows x 16 columns]"
      ]
     },
     "execution_count": 26,
     "metadata": {},
     "output_type": "execute_result"
    }
   ],
   "source": [
    "cust_claims"
   ]
  },
  {
   "cell_type": "code",
   "execution_count": 139,
   "id": "55801333-2022-4069-bfbf-3c6ee3d1c1ae",
   "metadata": {},
   "outputs": [],
   "source": [
    "## Q6. Check for missing values and impute the missing values with an appropriate value. (mean for continuous and mode for categorical)"
   ]
  },
  {
   "cell_type": "code",
   "execution_count": 27,
   "id": "05754736-acec-4287-8c89-4d48a8e5b74e",
   "metadata": {},
   "outputs": [
    {
     "data": {
      "text/html": [
       "<div>\n",
       "<style scoped>\n",
       "    .dataframe tbody tr th:only-of-type {\n",
       "        vertical-align: middle;\n",
       "    }\n",
       "\n",
       "    .dataframe tbody tr th {\n",
       "        vertical-align: top;\n",
       "    }\n",
       "\n",
       "    .dataframe thead th {\n",
       "        text-align: right;\n",
       "    }\n",
       "</style>\n",
       "<table border=\"1\" class=\"dataframe\">\n",
       "  <thead>\n",
       "    <tr style=\"text-align: right;\">\n",
       "      <th></th>\n",
       "      <th>customer_id</th>\n",
       "      <th>gender</th>\n",
       "      <th>DateOfBirth</th>\n",
       "      <th>State</th>\n",
       "      <th>Contact</th>\n",
       "      <th>Segment</th>\n",
       "      <th>claim_id</th>\n",
       "      <th>incident_cause</th>\n",
       "      <th>claim_date</th>\n",
       "      <th>claim_area</th>\n",
       "      <th>police_report</th>\n",
       "      <th>claim_type</th>\n",
       "      <th>claim_amount</th>\n",
       "      <th>total_policy_claims</th>\n",
       "      <th>fraudulent</th>\n",
       "      <th>report_flag</th>\n",
       "    </tr>\n",
       "  </thead>\n",
       "  <tbody>\n",
       "    <tr>\n",
       "      <th>4</th>\n",
       "      <td>77510822</td>\n",
       "      <td>Female</td>\n",
       "      <td>1986-03-18</td>\n",
       "      <td>AK</td>\n",
       "      <td>4.369347e+09</td>\n",
       "      <td>Silver</td>\n",
       "      <td>87329176</td>\n",
       "      <td>Other driver error</td>\n",
       "      <td>2018-10-30</td>\n",
       "      <td>Auto</td>\n",
       "      <td>Unknown</td>\n",
       "      <td>Material only</td>\n",
       "      <td>NaN</td>\n",
       "      <td>2.0</td>\n",
       "      <td>No</td>\n",
       "      <td>0</td>\n",
       "    </tr>\n",
       "    <tr>\n",
       "      <th>7</th>\n",
       "      <td>28932340</td>\n",
       "      <td>Male</td>\n",
       "      <td>1996-01-05</td>\n",
       "      <td>LA</td>\n",
       "      <td>6.522658e+09</td>\n",
       "      <td>Gold</td>\n",
       "      <td>25213498</td>\n",
       "      <td>Driver error</td>\n",
       "      <td>2018-10-30</td>\n",
       "      <td>Auto</td>\n",
       "      <td>Unknown</td>\n",
       "      <td>Material only</td>\n",
       "      <td>NaN</td>\n",
       "      <td>1.0</td>\n",
       "      <td>No</td>\n",
       "      <td>0</td>\n",
       "    </tr>\n",
       "    <tr>\n",
       "      <th>15</th>\n",
       "      <td>18818283</td>\n",
       "      <td>Female</td>\n",
       "      <td>1997-05-03</td>\n",
       "      <td>CT</td>\n",
       "      <td>1.791366e+09</td>\n",
       "      <td>Platinum</td>\n",
       "      <td>12799217</td>\n",
       "      <td>Natural causes</td>\n",
       "      <td>2018-10-23</td>\n",
       "      <td>Auto</td>\n",
       "      <td>No</td>\n",
       "      <td>Material only</td>\n",
       "      <td>NaN</td>\n",
       "      <td>3.0</td>\n",
       "      <td>No</td>\n",
       "      <td>0</td>\n",
       "    </tr>\n",
       "    <tr>\n",
       "      <th>18</th>\n",
       "      <td>9339845</td>\n",
       "      <td>Male</td>\n",
       "      <td>1969-07-31</td>\n",
       "      <td>MO</td>\n",
       "      <td>9.762940e+09</td>\n",
       "      <td>Gold</td>\n",
       "      <td>61586929</td>\n",
       "      <td>Driver error</td>\n",
       "      <td>2018-10-23</td>\n",
       "      <td>Auto</td>\n",
       "      <td>No</td>\n",
       "      <td>Material only</td>\n",
       "      <td>NaN</td>\n",
       "      <td>1.0</td>\n",
       "      <td>No</td>\n",
       "      <td>0</td>\n",
       "    </tr>\n",
       "    <tr>\n",
       "      <th>59</th>\n",
       "      <td>29130403</td>\n",
       "      <td>Male</td>\n",
       "      <td>1998-12-27</td>\n",
       "      <td>VT</td>\n",
       "      <td>4.574212e+09</td>\n",
       "      <td>Silver</td>\n",
       "      <td>40759519</td>\n",
       "      <td>Driver error</td>\n",
       "      <td>2018-10-03</td>\n",
       "      <td>Auto</td>\n",
       "      <td>No</td>\n",
       "      <td>Material only</td>\n",
       "      <td>NaN</td>\n",
       "      <td>1.0</td>\n",
       "      <td>Yes</td>\n",
       "      <td>0</td>\n",
       "    </tr>\n",
       "    <tr>\n",
       "      <th>...</th>\n",
       "      <td>...</td>\n",
       "      <td>...</td>\n",
       "      <td>...</td>\n",
       "      <td>...</td>\n",
       "      <td>...</td>\n",
       "      <td>...</td>\n",
       "      <td>...</td>\n",
       "      <td>...</td>\n",
       "      <td>...</td>\n",
       "      <td>...</td>\n",
       "      <td>...</td>\n",
       "      <td>...</td>\n",
       "      <td>...</td>\n",
       "      <td>...</td>\n",
       "      <td>...</td>\n",
       "      <td>...</td>\n",
       "    </tr>\n",
       "    <tr>\n",
       "      <th>1016</th>\n",
       "      <td>75584003</td>\n",
       "      <td>Female</td>\n",
       "      <td>1967-04-22</td>\n",
       "      <td>OK</td>\n",
       "      <td>7.234183e+09</td>\n",
       "      <td>Silver</td>\n",
       "      <td>32630720</td>\n",
       "      <td>Crime</td>\n",
       "      <td>2017-02-03</td>\n",
       "      <td>Auto</td>\n",
       "      <td>No</td>\n",
       "      <td>Material only</td>\n",
       "      <td>NaN</td>\n",
       "      <td>1.0</td>\n",
       "      <td>No</td>\n",
       "      <td>0</td>\n",
       "    </tr>\n",
       "    <tr>\n",
       "      <th>1030</th>\n",
       "      <td>51842360</td>\n",
       "      <td>Female</td>\n",
       "      <td>1976-12-03</td>\n",
       "      <td>AK</td>\n",
       "      <td>1.474759e+09</td>\n",
       "      <td>Platinum</td>\n",
       "      <td>75624437</td>\n",
       "      <td>Other causes</td>\n",
       "      <td>2017-01-27</td>\n",
       "      <td>Home</td>\n",
       "      <td>No</td>\n",
       "      <td>Material only</td>\n",
       "      <td>1130.0</td>\n",
       "      <td>NaN</td>\n",
       "      <td>No</td>\n",
       "      <td>0</td>\n",
       "    </tr>\n",
       "    <tr>\n",
       "      <th>1034</th>\n",
       "      <td>81634435</td>\n",
       "      <td>Male</td>\n",
       "      <td>1988-07-30</td>\n",
       "      <td>AR</td>\n",
       "      <td>9.376756e+09</td>\n",
       "      <td>Gold</td>\n",
       "      <td>93043462</td>\n",
       "      <td>Other driver error</td>\n",
       "      <td>2017-01-27</td>\n",
       "      <td>Home</td>\n",
       "      <td>Unknown</td>\n",
       "      <td>Material and injury</td>\n",
       "      <td>NaN</td>\n",
       "      <td>1.0</td>\n",
       "      <td>No</td>\n",
       "      <td>0</td>\n",
       "    </tr>\n",
       "    <tr>\n",
       "      <th>1036</th>\n",
       "      <td>23116437</td>\n",
       "      <td>Female</td>\n",
       "      <td>1965-06-06</td>\n",
       "      <td>KY</td>\n",
       "      <td>6.253252e+09</td>\n",
       "      <td>Silver</td>\n",
       "      <td>49818123</td>\n",
       "      <td>Other driver error</td>\n",
       "      <td>2017-01-21</td>\n",
       "      <td>Auto</td>\n",
       "      <td>No</td>\n",
       "      <td>Material only</td>\n",
       "      <td>NaN</td>\n",
       "      <td>1.0</td>\n",
       "      <td>No</td>\n",
       "      <td>0</td>\n",
       "    </tr>\n",
       "    <tr>\n",
       "      <th>1045</th>\n",
       "      <td>47228798</td>\n",
       "      <td>Male</td>\n",
       "      <td>1974-05-18</td>\n",
       "      <td>HI</td>\n",
       "      <td>3.646344e+09</td>\n",
       "      <td>Platinum</td>\n",
       "      <td>35407789</td>\n",
       "      <td>Crime</td>\n",
       "      <td>2017-01-21</td>\n",
       "      <td>Auto</td>\n",
       "      <td>Unknown</td>\n",
       "      <td>Material only</td>\n",
       "      <td>NaN</td>\n",
       "      <td>1.0</td>\n",
       "      <td>Yes</td>\n",
       "      <td>0</td>\n",
       "    </tr>\n",
       "  </tbody>\n",
       "</table>\n",
       "<p>74 rows × 16 columns</p>\n",
       "</div>"
      ],
      "text/plain": [
       "      customer_id  gender DateOfBirth State       Contact   Segment  claim_id  \\\n",
       "4        77510822  Female  1986-03-18    AK  4.369347e+09    Silver  87329176   \n",
       "7        28932340    Male  1996-01-05    LA  6.522658e+09      Gold  25213498   \n",
       "15       18818283  Female  1997-05-03    CT  1.791366e+09  Platinum  12799217   \n",
       "18        9339845    Male  1969-07-31    MO  9.762940e+09      Gold  61586929   \n",
       "59       29130403    Male  1998-12-27    VT  4.574212e+09    Silver  40759519   \n",
       "...           ...     ...         ...   ...           ...       ...       ...   \n",
       "1016     75584003  Female  1967-04-22    OK  7.234183e+09    Silver  32630720   \n",
       "1030     51842360  Female  1976-12-03    AK  1.474759e+09  Platinum  75624437   \n",
       "1034     81634435    Male  1988-07-30    AR  9.376756e+09      Gold  93043462   \n",
       "1036     23116437  Female  1965-06-06    KY  6.253252e+09    Silver  49818123   \n",
       "1045     47228798    Male  1974-05-18    HI  3.646344e+09  Platinum  35407789   \n",
       "\n",
       "          incident_cause claim_date claim_area police_report  \\\n",
       "4     Other driver error 2018-10-30       Auto       Unknown   \n",
       "7           Driver error 2018-10-30       Auto       Unknown   \n",
       "15        Natural causes 2018-10-23       Auto            No   \n",
       "18          Driver error 2018-10-23       Auto            No   \n",
       "59          Driver error 2018-10-03       Auto            No   \n",
       "...                  ...        ...        ...           ...   \n",
       "1016               Crime 2017-02-03       Auto            No   \n",
       "1030        Other causes 2017-01-27       Home            No   \n",
       "1034  Other driver error 2017-01-27       Home       Unknown   \n",
       "1036  Other driver error 2017-01-21       Auto            No   \n",
       "1045               Crime 2017-01-21       Auto       Unknown   \n",
       "\n",
       "               claim_type  claim_amount  total_policy_claims fraudulent  \\\n",
       "4           Material only           NaN                  2.0         No   \n",
       "7           Material only           NaN                  1.0         No   \n",
       "15          Material only           NaN                  3.0         No   \n",
       "18          Material only           NaN                  1.0         No   \n",
       "59          Material only           NaN                  1.0        Yes   \n",
       "...                   ...           ...                  ...        ...   \n",
       "1016        Material only           NaN                  1.0         No   \n",
       "1030        Material only        1130.0                  NaN         No   \n",
       "1034  Material and injury           NaN                  1.0         No   \n",
       "1036        Material only           NaN                  1.0         No   \n",
       "1045        Material only           NaN                  1.0        Yes   \n",
       "\n",
       "      report_flag  \n",
       "4               0  \n",
       "7               0  \n",
       "15              0  \n",
       "18              0  \n",
       "59              0  \n",
       "...           ...  \n",
       "1016            0  \n",
       "1030            0  \n",
       "1034            0  \n",
       "1036            0  \n",
       "1045            0  \n",
       "\n",
       "[74 rows x 16 columns]"
      ]
     },
     "execution_count": 27,
     "metadata": {},
     "output_type": "execute_result"
    }
   ],
   "source": [
    "## displaying all the rows having null values in any or multiple column\n",
    "cust_claims[cust_claims.isnull().any(axis = 1)]"
   ]
  },
  {
   "cell_type": "code",
   "execution_count": 28,
   "id": "f341f5a6-e056-41ff-bf59-112d445691f9",
   "metadata": {},
   "outputs": [
    {
     "data": {
      "text/plain": [
       "customer_id             0\n",
       "gender                  0\n",
       "DateOfBirth             0\n",
       "State                   0\n",
       "Contact                 0\n",
       "Segment                 0\n",
       "claim_id                0\n",
       "incident_cause          0\n",
       "claim_date              0\n",
       "claim_area              0\n",
       "police_report           0\n",
       "claim_type              0\n",
       "claim_amount           65\n",
       "total_policy_claims    10\n",
       "fraudulent              0\n",
       "report_flag             0\n",
       "dtype: int64"
      ]
     },
     "execution_count": 28,
     "metadata": {},
     "output_type": "execute_result"
    }
   ],
   "source": [
    "cust_claims.isnull().sum()"
   ]
  },
  {
   "cell_type": "code",
   "execution_count": 29,
   "id": "2a8dd244-c843-47bc-bed8-68f51d80339c",
   "metadata": {},
   "outputs": [],
   "source": [
    "cust_claims.claim_amount = cust_claims.claim_amount.fillna(cust_claims.claim_amount.mean())"
   ]
  },
  {
   "cell_type": "code",
   "execution_count": 30,
   "id": "6172151a-7aaa-4e82-9da5-c6d091839113",
   "metadata": {},
   "outputs": [],
   "source": [
    "cust_claims.total_policy_claims = cust_claims.total_policy_claims.fillna(cust_claims.total_policy_claims.mean())"
   ]
  },
  {
   "cell_type": "code",
   "execution_count": 31,
   "id": "9cb052a2-1138-4cad-aa99-bbf8f366cc36",
   "metadata": {},
   "outputs": [
    {
     "data": {
      "text/plain": [
       "customer_id            0\n",
       "gender                 0\n",
       "DateOfBirth            0\n",
       "State                  0\n",
       "Contact                0\n",
       "Segment                0\n",
       "claim_id               0\n",
       "incident_cause         0\n",
       "claim_date             0\n",
       "claim_area             0\n",
       "police_report          0\n",
       "claim_type             0\n",
       "claim_amount           0\n",
       "total_policy_claims    0\n",
       "fraudulent             0\n",
       "report_flag            0\n",
       "dtype: int64"
      ]
     },
     "execution_count": 31,
     "metadata": {},
     "output_type": "execute_result"
    }
   ],
   "source": [
    "cust_claims.isnull().sum()"
   ]
  },
  {
   "cell_type": "code",
   "execution_count": null,
   "id": "7e00d546-a4a0-4d0b-acf1-ab761e86e2d9",
   "metadata": {},
   "outputs": [],
   "source": [
    "## Q7. Calculate the age of customers in years. Based on the age, categorize the customers according to the below criteria\n",
    "##     Children < 18\n",
    "##     Youth 18-30\n",
    "##     Adult 30-60\n",
    "##     Senior > 60"
   ]
  },
  {
   "cell_type": "code",
   "execution_count": 32,
   "id": "079fffea-8620-49a2-a278-ce637871c75e",
   "metadata": {},
   "outputs": [],
   "source": [
    "cust_claims['age'] = pd.Timestamp.now().year - cust_claims.DateOfBirth.dt.year"
   ]
  },
  {
   "cell_type": "code",
   "execution_count": 33,
   "id": "c41b5899-f930-431c-826e-1a59671ca4dc",
   "metadata": {},
   "outputs": [
    {
     "data": {
      "text/plain": [
       "array([57, 48, 56, 47, 38, 50, 40, 28, 60, 27, 37, 39, 43, 29, 51, 55, 46,\n",
       "       31, 36, 42, 44, 53, 63, 61, 34, 59, 26, 32, 45, 33, 54, 35, 58, 49,\n",
       "       62, 64, 30, 41, 25, 52])"
      ]
     },
     "execution_count": 33,
     "metadata": {},
     "output_type": "execute_result"
    }
   ],
   "source": [
    "cust_claims.age.unique()"
   ]
  },
  {
   "cell_type": "code",
   "execution_count": 34,
   "id": "9d6fb0f4-35c4-43a1-96c4-fca871b8f9fd",
   "metadata": {},
   "outputs": [],
   "source": [
    "cust_claims['age_group'] = np.where(cust_claims.age < 18,'Children', \\\n",
    "                                    np.where(cust_claims.age < 30, 'Youth', np.where(cust_claims.age < 60, 'Adult', 'Senior')))"
   ]
  },
  {
   "cell_type": "code",
   "execution_count": 35,
   "id": "c7ba52ad-b26b-4ec5-94a7-0f8227798aeb",
   "metadata": {},
   "outputs": [
    {
     "data": {
      "text/plain": [
       "array(['Adult', 'Youth', 'Senior'], dtype=object)"
      ]
     },
     "execution_count": 35,
     "metadata": {},
     "output_type": "execute_result"
    }
   ],
   "source": [
    "cust_claims.age_group.unique()"
   ]
  },
  {
   "cell_type": "code",
   "execution_count": 36,
   "id": "e6fa70d9-a86b-4d5d-9f2d-376aed067483",
   "metadata": {},
   "outputs": [
    {
     "data": {
      "text/html": [
       "<div>\n",
       "<style scoped>\n",
       "    .dataframe tbody tr th:only-of-type {\n",
       "        vertical-align: middle;\n",
       "    }\n",
       "\n",
       "    .dataframe tbody tr th {\n",
       "        vertical-align: top;\n",
       "    }\n",
       "\n",
       "    .dataframe thead th {\n",
       "        text-align: right;\n",
       "    }\n",
       "</style>\n",
       "<table border=\"1\" class=\"dataframe\">\n",
       "  <thead>\n",
       "    <tr style=\"text-align: right;\">\n",
       "      <th></th>\n",
       "      <th>customer_id</th>\n",
       "      <th>gender</th>\n",
       "      <th>DateOfBirth</th>\n",
       "      <th>State</th>\n",
       "      <th>Contact</th>\n",
       "      <th>Segment</th>\n",
       "      <th>claim_id</th>\n",
       "      <th>incident_cause</th>\n",
       "      <th>claim_date</th>\n",
       "      <th>claim_area</th>\n",
       "      <th>police_report</th>\n",
       "      <th>claim_type</th>\n",
       "      <th>claim_amount</th>\n",
       "      <th>total_policy_claims</th>\n",
       "      <th>fraudulent</th>\n",
       "      <th>report_flag</th>\n",
       "      <th>age</th>\n",
       "      <th>age_group</th>\n",
       "    </tr>\n",
       "  </thead>\n",
       "  <tbody>\n",
       "    <tr>\n",
       "      <th>0</th>\n",
       "      <td>93915431</td>\n",
       "      <td>Male</td>\n",
       "      <td>1967-09-08</td>\n",
       "      <td>ME</td>\n",
       "      <td>1.347852e+09</td>\n",
       "      <td>Gold</td>\n",
       "      <td>99775483</td>\n",
       "      <td>Other causes</td>\n",
       "      <td>2018-10-30</td>\n",
       "      <td>Auto</td>\n",
       "      <td>No</td>\n",
       "      <td>Material and injury</td>\n",
       "      <td>42124.500000</td>\n",
       "      <td>1.0</td>\n",
       "      <td>Yes</td>\n",
       "      <td>0</td>\n",
       "      <td>57</td>\n",
       "      <td>Adult</td>\n",
       "    </tr>\n",
       "    <tr>\n",
       "      <th>1</th>\n",
       "      <td>38011078</td>\n",
       "      <td>Female</td>\n",
       "      <td>1976-05-20</td>\n",
       "      <td>NE</td>\n",
       "      <td>2.711231e+09</td>\n",
       "      <td>Gold</td>\n",
       "      <td>98795403</td>\n",
       "      <td>Crime</td>\n",
       "      <td>2018-10-30</td>\n",
       "      <td>Auto</td>\n",
       "      <td>Unknown</td>\n",
       "      <td>Material only</td>\n",
       "      <td>1940.000000</td>\n",
       "      <td>1.0</td>\n",
       "      <td>No</td>\n",
       "      <td>0</td>\n",
       "      <td>48</td>\n",
       "      <td>Adult</td>\n",
       "    </tr>\n",
       "    <tr>\n",
       "      <th>2</th>\n",
       "      <td>58451506</td>\n",
       "      <td>Male</td>\n",
       "      <td>1968-04-22</td>\n",
       "      <td>FL</td>\n",
       "      <td>6.735748e+09</td>\n",
       "      <td>Gold</td>\n",
       "      <td>43042986</td>\n",
       "      <td>Natural causes</td>\n",
       "      <td>2018-10-30</td>\n",
       "      <td>Auto</td>\n",
       "      <td>No</td>\n",
       "      <td>Material only</td>\n",
       "      <td>2420.000000</td>\n",
       "      <td>1.0</td>\n",
       "      <td>No</td>\n",
       "      <td>0</td>\n",
       "      <td>56</td>\n",
       "      <td>Adult</td>\n",
       "    </tr>\n",
       "    <tr>\n",
       "      <th>3</th>\n",
       "      <td>46710738</td>\n",
       "      <td>Male</td>\n",
       "      <td>1977-04-28</td>\n",
       "      <td>MO</td>\n",
       "      <td>9.628349e+09</td>\n",
       "      <td>Gold</td>\n",
       "      <td>74761374</td>\n",
       "      <td>Driver error</td>\n",
       "      <td>2018-10-30</td>\n",
       "      <td>Auto</td>\n",
       "      <td>No</td>\n",
       "      <td>Material only</td>\n",
       "      <td>1830.000000</td>\n",
       "      <td>1.0</td>\n",
       "      <td>No</td>\n",
       "      <td>0</td>\n",
       "      <td>47</td>\n",
       "      <td>Adult</td>\n",
       "    </tr>\n",
       "    <tr>\n",
       "      <th>4</th>\n",
       "      <td>77510822</td>\n",
       "      <td>Female</td>\n",
       "      <td>1986-03-18</td>\n",
       "      <td>AK</td>\n",
       "      <td>4.369347e+09</td>\n",
       "      <td>Silver</td>\n",
       "      <td>87329176</td>\n",
       "      <td>Other driver error</td>\n",
       "      <td>2018-10-30</td>\n",
       "      <td>Auto</td>\n",
       "      <td>Unknown</td>\n",
       "      <td>Material only</td>\n",
       "      <td>12501.726555</td>\n",
       "      <td>2.0</td>\n",
       "      <td>No</td>\n",
       "      <td>0</td>\n",
       "      <td>38</td>\n",
       "      <td>Adult</td>\n",
       "    </tr>\n",
       "  </tbody>\n",
       "</table>\n",
       "</div>"
      ],
      "text/plain": [
       "   customer_id  gender DateOfBirth State       Contact Segment  claim_id  \\\n",
       "0     93915431    Male  1967-09-08    ME  1.347852e+09    Gold  99775483   \n",
       "1     38011078  Female  1976-05-20    NE  2.711231e+09    Gold  98795403   \n",
       "2     58451506    Male  1968-04-22    FL  6.735748e+09    Gold  43042986   \n",
       "3     46710738    Male  1977-04-28    MO  9.628349e+09    Gold  74761374   \n",
       "4     77510822  Female  1986-03-18    AK  4.369347e+09  Silver  87329176   \n",
       "\n",
       "       incident_cause claim_date claim_area police_report  \\\n",
       "0        Other causes 2018-10-30       Auto            No   \n",
       "1               Crime 2018-10-30       Auto       Unknown   \n",
       "2      Natural causes 2018-10-30       Auto            No   \n",
       "3        Driver error 2018-10-30       Auto            No   \n",
       "4  Other driver error 2018-10-30       Auto       Unknown   \n",
       "\n",
       "            claim_type  claim_amount  total_policy_claims fraudulent  \\\n",
       "0  Material and injury  42124.500000                  1.0        Yes   \n",
       "1        Material only   1940.000000                  1.0         No   \n",
       "2        Material only   2420.000000                  1.0         No   \n",
       "3        Material only   1830.000000                  1.0         No   \n",
       "4        Material only  12501.726555                  2.0         No   \n",
       "\n",
       "   report_flag  age age_group  \n",
       "0            0   57     Adult  \n",
       "1            0   48     Adult  \n",
       "2            0   56     Adult  \n",
       "3            0   47     Adult  \n",
       "4            0   38     Adult  "
      ]
     },
     "execution_count": 36,
     "metadata": {},
     "output_type": "execute_result"
    }
   ],
   "source": [
    "cust_claims.head()"
   ]
  },
  {
   "cell_type": "code",
   "execution_count": 38,
   "id": "211ea430-a36e-499c-8816-5972cd15e488",
   "metadata": {},
   "outputs": [
    {
     "data": {
      "text/html": [
       "<div>\n",
       "<style scoped>\n",
       "    .dataframe tbody tr th:only-of-type {\n",
       "        vertical-align: middle;\n",
       "    }\n",
       "\n",
       "    .dataframe tbody tr th {\n",
       "        vertical-align: top;\n",
       "    }\n",
       "\n",
       "    .dataframe thead th {\n",
       "        text-align: right;\n",
       "    }\n",
       "</style>\n",
       "<table border=\"1\" class=\"dataframe\">\n",
       "  <thead>\n",
       "    <tr style=\"text-align: right;\">\n",
       "      <th></th>\n",
       "      <th>Segment</th>\n",
       "      <th>claim_amount</th>\n",
       "    </tr>\n",
       "  </thead>\n",
       "  <tbody>\n",
       "    <tr>\n",
       "      <th>0</th>\n",
       "      <td>Gold</td>\n",
       "      <td>12846.40</td>\n",
       "    </tr>\n",
       "    <tr>\n",
       "      <th>1</th>\n",
       "      <td>Platinum</td>\n",
       "      <td>12371.65</td>\n",
       "    </tr>\n",
       "    <tr>\n",
       "      <th>2</th>\n",
       "      <td>Silver</td>\n",
       "      <td>12267.86</td>\n",
       "    </tr>\n",
       "  </tbody>\n",
       "</table>\n",
       "</div>"
      ],
      "text/plain": [
       "    Segment  claim_amount\n",
       "0      Gold      12846.40\n",
       "1  Platinum      12371.65\n",
       "2    Silver      12267.86"
      ]
     },
     "execution_count": 38,
     "metadata": {},
     "output_type": "execute_result"
    }
   ],
   "source": [
    "## Q8. What is the average amount claimed by the customers from various segments?\n",
    "round(cust_claims.groupby('Segment').claim_amount.mean().reset_index(),2)"
   ]
  },
  {
   "cell_type": "code",
   "execution_count": 40,
   "id": "cae3892f-68ee-4a23-98c3-e2a72fa4cd66",
   "metadata": {},
   "outputs": [
    {
     "data": {
      "text/html": [
       "<div>\n",
       "<style scoped>\n",
       "    .dataframe tbody tr th:only-of-type {\n",
       "        vertical-align: middle;\n",
       "    }\n",
       "\n",
       "    .dataframe tbody tr th {\n",
       "        vertical-align: top;\n",
       "    }\n",
       "\n",
       "    .dataframe thead th {\n",
       "        text-align: right;\n",
       "    }\n",
       "</style>\n",
       "<table border=\"1\" class=\"dataframe\">\n",
       "  <thead>\n",
       "    <tr style=\"text-align: right;\">\n",
       "      <th></th>\n",
       "      <th>incident_cause</th>\n",
       "      <th>claim_amount</th>\n",
       "    </tr>\n",
       "  </thead>\n",
       "  <tbody>\n",
       "    <tr>\n",
       "      <th>0</th>\n",
       "      <td>Crime</td>\n",
       "      <td>721938.63</td>\n",
       "    </tr>\n",
       "    <tr>\n",
       "      <th>1</th>\n",
       "      <td>Driver error</td>\n",
       "      <td>3315850.72</td>\n",
       "    </tr>\n",
       "    <tr>\n",
       "      <th>2</th>\n",
       "      <td>Natural causes</td>\n",
       "      <td>1312987.04</td>\n",
       "    </tr>\n",
       "    <tr>\n",
       "      <th>3</th>\n",
       "      <td>Other causes</td>\n",
       "      <td>3723151.80</td>\n",
       "    </tr>\n",
       "    <tr>\n",
       "      <th>4</th>\n",
       "      <td>Other driver error</td>\n",
       "      <td>3277536.45</td>\n",
       "    </tr>\n",
       "  </tbody>\n",
       "</table>\n",
       "</div>"
      ],
      "text/plain": [
       "       incident_cause  claim_amount\n",
       "0               Crime     721938.63\n",
       "1        Driver error    3315850.72\n",
       "2      Natural causes    1312987.04\n",
       "3        Other causes    3723151.80\n",
       "4  Other driver error    3277536.45"
      ]
     },
     "execution_count": 40,
     "metadata": {},
     "output_type": "execute_result"
    }
   ],
   "source": [
    "## Q9. What is the total claim amount based on incident cause for all the claims that have been done at least 20 days prior to 1st of October, 2018\n",
    "tmp_date = pd.to_datetime('2018-10-1', format='%Y-%m-%d') - pd.DateOffset(days=20)\n",
    "## cust_claims[cust_claims.claim_date < '2018-09-11'].groupby('incident_cause').claim_amount.sum().reset_index()\n",
    "cust_claims[cust_claims.claim_date < tmp_date].groupby('incident_cause').claim_amount.sum().reset_index().round(2)"
   ]
  },
  {
   "cell_type": "code",
   "execution_count": 41,
   "id": "8f2ae5ba-fd34-4e66-81a5-b6644b9247c4",
   "metadata": {},
   "outputs": [
    {
     "data": {
      "text/plain": [
       "array(['Other causes', 'Crime', 'Natural causes', 'Driver error',\n",
       "       'Other driver error'], dtype=object)"
      ]
     },
     "execution_count": 41,
     "metadata": {},
     "output_type": "execute_result"
    }
   ],
   "source": [
    "## Q10. How many adults from TX, DE and AK claimed insurance for driver related issues and causes? \n",
    "cust_claims.incident_cause.unique()"
   ]
  },
  {
   "cell_type": "code",
   "execution_count": 72,
   "id": "1c8a7cf4-081b-4a3e-877a-90a96fc950de",
   "metadata": {},
   "outputs": [
    {
     "name": "stdout",
     "output_type": "stream",
     "text": [
      "Total Count of adults from TX, DE and AK claimed insurance for driver related issues is\n"
     ]
    },
    {
     "data": {
      "text/plain": [
       "31"
      ]
     },
     "execution_count": 72,
     "metadata": {},
     "output_type": "execute_result"
    }
   ],
   "source": [
    "print('Total Count of adults from TX, DE and AK claimed insurance for driver related issues is')\n",
    "cust_claims[(cust_claims.incident_cause.str.contains('river error'))\\\n",
    "& (cust_claims.State.isin(['TX','DE','AK'])) & (cust_claims.age >= 30)].customer_id.count()"
   ]
  },
  {
   "cell_type": "code",
   "execution_count": 66,
   "id": "21117c72-ccf0-4a97-ac1b-90821c6a264a",
   "metadata": {},
   "outputs": [
    {
     "data": {
      "text/plain": [
       "State\n",
       "AK     9\n",
       "DE    13\n",
       "TX     9\n",
       "Name: customer_id, dtype: int64"
      ]
     },
     "execution_count": 66,
     "metadata": {},
     "output_type": "execute_result"
    }
   ],
   "source": [
    "## Count by State - TX, AK, DE\n",
    "cust_claims.loc[(cust_claims.incident_cause.str.contains(\"river\") & (cust_claims.State.isin(['TX','DE','AK'])) & (cust_claims.age >= 30)),:]\\\n",
    ".groupby('State').customer_id.count()"
   ]
  },
  {
   "cell_type": "code",
   "execution_count": null,
   "id": "fc047f93-1e18-458a-b87e-8bfdf76e2e04",
   "metadata": {},
   "outputs": [],
   "source": [
    "## Q11. Draw a pie chart between the aggregated value of claim amount based on gender and segment. Represent the claim amount as a percentage on\n",
    "## the pie chart."
   ]
  },
  {
   "cell_type": "code",
   "execution_count": 57,
   "id": "4c8c9915-18ad-4f78-8f54-dacc5adcfda8",
   "metadata": {},
   "outputs": [
    {
     "data": {
      "image/png": "[encoded data removed]",
      "text/plain": [
       "<Figure size 1200x500 with 2 Axes>"
      ]
     },
     "metadata": {},
     "output_type": "display_data"
    }
   ],
   "source": [
    "plt.figure(figsize=(12,5))\n",
    "\n",
    "plt.subplot(1, 2, 1)\n",
    "cust_claims[['gender','claim_amount']].groupby('gender').claim_amount.sum().plot(kind='pie', autopct='%1.2f %%')\n",
    "plt.title('Gender vs Claims_Amount')\n",
    "\n",
    "plt.subplot(1, 2, 2)\n",
    "cust_claims[['Segment','claim_amount']].groupby('Segment').claim_amount.sum().plot(kind='pie', autopct='%1.2f %%')\n",
    "plt.title('Segment vs Claim Amount')\n",
    "\n",
    "plt.show()"
   ]
  },
  {
   "cell_type": "code",
   "execution_count": null,
   "id": "9d142525-2a28-47fe-b6b3-895434bdd5c1",
   "metadata": {},
   "outputs": [],
   "source": [
    "## Q12. Among males and females, which gender had claimed the most for any type of driver related issues? \n",
    "## E.g. This metric can be compared using a bar chart"
   ]
  },
  {
   "cell_type": "code",
   "execution_count": 108,
   "id": "98eb3362-6ec2-45e5-a326-4a6ceeee606a",
   "metadata": {},
   "outputs": [
    {
     "data": {
      "image/png": "[encoded data removed]",
      "text/plain": [
       "<Figure size 640x480 with 1 Axes>"
      ]
     },
     "metadata": {},
     "output_type": "display_data"
    }
   ],
   "source": [
    "gender_wise = cust_claims.loc[cust_claims.incident_cause.str.contains(\"river\"),:].groupby('gender').gender.count()\n",
    "#plt.ticklabel_format(style='plain')\n",
    "abc = gender_wise.plot(kind='bar', color=['pink','aqua'], ylabel = 'Count of Driver Related issues')\n",
    "plt.title('Gender-wise Insurance claims - Driver Related')\n",
    "abc.bar_label(container = abc.containers[0], label_type='center', color='black')\n",
    "plt.show()"
   ]
  },
  {
   "cell_type": "code",
   "execution_count": 113,
   "id": "b1112aa7-3e39-4c6d-a70c-63e30a6de381",
   "metadata": {},
   "outputs": [
    {
     "data": {
      "image/png": "[encoded data removed]",
      "text/plain": [
       "<Figure size 640x480 with 1 Axes>"
      ]
     },
     "metadata": {},
     "output_type": "display_data"
    }
   ],
   "source": [
    "## Q13. Which age group had the maximum fraudulent policy claims? Visualize it on a bar chart.\n",
    "fraud_df = cust_claims.loc[(cust_claims.fraudulent == 'Yes'),:].groupby('age_group').customer_id.count()\n",
    "plt.title('Fraudulent policy claims - By Age Group')\n",
    "f_bar = fraud_df.plot(kind = 'bar', color = ['red','orange','green'], ylabel = 'Count of Fraudulent Claims')\n",
    "f_bar.bar_label(container = f_bar.containers[0], label_type='center', color='white')\n",
    "plt.show()"
   ]
  },
  {
   "cell_type": "code",
   "execution_count": null,
   "id": "9da7e08d-8ec7-47ee-b2e4-4597e6df58be",
   "metadata": {},
   "outputs": [],
   "source": [
    "## Q14. Visualize the monthly trend of the total amount that has been claimed by the customers. \n",
    "## Ensure that on the “month” axis, the month is in a chronological order not alphabetical order."
   ]
  },
  {
   "cell_type": "code",
   "execution_count": 114,
   "id": "0dcbece2-33dd-4579-8ea4-a4bea106da81",
   "metadata": {},
   "outputs": [
    {
     "data": {
      "text/html": [
       "<div>\n",
       "<style scoped>\n",
       "    .dataframe tbody tr th:only-of-type {\n",
       "        vertical-align: middle;\n",
       "    }\n",
       "\n",
       "    .dataframe tbody tr th {\n",
       "        vertical-align: top;\n",
       "    }\n",
       "\n",
       "    .dataframe thead th {\n",
       "        text-align: right;\n",
       "    }\n",
       "</style>\n",
       "<table border=\"1\" class=\"dataframe\">\n",
       "  <thead>\n",
       "    <tr style=\"text-align: right;\">\n",
       "      <th></th>\n",
       "      <th>customer_id</th>\n",
       "      <th>gender</th>\n",
       "      <th>DateOfBirth</th>\n",
       "      <th>State</th>\n",
       "      <th>Contact</th>\n",
       "      <th>Segment</th>\n",
       "      <th>claim_id</th>\n",
       "      <th>incident_cause</th>\n",
       "      <th>claim_date</th>\n",
       "      <th>claim_area</th>\n",
       "      <th>police_report</th>\n",
       "      <th>claim_type</th>\n",
       "      <th>claim_amount</th>\n",
       "      <th>total_policy_claims</th>\n",
       "      <th>fraudulent</th>\n",
       "      <th>report_flag</th>\n",
       "      <th>age</th>\n",
       "      <th>age_group</th>\n",
       "    </tr>\n",
       "  </thead>\n",
       "  <tbody>\n",
       "    <tr>\n",
       "      <th>0</th>\n",
       "      <td>93915431</td>\n",
       "      <td>Male</td>\n",
       "      <td>1967-09-08</td>\n",
       "      <td>ME</td>\n",
       "      <td>1.347852e+09</td>\n",
       "      <td>Gold</td>\n",
       "      <td>99775483</td>\n",
       "      <td>Other causes</td>\n",
       "      <td>2018-10-30</td>\n",
       "      <td>Auto</td>\n",
       "      <td>No</td>\n",
       "      <td>Material and injury</td>\n",
       "      <td>42124.5</td>\n",
       "      <td>1.0</td>\n",
       "      <td>Yes</td>\n",
       "      <td>0</td>\n",
       "      <td>57</td>\n",
       "      <td>Adult</td>\n",
       "    </tr>\n",
       "    <tr>\n",
       "      <th>1</th>\n",
       "      <td>38011078</td>\n",
       "      <td>Female</td>\n",
       "      <td>1976-05-20</td>\n",
       "      <td>NE</td>\n",
       "      <td>2.711231e+09</td>\n",
       "      <td>Gold</td>\n",
       "      <td>98795403</td>\n",
       "      <td>Crime</td>\n",
       "      <td>2018-10-30</td>\n",
       "      <td>Auto</td>\n",
       "      <td>Unknown</td>\n",
       "      <td>Material only</td>\n",
       "      <td>1940.0</td>\n",
       "      <td>1.0</td>\n",
       "      <td>No</td>\n",
       "      <td>0</td>\n",
       "      <td>48</td>\n",
       "      <td>Adult</td>\n",
       "    </tr>\n",
       "  </tbody>\n",
       "</table>\n",
       "</div>"
      ],
      "text/plain": [
       "   customer_id  gender DateOfBirth State       Contact Segment  claim_id  \\\n",
       "0     93915431    Male  1967-09-08    ME  1.347852e+09    Gold  99775483   \n",
       "1     38011078  Female  1976-05-20    NE  2.711231e+09    Gold  98795403   \n",
       "\n",
       "  incident_cause claim_date claim_area police_report           claim_type  \\\n",
       "0   Other causes 2018-10-30       Auto            No  Material and injury   \n",
       "1          Crime 2018-10-30       Auto       Unknown        Material only   \n",
       "\n",
       "   claim_amount  total_policy_claims fraudulent  report_flag  age age_group  \n",
       "0       42124.5                  1.0        Yes            0   57     Adult  \n",
       "1        1940.0                  1.0         No            0   48     Adult  "
      ]
     },
     "execution_count": 114,
     "metadata": {},
     "output_type": "execute_result"
    }
   ],
   "source": [
    "cust_claims.head(2)"
   ]
  },
  {
   "cell_type": "code",
   "execution_count": 115,
   "id": "f4675911-46a3-4b6a-bbc0-19e4d65686bc",
   "metadata": {},
   "outputs": [
    {
     "data": {
      "text/plain": [
       "array([2018, 2017])"
      ]
     },
     "execution_count": 115,
     "metadata": {},
     "output_type": "execute_result"
    }
   ],
   "source": [
    "cust_claims.claim_date.dt.year.unique()"
   ]
  },
  {
   "cell_type": "code",
   "execution_count": 148,
   "id": "a184d12a-e2cb-4518-b15a-9acf0ce51d34",
   "metadata": {},
   "outputs": [
    {
     "data": {
      "image/png": "[encoded data removed]",
      "text/plain": [
       "<Figure size 1500x600 with 1 Axes>"
      ]
     },
     "metadata": {},
     "output_type": "display_data"
    }
   ],
   "source": [
    "monthly_claim = cust_claims.groupby([cust_claims.claim_date.dt.year, cust_claims.claim_date.dt.month]).claim_amount.sum()\n",
    "month_bar = monthly_claim.plot(kind='bar', figsize=(15,6), ylabel='Claim Amount', xlabel='Year - Month', color=['magenta','purple','black','aqua','pink','yellow','red','orange','green','blue','brown','magenta','purple','black','aqua','pink','yellow','red','orange','green','blue','brown'])\n",
    "month_bar.bar_label(container = month_bar.containers[0], label_type='edge', color='black')\n",
    "plt.title('Monthly Trend of the Claim Amount')\n",
    "plt.show()"
   ]
  },
  {
   "cell_type": "code",
   "execution_count": null,
   "id": "1b3417c9-0078-4482-809f-2813845d1f73",
   "metadata": {},
   "outputs": [],
   "source": [
    "## Q15. What is the average claim amount for gender and age categories and suitably represent the above using a facetted bar chart, one facet that \n",
    "## represents fraudulent claims and the other for non-fraudulent claims."
   ]
  },
  {
   "cell_type": "code",
   "execution_count": 159,
   "id": "e66d91bf-5e69-443e-8f05-90dca24bdc48",
   "metadata": {},
   "outputs": [
    {
     "data": {
      "image/png": "[encoded data removed]",
      "text/plain": [
       "<Figure size 1099.12x500 with 2 Axes>"
      ]
     },
     "metadata": {},
     "output_type": "display_data"
    }
   ],
   "source": [
    "sns.catplot(data=cust_claims, x=\"gender\", y=\"claim_amount\", hue=\"age_group\", col=\"fraudulent\", kind=\"bar\")\n",
    "plt.ylabel('Claim Amount')\n",
    "plt.xlabel('Gender')\n",
    "plt.show()"
   ]
  },
  {
   "cell_type": "markdown",
   "id": "c4359061-d2ff-4e98-95a4-a3560339b088",
   "metadata": {},
   "source": [
    "## HYPOTHESIS TESTING"
   ]
  },
  {
   "cell_type": "code",
   "execution_count": null,
   "id": "bbd1ef56-f036-42e7-b761-f4a6269020a9",
   "metadata": {},
   "outputs": [],
   "source": [
    "Based on the conclusions from exploratory analysis as well as suitable statistical tests, answer the below questions. Please include a detailed \n",
    "write-up on the parameters taken into consideration, the Hypothesis testing steps, conclusion from the p-values and the business implications of \n",
    "the statements."
   ]
  },
  {
   "cell_type": "code",
   "execution_count": null,
   "id": "312997d4-3d38-4f9c-96f7-982545e879bd",
   "metadata": {},
   "outputs": [],
   "source": [
    "## Q16. Is there any similarity in the amount claimed by males and females?"
   ]
  },
  {
   "cell_type": "markdown",
   "id": "1365ff6a-0a78-4c85-a820-4bd9aa7c7732",
   "metadata": {},
   "source": [
    "H0 ==> There is similarity in the amount claimed by males and females (pvalue > pcritical)\n",
    "Ha ==> There is no similarity in the amount claimed by males and females (pvalue < pcritical)"
   ]
  },
  {
   "cell_type": "code",
   "execution_count": 172,
   "id": "266bb423-1b99-4120-b1ff-b72ddb5d93ee",
   "metadata": {},
   "outputs": [
    {
     "data": {
      "text/plain": [
       "gender\n",
       "Male      551\n",
       "Female    527\n",
       "Name: count, dtype: int64"
      ]
     },
     "execution_count": 172,
     "metadata": {},
     "output_type": "execute_result"
    }
   ],
   "source": [
    "cust_claims.gender.value_counts()"
   ]
  },
  {
   "cell_type": "code",
   "execution_count": null,
   "id": "c66ce951-4140-41f3-9696-1fa29b7b3bf5",
   "metadata": {},
   "outputs": [],
   "source": [
    "## Data values are continuous - claim amount(mean) by gender\n",
    "## Parameters - Gender, claim_amount\n",
    "## Confidence interval - 95%\n",
    "## Significance level - (100 - 95) = 5% or 0.05\n",
    "## p critical value = 0.05\n",
    "\n",
    "## Hypothesis testing - As there are two numerical columns involved, we will go for t-test, independent sample\n",
    "## We will test our hypothesis at 5% significance level "
   ]
  },
  {
   "cell_type": "code",
   "execution_count": 186,
   "id": "785de5bb-bd1e-4863-8fea-607f8c8232e3",
   "metadata": {},
   "outputs": [],
   "source": [
    "## Data collection\n",
    "male_cl = cust_claims[cust_claims.gender == 'Male'].claim_amount\n",
    "female_cl = cust_claims[cust_claims.gender == 'Female'].claim_amount"
   ]
  },
  {
   "cell_type": "code",
   "execution_count": 187,
   "id": "a350583d-a1ca-4a3a-830c-fac17582e5ec",
   "metadata": {},
   "outputs": [],
   "source": [
    "pv = stats.ttest_ind(male_cl, female_cl)"
   ]
  },
  {
   "cell_type": "code",
   "execution_count": 188,
   "id": "d8c85089-8066-41ba-aed1-59d06ec57d1c",
   "metadata": {},
   "outputs": [
    {
     "data": {
      "text/plain": [
       "0.33601006135365463"
      ]
     },
     "execution_count": 188,
     "metadata": {},
     "output_type": "execute_result"
    }
   ],
   "source": [
    "pv.pvalue"
   ]
  },
  {
   "cell_type": "markdown",
   "id": "b6e98319-a018-438f-bced-857a169de244",
   "metadata": {},
   "source": [
    "#### t-test pvalue(0.336) is greater than p critical(0.05)\n",
    "#### pvalue > pcritical\n",
    "#### We accept NULL Hypothesis (H0)  - p is high NULL will fly\n",
    "#### BUSINESS CONCLUSION: # As the significance value of t test is greater than 0.05 we can safely conclude with 95% confidence that there is a similarity in amount claimed by males and females. There is similarity in the amount claimed by males and females"
   ]
  },
  {
   "cell_type": "code",
   "execution_count": 189,
   "id": "88afcb60-f158-4b9a-ad30-7b497cfc0a2c",
   "metadata": {},
   "outputs": [],
   "source": [
    "## Q17. Is there any relationship between age category and segment?"
   ]
  },
  {
   "cell_type": "code",
   "execution_count": null,
   "id": "50d38bde-08d5-47fe-adb7-8a462f49d575",
   "metadata": {},
   "outputs": [],
   "source": [
    "H0 ==> There is relationship between age category and segment (pvalue > pcritical)\n",
    "Ha ==> There is no relationship between age category and segment (pvalue < pcritical)"
   ]
  },
  {
   "cell_type": "code",
   "execution_count": null,
   "id": "830dfacf-d25a-4edd-a5d8-328af14ee962",
   "metadata": {},
   "outputs": [],
   "source": [
    "## Data values are both categorical in nature - categorical(age_group) and categorical(Segment)\n",
    "## Parameters - Age_group, Segment\n",
    "## Confidence interval - 95%\n",
    "## Significance level - (100 - 95) = 5% or 0.05\n",
    "## p critical value = 0.05\n",
    "\n",
    "## Hypothesis testing - Relationship between two categorical columns, we will go for chi-square testing\n",
    "## We will test our hypothesis at 5% significance level "
   ]
  },
  {
   "cell_type": "code",
   "execution_count": 217,
   "id": "fad0cdd7-fe7d-4987-a159-9550db70211c",
   "metadata": {},
   "outputs": [],
   "source": [
    "## DATA COLLECTION\n",
    "age_seg = pd.crosstab(cust_claims.Segment, cust_claims.age_group)"
   ]
  },
  {
   "cell_type": "code",
   "execution_count": 218,
   "id": "8599b4c9-1625-43c9-ba63-fa9cd3891331",
   "metadata": {},
   "outputs": [
    {
     "data": {
      "text/html": [
       "<div>\n",
       "<style scoped>\n",
       "    .dataframe tbody tr th:only-of-type {\n",
       "        vertical-align: middle;\n",
       "    }\n",
       "\n",
       "    .dataframe tbody tr th {\n",
       "        vertical-align: top;\n",
       "    }\n",
       "\n",
       "    .dataframe thead th {\n",
       "        text-align: right;\n",
       "    }\n",
       "</style>\n",
       "<table border=\"1\" class=\"dataframe\">\n",
       "  <thead>\n",
       "    <tr style=\"text-align: right;\">\n",
       "      <th>age_group</th>\n",
       "      <th>Adult</th>\n",
       "      <th>Senior</th>\n",
       "      <th>Youth</th>\n",
       "    </tr>\n",
       "    <tr>\n",
       "      <th>Segment</th>\n",
       "      <th></th>\n",
       "      <th></th>\n",
       "      <th></th>\n",
       "    </tr>\n",
       "  </thead>\n",
       "  <tbody>\n",
       "    <tr>\n",
       "      <th>Gold</th>\n",
       "      <td>278</td>\n",
       "      <td>45</td>\n",
       "      <td>48</td>\n",
       "    </tr>\n",
       "    <tr>\n",
       "      <th>Platinum</th>\n",
       "      <td>270</td>\n",
       "      <td>47</td>\n",
       "      <td>44</td>\n",
       "    </tr>\n",
       "    <tr>\n",
       "      <th>Silver</th>\n",
       "      <td>257</td>\n",
       "      <td>40</td>\n",
       "      <td>49</td>\n",
       "    </tr>\n",
       "  </tbody>\n",
       "</table>\n",
       "</div>"
      ],
      "text/plain": [
       "age_group  Adult  Senior  Youth\n",
       "Segment                        \n",
       "Gold         278      45     48\n",
       "Platinum     270      47     44\n",
       "Silver       257      40     49"
      ]
     },
     "execution_count": 218,
     "metadata": {},
     "output_type": "execute_result"
    }
   ],
   "source": [
    "age_seg"
   ]
  },
  {
   "cell_type": "code",
   "execution_count": 219,
   "id": "9bd0cf88-05a8-44d4-b6f0-7938797905cc",
   "metadata": {},
   "outputs": [],
   "source": [
    "pv17 = stats.chi2_contingency(age_seg)"
   ]
  },
  {
   "cell_type": "code",
   "execution_count": 222,
   "id": "16535888-b298-4050-afa6-8aada20ff4c8",
   "metadata": {},
   "outputs": [
    {
     "data": {
      "text/plain": [
       "0.9303"
      ]
     },
     "execution_count": 222,
     "metadata": {},
     "output_type": "execute_result"
    }
   ],
   "source": [
    "pv17.pvalue.round(4)"
   ]
  },
  {
   "cell_type": "markdown",
   "id": "44aec802-c16f-40b2-9c83-5538c757fd0b",
   "metadata": {},
   "source": [
    "#### chi Square pvalue(0.9303) is greater than p critical(0.05)\n",
    "#### pvalue > pcritical\n",
    "#### We accept NULL Hypothesis (H0) - p is high NULL will fly\n",
    "#### BUSINESS CONCLUSION: # As the significance value of chi_square test is greater than 0.05 we can safely conclude with 95% confidence that \n",
    "#### There is relationship between age category and segment"
   ]
  },
  {
   "cell_type": "code",
   "execution_count": null,
   "id": "0dbc94fa-d93b-465f-83bf-810a7858bba1",
   "metadata": {},
   "outputs": [],
   "source": [
    "## Q18. The current year has shown a significant rise in claim amounts as compared to 2016-17 fiscal average which was $10,000."
   ]
  },
  {
   "cell_type": "code",
   "execution_count": null,
   "id": "e3718a7d-9f09-4cbe-a981-508a16ba8788",
   "metadata": {},
   "outputs": [],
   "source": [
    "H0 ==> The average claim amount for 2018 is greater >= 10000 (pvalue > pcritical)\n",
    "Ha ==> The average claim amount for 2018 is <> 10000 (pvalue < pcritical)"
   ]
  },
  {
   "cell_type": "code",
   "execution_count": 223,
   "id": "58e6b816-3856-4303-82f7-f7184b6f5363",
   "metadata": {},
   "outputs": [
    {
     "data": {
      "text/plain": [
       "array([2018, 2017])"
      ]
     },
     "execution_count": 223,
     "metadata": {},
     "output_type": "execute_result"
    }
   ],
   "source": [
    "cust_claims.claim_date.dt.year.unique()"
   ]
  },
  {
   "cell_type": "code",
   "execution_count": null,
   "id": "c9ef6a63-591e-48ab-86a3-338b491c11c3",
   "metadata": {},
   "outputs": [],
   "source": [
    "## Data valueis numerical in nature - claim_amount(average)\n",
    "## Parameters - year, claim amount\n",
    "## Confidence interval - 95%\n",
    "## Significance level - (100 - 95) = 5% or 0.05\n",
    "## p critical value = 0.05\n",
    "\n",
    "## Hypothesis testing - ttest; so we can do t test 1 sample\n",
    "## We will test our hypothesis at 5% significance level "
   ]
  },
  {
   "cell_type": "code",
   "execution_count": 224,
   "id": "38589938-1a2c-4369-9e51-6f50daa90521",
   "metadata": {},
   "outputs": [
    {
     "data": {
      "text/plain": [
       "12743.437531675843"
      ]
     },
     "execution_count": 224,
     "metadata": {},
     "output_type": "execute_result"
    }
   ],
   "source": [
    "## DATA COLLECTION\n",
    "cust_claims.claim_amount[cust_claims.claim_date.dt.year == 2018].mean()"
   ]
  },
  {
   "cell_type": "code",
   "execution_count": 227,
   "id": "f2af459c-ee95-4a32-bf3f-42afb5f5ad80",
   "metadata": {},
   "outputs": [],
   "source": [
    "pv18 = stats.ttest_1samp(cust_claims.claim_amount[cust_claims.claim_date.dt.year == 2018], 10000)"
   ]
  },
  {
   "cell_type": "code",
   "execution_count": 228,
   "id": "518e8f12-84a5-4242-a646-22119ee40fb2",
   "metadata": {},
   "outputs": [
    {
     "data": {
      "text/plain": [
       "9.43584422198333e-06"
      ]
     },
     "execution_count": 228,
     "metadata": {},
     "output_type": "execute_result"
    }
   ],
   "source": [
    "pv18.pvalue"
   ]
  },
  {
   "cell_type": "markdown",
   "id": "ad8025c6-854a-497d-8a93-59af4b3ad6c1",
   "metadata": {},
   "source": [
    "#### ttest 1sample pvalue(9.435) is greater than p critical(0.05)\n",
    "#### pvalue > pcritical\n",
    "#### We accept NULL Hypothesis (H0) - p is high NULL will fly\n",
    "#### BUSINESS CONCLUSION: # As the significance value of ttest ` sample test is greater than 0.05 we can safely conclude with 95% confidence that \n",
    "#### Current year has shown a significant rise in claim amounts compared to 2016-17 fiscal average $10,000."
   ]
  },
  {
   "cell_type": "code",
   "execution_count": null,
   "id": "e2ac19e2-9d74-46bb-b6e5-50d7d77f30e8",
   "metadata": {},
   "outputs": [],
   "source": [
    "## Q19. Is there any difference between age groups and insurance claims?"
   ]
  },
  {
   "cell_type": "code",
   "execution_count": null,
   "id": "af55a47d-adf6-4cb4-8a67-60b8d4b5f2db",
   "metadata": {},
   "outputs": [],
   "source": [
    "H0 ==> No difference between age groups and insurance claims (pvalue > pcritical)\n",
    "Ha ==> There is difference between age groups and insurance claims (pvalue < pcritical)"
   ]
  },
  {
   "cell_type": "code",
   "execution_count": 229,
   "id": "425c43b4-4ddc-4b41-be69-848527e432ea",
   "metadata": {},
   "outputs": [
    {
     "data": {
      "text/plain": [
       "array(['Adult', 'Youth', 'Senior'], dtype=object)"
      ]
     },
     "execution_count": 229,
     "metadata": {},
     "output_type": "execute_result"
    }
   ],
   "source": [
    "cust_claims.age_group.unique()"
   ]
  },
  {
   "cell_type": "code",
   "execution_count": null,
   "id": "f045db27-1ebd-4cdc-a243-cc47ff009c1b",
   "metadata": {},
   "outputs": [],
   "source": [
    "## Data values are both categorical and numerical in nature - age_group(categorical), claim_amount(numerical)\n",
    "## Parameters - age_group, claim amount\n",
    "## Age group - need to create multiple data samples for each age group\n",
    "## Confidence interval - 95%\n",
    "## Significance level - (100 - 95) = 5% or 0.05\n",
    "## p critical value = 0.05\n",
    "\n",
    "## Hypothesis testing - Annova(f-test); multiple data samples involved\n",
    "## We will test our hypothesis at 5% significance level "
   ]
  },
  {
   "cell_type": "code",
   "execution_count": 242,
   "id": "44beb56d-cebb-47c0-a423-cd43c9efbe40",
   "metadata": {},
   "outputs": [],
   "source": [
    "## DATA COLLECTION\n",
    "adult_ = cust_claims[cust_claims.age_group == 'Adult'].claim_amount\n",
    "youth_ = cust_claims[cust_claims.age_group == 'Youth'].claim_amount\n",
    "senior_ = cust_claims[cust_claims.age_group == 'Senior'].claim_amount"
   ]
  },
  {
   "cell_type": "code",
   "execution_count": 243,
   "id": "d278c60c-4ced-4ac2-adc4-d03e67ab9c68",
   "metadata": {},
   "outputs": [
    {
     "name": "stdout",
     "output_type": "stream",
     "text": [
      "Mean(Adult): 12858.71 \n",
      "Mean(Youth): 12021.81 \n",
      "Mean(Senior): 10837.32\n"
     ]
    }
   ],
   "source": [
    "print( 'Mean(Adult):', round(adult_.mean(),2), '\\nMean(Youth):', round(youth_.mean(),2), '\\nMean(Senior):', round(senior_.mean(),2))"
   ]
  },
  {
   "cell_type": "code",
   "execution_count": 245,
   "id": "e495eb9b-72a6-4d26-96ea-b334f6a2c9c4",
   "metadata": {},
   "outputs": [],
   "source": [
    "pv19 = stats.f_oneway(adult_, youth_, senior_)"
   ]
  },
  {
   "cell_type": "code",
   "execution_count": 246,
   "id": "025e8e76-9247-4e0c-a706-7a1568857bf8",
   "metadata": {},
   "outputs": [
    {
     "data": {
      "text/plain": [
       "0.24626263091160944"
      ]
     },
     "execution_count": 246,
     "metadata": {},
     "output_type": "execute_result"
    }
   ],
   "source": [
    "pv19.pvalue"
   ]
  },
  {
   "cell_type": "markdown",
   "id": "0c44a838-7e23-402d-a3cb-f93ccdf28214",
   "metadata": {},
   "source": [
    "#### Annova, f-test multiple sample pvalue(0.2462) is greater than p critical(0.05)\n",
    "#### pvalue > pcritical\n",
    "#### We accept NULL Hypothesis (H0) - p is high NULL will fly\n",
    "#### BUSINESS CONCLUSION: # As the significance value of f-test for multiple sample test is greater than 0.05 we can safely conclude with 95% confidence that \n",
    "#### We can say there is no difference between age groups and insurance claims."
   ]
  },
  {
   "cell_type": "code",
   "execution_count": null,
   "id": "e82b96e2-735a-4921-a1e2-fc9578f31b16",
   "metadata": {},
   "outputs": [],
   "source": [
    "## Q20. Is there any relationship between total number of policy claims and the claimed amount?"
   ]
  },
  {
   "cell_type": "code",
   "execution_count": 247,
   "id": "e31dd1ca-e584-4ee6-88e4-8665e2c20d19",
   "metadata": {},
   "outputs": [
    {
     "data": {
      "text/plain": [
       "array([1.        , 2.        , 3.        , 4.        , 6.        ,\n",
       "       5.        , 1.58895131, 8.        , 7.        ])"
      ]
     },
     "execution_count": 247,
     "metadata": {},
     "output_type": "execute_result"
    }
   ],
   "source": [
    "cust_claims.total_policy_claims.unique()"
   ]
  },
  {
   "cell_type": "code",
   "execution_count": null,
   "id": "b29f2914-b2e7-49d5-a284-48efec00e55b",
   "metadata": {},
   "outputs": [],
   "source": [
    "## Data values are both numerical in nature - total_policy_claims(numerical), claim_amount(numerical)\n",
    "## Parameters - total_policy_claims, claim amount\n",
    "## Hypothesis testing - Pearson Correlation test; two quantitative data samples involved"
   ]
  },
  {
   "cell_type": "code",
   "execution_count": 254,
   "id": "6e3e97c3-b642-4205-bb46-c399994baef6",
   "metadata": {},
   "outputs": [
    {
     "data": {
      "text/plain": [
       "-0.02190948742030374"
      ]
     },
     "execution_count": 254,
     "metadata": {},
     "output_type": "execute_result"
    }
   ],
   "source": [
    "## Data Collection\n",
    "cust_claims.total_policy_claims.corr(cust_claims.claim_amount, method='pearson')"
   ]
  },
  {
   "cell_type": "markdown",
   "id": "d8f1e060-f2ca-43b0-912b-d87bf0cfdcf9",
   "metadata": {},
   "source": [
    "#### Pearson Correlation test - relationship between two quantitative data\n",
    "#### BUSINESS CONCLUSION: # As the value of Pearson Correlation test is NEGATIVE \n",
    "#### We can conclude that total number of policy claims is inversely proportional to the claimed amount"
   ]
  },
  {
   "cell_type": "markdown",
   "id": "47a5aae7-b67a-47ef-b51f-ea15f2618dd0",
   "metadata": {},
   "source": [
    "## --The End - Insurance Claims CS --"
   ]
  },
  {
   "cell_type": "code",
   "execution_count": null,
   "id": "7ec864b0-88d2-4274-9bc4-9e67be3b1dc3",
   "metadata": {},
   "outputs": [],
   "source": []
  }
 ],
 "metadata": {
  "kernelspec": {
   "display_name": "Python 3 (ipykernel)",
   "language": "python",
   "name": "python3"
  },
  "language_info": {
   "codemirror_mode": {
    "name": "ipython",
    "version": 3
   },
   "file_extension": ".py",
   "mimetype": "text/x-python",
   "name": "python",
   "nbconvert_exporter": "python",
   "pygments_lexer": "ipython3",
   "version": "3.12.4"
  }
 },
 "nbformat": 4,
 "nbformat_minor": 5
}
