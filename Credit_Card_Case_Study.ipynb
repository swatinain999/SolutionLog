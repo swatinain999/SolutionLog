{
 "cells": [
  {
   "cell_type": "code",
   "execution_count": 381,
   "id": "11ee752d-bb23-4ba6-95e3-8ceb92334de8",
   "metadata": {},
   "outputs": [],
   "source": [
    "import pandas as pd\n",
    "import numpy as np\n",
    "import matplotlib.pyplot as plt\n",
    "import datetime as dt\n",
    "import seaborn as sns\n",
    "import re\n",
    "\n",
    "# set the graphs to show in the jupyter notebook\n",
    "%matplotlib inline\n",
    "\n",
    "# set seabor graphs to a better style\n",
    "sns.set(style=\"ticks\")\n",
    "import warnings\n",
    "warnings.filterwarnings('ignore')\n",
    "\n",
    "import os\n",
    "os.chdir('C:\\\\Users\\\\ACER\\\\OneDrive\\\\Desktop\\\\PythonDesk\\\\CaseStudy\\\\Case Study 2 - Credit Card Case Study')\n",
    "pd.options.display.float_format = '{:.0f}'.format"
   ]
  },
  {
   "cell_type": "code",
   "execution_count": 382,
   "id": "c5d308a3-71ef-4629-b9ff-b8dde5dfcd3d",
   "metadata": {},
   "outputs": [],
   "source": [
    "customer = pd.read_csv('Customer Acqusition.csv')\n",
    "repayment = pd.read_csv('Repayment.csv')\n",
    "spend = pd.read_csv('spend.csv')"
   ]
  },
  {
   "cell_type": "code",
   "execution_count": 383,
   "id": "00cce597-79a4-4576-95d1-23accbe08ace",
   "metadata": {},
   "outputs": [
    {
     "data": {
      "text/html": [
       "<div>\n",
       "<style scoped>\n",
       "    .dataframe tbody tr th:only-of-type {\n",
       "        vertical-align: middle;\n",
       "    }\n",
       "\n",
       "    .dataframe tbody tr th {\n",
       "        vertical-align: top;\n",
       "    }\n",
       "\n",
       "    .dataframe thead th {\n",
       "        text-align: right;\n",
       "    }\n",
       "</style>\n",
       "<table border=\"1\" class=\"dataframe\">\n",
       "  <thead>\n",
       "    <tr style=\"text-align: right;\">\n",
       "      <th></th>\n",
       "      <th>No</th>\n",
       "      <th>Customer</th>\n",
       "      <th>Age</th>\n",
       "      <th>City</th>\n",
       "      <th>Product</th>\n",
       "      <th>Limit</th>\n",
       "      <th>Company</th>\n",
       "      <th>Segment</th>\n",
       "    </tr>\n",
       "  </thead>\n",
       "  <tbody>\n",
       "    <tr>\n",
       "      <th>0</th>\n",
       "      <td>1</td>\n",
       "      <td>A1</td>\n",
       "      <td>76</td>\n",
       "      <td>BANGALORE</td>\n",
       "      <td>Gold</td>\n",
       "      <td>500000</td>\n",
       "      <td>C1</td>\n",
       "      <td>Self Employed</td>\n",
       "    </tr>\n",
       "    <tr>\n",
       "      <th>1</th>\n",
       "      <td>2</td>\n",
       "      <td>A2</td>\n",
       "      <td>71</td>\n",
       "      <td>CALCUTTA</td>\n",
       "      <td>Silver</td>\n",
       "      <td>100000</td>\n",
       "      <td>C2</td>\n",
       "      <td>Salaried_MNC</td>\n",
       "    </tr>\n",
       "  </tbody>\n",
       "</table>\n",
       "</div>"
      ],
      "text/plain": [
       "   No Customer  Age       City Product  Limit Company        Segment\n",
       "0   1       A1   76  BANGALORE    Gold 500000      C1  Self Employed\n",
       "1   2       A2   71   CALCUTTA  Silver 100000      C2   Salaried_MNC"
      ]
     },
     "execution_count": 383,
     "metadata": {},
     "output_type": "execute_result"
    }
   ],
   "source": [
    "customer.head(2) "
   ]
  },
  {
   "cell_type": "code",
   "execution_count": 384,
   "id": "143e59b0-da59-4ff2-a0e1-b1fb555fff62",
   "metadata": {},
   "outputs": [
    {
     "data": {
      "text/html": [
       "<div>\n",
       "<style scoped>\n",
       "    .dataframe tbody tr th:only-of-type {\n",
       "        vertical-align: middle;\n",
       "    }\n",
       "\n",
       "    .dataframe tbody tr th {\n",
       "        vertical-align: top;\n",
       "    }\n",
       "\n",
       "    .dataframe thead th {\n",
       "        text-align: right;\n",
       "    }\n",
       "</style>\n",
       "<table border=\"1\" class=\"dataframe\">\n",
       "  <thead>\n",
       "    <tr style=\"text-align: right;\">\n",
       "      <th></th>\n",
       "      <th>SL No:</th>\n",
       "      <th>Customer</th>\n",
       "      <th>Month</th>\n",
       "      <th>Amount</th>\n",
       "      <th>Unnamed: 4</th>\n",
       "    </tr>\n",
       "  </thead>\n",
       "  <tbody>\n",
       "    <tr>\n",
       "      <th>0</th>\n",
       "      <td>NaN</td>\n",
       "      <td>A1</td>\n",
       "      <td>12-Jan-04</td>\n",
       "      <td>495415</td>\n",
       "      <td>NaN</td>\n",
       "    </tr>\n",
       "    <tr>\n",
       "      <th>1</th>\n",
       "      <td>2</td>\n",
       "      <td>A1</td>\n",
       "      <td>3-Jan-04</td>\n",
       "      <td>245899</td>\n",
       "      <td>NaN</td>\n",
       "    </tr>\n",
       "  </tbody>\n",
       "</table>\n",
       "</div>"
      ],
      "text/plain": [
       "   SL No: Customer      Month  Amount  Unnamed: 4\n",
       "0     NaN       A1  12-Jan-04  495415         NaN\n",
       "1       2       A1   3-Jan-04  245899         NaN"
      ]
     },
     "execution_count": 384,
     "metadata": {},
     "output_type": "execute_result"
    }
   ],
   "source": [
    "repayment.head(2) "
   ]
  },
  {
   "cell_type": "code",
   "execution_count": 385,
   "id": "71654ef5-38d2-45a8-99fa-b26438c6641a",
   "metadata": {},
   "outputs": [
    {
     "data": {
      "text/html": [
       "<div>\n",
       "<style scoped>\n",
       "    .dataframe tbody tr th:only-of-type {\n",
       "        vertical-align: middle;\n",
       "    }\n",
       "\n",
       "    .dataframe tbody tr th {\n",
       "        vertical-align: top;\n",
       "    }\n",
       "\n",
       "    .dataframe thead th {\n",
       "        text-align: right;\n",
       "    }\n",
       "</style>\n",
       "<table border=\"1\" class=\"dataframe\">\n",
       "  <thead>\n",
       "    <tr style=\"text-align: right;\">\n",
       "      <th></th>\n",
       "      <th>Sl No:</th>\n",
       "      <th>Customer</th>\n",
       "      <th>Month</th>\n",
       "      <th>Type</th>\n",
       "      <th>Amount</th>\n",
       "    </tr>\n",
       "  </thead>\n",
       "  <tbody>\n",
       "    <tr>\n",
       "      <th>0</th>\n",
       "      <td>1</td>\n",
       "      <td>A1</td>\n",
       "      <td>12-Jan-04</td>\n",
       "      <td>JEWELLERY</td>\n",
       "      <td>485471</td>\n",
       "    </tr>\n",
       "    <tr>\n",
       "      <th>1</th>\n",
       "      <td>2</td>\n",
       "      <td>A1</td>\n",
       "      <td>3-Jan-04</td>\n",
       "      <td>PETRO</td>\n",
       "      <td>410556</td>\n",
       "    </tr>\n",
       "  </tbody>\n",
       "</table>\n",
       "</div>"
      ],
      "text/plain": [
       "   Sl No: Customer      Month       Type  Amount\n",
       "0       1       A1  12-Jan-04  JEWELLERY  485471\n",
       "1       2       A1   3-Jan-04      PETRO  410556"
      ]
     },
     "execution_count": 385,
     "metadata": {},
     "output_type": "execute_result"
    }
   ],
   "source": [
    "spend.head(2) "
   ]
  },
  {
   "cell_type": "markdown",
   "id": "cd65b6d9-e5db-4721-8dca-82dfd546c510",
   "metadata": {},
   "source": [
    "## EDA"
   ]
  },
  {
   "cell_type": "markdown",
   "id": "9d0db675-3b40-4000-873f-1822b636eea6",
   "metadata": {},
   "source": [
    "#### CUSTOMER TABLE"
   ]
  },
  {
   "cell_type": "code",
   "execution_count": 386,
   "id": "696662df-3023-4979-a96c-cb3bca1eae11",
   "metadata": {},
   "outputs": [
    {
     "data": {
      "text/html": [
       "<div>\n",
       "<style scoped>\n",
       "    .dataframe tbody tr th:only-of-type {\n",
       "        vertical-align: middle;\n",
       "    }\n",
       "\n",
       "    .dataframe tbody tr th {\n",
       "        vertical-align: top;\n",
       "    }\n",
       "\n",
       "    .dataframe thead th {\n",
       "        text-align: right;\n",
       "    }\n",
       "</style>\n",
       "<table border=\"1\" class=\"dataframe\">\n",
       "  <thead>\n",
       "    <tr style=\"text-align: right;\">\n",
       "      <th></th>\n",
       "      <th>No</th>\n",
       "      <th>Customer</th>\n",
       "      <th>Age</th>\n",
       "      <th>City</th>\n",
       "      <th>Product</th>\n",
       "      <th>Limit</th>\n",
       "      <th>Company</th>\n",
       "      <th>Segment</th>\n",
       "    </tr>\n",
       "  </thead>\n",
       "  <tbody>\n",
       "    <tr>\n",
       "      <th>0</th>\n",
       "      <td>1</td>\n",
       "      <td>A1</td>\n",
       "      <td>76</td>\n",
       "      <td>BANGALORE</td>\n",
       "      <td>Gold</td>\n",
       "      <td>500000</td>\n",
       "      <td>C1</td>\n",
       "      <td>Self Employed</td>\n",
       "    </tr>\n",
       "    <tr>\n",
       "      <th>1</th>\n",
       "      <td>2</td>\n",
       "      <td>A2</td>\n",
       "      <td>71</td>\n",
       "      <td>CALCUTTA</td>\n",
       "      <td>Silver</td>\n",
       "      <td>100000</td>\n",
       "      <td>C2</td>\n",
       "      <td>Salaried_MNC</td>\n",
       "    </tr>\n",
       "    <tr>\n",
       "      <th>2</th>\n",
       "      <td>3</td>\n",
       "      <td>A3</td>\n",
       "      <td>34</td>\n",
       "      <td>COCHIN</td>\n",
       "      <td>Platimum</td>\n",
       "      <td>10000</td>\n",
       "      <td>C3</td>\n",
       "      <td>Salaried_Pvt</td>\n",
       "    </tr>\n",
       "    <tr>\n",
       "      <th>3</th>\n",
       "      <td>4</td>\n",
       "      <td>A4</td>\n",
       "      <td>47</td>\n",
       "      <td>BOMBAY</td>\n",
       "      <td>Platimum</td>\n",
       "      <td>10001</td>\n",
       "      <td>C4</td>\n",
       "      <td>Govt</td>\n",
       "    </tr>\n",
       "    <tr>\n",
       "      <th>4</th>\n",
       "      <td>5</td>\n",
       "      <td>A5</td>\n",
       "      <td>56</td>\n",
       "      <td>BANGALORE</td>\n",
       "      <td>Platimum</td>\n",
       "      <td>10002</td>\n",
       "      <td>C5</td>\n",
       "      <td>Normal Salary</td>\n",
       "    </tr>\n",
       "  </tbody>\n",
       "</table>\n",
       "</div>"
      ],
      "text/plain": [
       "   No Customer  Age       City   Product  Limit Company        Segment\n",
       "0   1       A1   76  BANGALORE      Gold 500000      C1  Self Employed\n",
       "1   2       A2   71   CALCUTTA    Silver 100000      C2   Salaried_MNC\n",
       "2   3       A3   34     COCHIN  Platimum  10000      C3   Salaried_Pvt\n",
       "3   4       A4   47     BOMBAY  Platimum  10001      C4           Govt\n",
       "4   5       A5   56  BANGALORE  Platimum  10002      C5  Normal Salary"
      ]
     },
     "execution_count": 386,
     "metadata": {},
     "output_type": "execute_result"
    }
   ],
   "source": [
    "customer.head()"
   ]
  },
  {
   "cell_type": "code",
   "execution_count": 387,
   "id": "cc73bac3-c80c-4b16-b100-e0b8438fab88",
   "metadata": {},
   "outputs": [],
   "source": [
    "##drop \"No\" column from customer - Not required\n",
    "customer = customer.drop(columns = 'No', axis=1)"
   ]
  },
  {
   "cell_type": "code",
   "execution_count": 389,
   "id": "ad6bd770-dee6-4bc0-860e-2d09aef096a6",
   "metadata": {},
   "outputs": [
    {
     "name": "stdout",
     "output_type": "stream",
     "text": [
      "<class 'pandas.core.frame.DataFrame'>\n",
      "RangeIndex: 100 entries, 0 to 99\n",
      "Data columns (total 7 columns):\n",
      " #   Column    Non-Null Count  Dtype  \n",
      "---  ------    --------------  -----  \n",
      " 0   Customer  100 non-null    object \n",
      " 1   Age       100 non-null    int64  \n",
      " 2   City      100 non-null    object \n",
      " 3   Product   100 non-null    object \n",
      " 4   Limit     100 non-null    float64\n",
      " 5   Company   100 non-null    object \n",
      " 6   Segment   100 non-null    object \n",
      "dtypes: float64(1), int64(1), object(5)\n",
      "memory usage: 5.6+ KB\n"
     ]
    }
   ],
   "source": [
    "customer.info()"
   ]
  },
  {
   "cell_type": "code",
   "execution_count": 79,
   "id": "a3b162f1-8339-4f13-a58a-00e176b235cf",
   "metadata": {},
   "outputs": [
    {
     "data": {
      "text/html": [
       "<div>\n",
       "<style scoped>\n",
       "    .dataframe tbody tr th:only-of-type {\n",
       "        vertical-align: middle;\n",
       "    }\n",
       "\n",
       "    .dataframe tbody tr th {\n",
       "        vertical-align: top;\n",
       "    }\n",
       "\n",
       "    .dataframe thead th {\n",
       "        text-align: right;\n",
       "    }\n",
       "</style>\n",
       "<table border=\"1\" class=\"dataframe\">\n",
       "  <thead>\n",
       "    <tr style=\"text-align: right;\">\n",
       "      <th></th>\n",
       "      <th>Age</th>\n",
       "      <th>Limit</th>\n",
       "    </tr>\n",
       "  </thead>\n",
       "  <tbody>\n",
       "    <tr>\n",
       "      <th>count</th>\n",
       "      <td>100</td>\n",
       "      <td>100</td>\n",
       "    </tr>\n",
       "    <tr>\n",
       "      <th>mean</th>\n",
       "      <td>46</td>\n",
       "      <td>284701</td>\n",
       "    </tr>\n",
       "    <tr>\n",
       "      <th>std</th>\n",
       "      <td>18</td>\n",
       "      <td>218495</td>\n",
       "    </tr>\n",
       "    <tr>\n",
       "      <th>min</th>\n",
       "      <td>12</td>\n",
       "      <td>10000</td>\n",
       "    </tr>\n",
       "    <tr>\n",
       "      <th>25%</th>\n",
       "      <td>34</td>\n",
       "      <td>100000</td>\n",
       "    </tr>\n",
       "    <tr>\n",
       "      <th>50%</th>\n",
       "      <td>46</td>\n",
       "      <td>300002</td>\n",
       "    </tr>\n",
       "    <tr>\n",
       "      <th>75%</th>\n",
       "      <td>60</td>\n",
       "      <td>500000</td>\n",
       "    </tr>\n",
       "    <tr>\n",
       "      <th>max</th>\n",
       "      <td>79</td>\n",
       "      <td>500000</td>\n",
       "    </tr>\n",
       "  </tbody>\n",
       "</table>\n",
       "</div>"
      ],
      "text/plain": [
       "       Age  Limit\n",
       "count  100    100\n",
       "mean    46 284701\n",
       "std     18 218495\n",
       "min     12  10000\n",
       "25%     34 100000\n",
       "50%     46 300002\n",
       "75%     60 500000\n",
       "max     79 500000"
      ]
     },
     "execution_count": 79,
     "metadata": {},
     "output_type": "execute_result"
    }
   ],
   "source": [
    "customer.describe()"
   ]
  },
  {
   "cell_type": "code",
   "execution_count": 390,
   "id": "36e9c2dc-c53b-4ce5-979e-8c0f57833d9d",
   "metadata": {},
   "outputs": [
    {
     "data": {
      "text/html": [
       "<div>\n",
       "<style scoped>\n",
       "    .dataframe tbody tr th:only-of-type {\n",
       "        vertical-align: middle;\n",
       "    }\n",
       "\n",
       "    .dataframe tbody tr th {\n",
       "        vertical-align: top;\n",
       "    }\n",
       "\n",
       "    .dataframe thead th {\n",
       "        text-align: right;\n",
       "    }\n",
       "</style>\n",
       "<table border=\"1\" class=\"dataframe\">\n",
       "  <thead>\n",
       "    <tr style=\"text-align: right;\">\n",
       "      <th></th>\n",
       "      <th>count</th>\n",
       "      <th>unique</th>\n",
       "      <th>top</th>\n",
       "      <th>freq</th>\n",
       "    </tr>\n",
       "  </thead>\n",
       "  <tbody>\n",
       "    <tr>\n",
       "      <th>Customer</th>\n",
       "      <td>100</td>\n",
       "      <td>100</td>\n",
       "      <td>A1</td>\n",
       "      <td>1</td>\n",
       "    </tr>\n",
       "    <tr>\n",
       "      <th>City</th>\n",
       "      <td>100</td>\n",
       "      <td>8</td>\n",
       "      <td>COCHIN</td>\n",
       "      <td>20</td>\n",
       "    </tr>\n",
       "    <tr>\n",
       "      <th>Product</th>\n",
       "      <td>100</td>\n",
       "      <td>3</td>\n",
       "      <td>Gold</td>\n",
       "      <td>38</td>\n",
       "    </tr>\n",
       "    <tr>\n",
       "      <th>Company</th>\n",
       "      <td>100</td>\n",
       "      <td>41</td>\n",
       "      <td>C21</td>\n",
       "      <td>4</td>\n",
       "    </tr>\n",
       "    <tr>\n",
       "      <th>Segment</th>\n",
       "      <td>100</td>\n",
       "      <td>5</td>\n",
       "      <td>Govt</td>\n",
       "      <td>29</td>\n",
       "    </tr>\n",
       "  </tbody>\n",
       "</table>\n",
       "</div>"
      ],
      "text/plain": [
       "         count unique     top freq\n",
       "Customer   100    100      A1    1\n",
       "City       100      8  COCHIN   20\n",
       "Product    100      3    Gold   38\n",
       "Company    100     41     C21    4\n",
       "Segment    100      5    Govt   29"
      ]
     },
     "execution_count": 390,
     "metadata": {},
     "output_type": "execute_result"
    }
   ],
   "source": [
    "customer.describe(include='object').T"
   ]
  },
  {
   "cell_type": "code",
   "execution_count": 391,
   "id": "4cda642a-af32-4a61-89c9-32f44dc44583",
   "metadata": {},
   "outputs": [
    {
     "name": "stdout",
     "output_type": "stream",
     "text": [
      "Customer\n",
      "A1      1\n",
      "A64     1\n",
      "A74     1\n",
      "A73     1\n",
      "A72     1\n",
      "       ..\n",
      "A31     1\n",
      "A30     1\n",
      "A29     1\n",
      "A28     1\n",
      "A100    1\n",
      "Name: count, Length: 100, dtype: int64\n",
      "\n",
      "\n",
      "City\n",
      "COCHIN        20\n",
      "BANGALORE     19\n",
      "CALCUTTA      18\n",
      "BOMBAY        14\n",
      "CHENNAI        8\n",
      "DELHI          7\n",
      "PATNA          7\n",
      "TRIVANDRUM     7\n",
      "Name: count, dtype: int64\n",
      "\n",
      "\n",
      "Product\n",
      "Gold        38\n",
      "Platimum    32\n",
      "Silver      30\n",
      "Name: count, dtype: int64\n",
      "\n",
      "\n",
      "Company\n",
      "C21    4\n",
      "C12    4\n",
      "C22    4\n",
      "C20    4\n",
      "C19    4\n",
      "C18    4\n",
      "C17    4\n",
      "C15    4\n",
      "C14    4\n",
      "C13    4\n",
      "C16    4\n",
      "C11    4\n",
      "C10    4\n",
      "C9     4\n",
      "C8     4\n",
      "C7     4\n",
      "C6     4\n",
      "C5     4\n",
      "C25    2\n",
      "C24    2\n",
      "C23    2\n",
      "C3     2\n",
      "C4     2\n",
      "C40    1\n",
      "C33    1\n",
      "C39    1\n",
      "C38    1\n",
      "C37    1\n",
      "C36    1\n",
      "C35    1\n",
      "C34    1\n",
      "C1     1\n",
      "C32    1\n",
      "C31    1\n",
      "C30    1\n",
      "C29    1\n",
      "C28    1\n",
      "C27    1\n",
      "C26    1\n",
      "C2     1\n",
      "C41    1\n",
      "Name: count, dtype: int64\n",
      "\n",
      "\n",
      "Segment\n",
      "Govt             29\n",
      "Self Employed    23\n",
      "Normal Salary    22\n",
      "Salaried_MNC     13\n",
      "Salaried_Pvt     13\n",
      "Name: count, dtype: int64\n",
      "\n",
      "\n"
     ]
    }
   ],
   "source": [
    "##value counts of categorical columns\n",
    "cust_cat = customer.select_dtypes('object').columns\n",
    "for i in cust_cat:\n",
    "    print(customer[i].value_counts())\n",
    "    print('\\n')"
   ]
  },
  {
   "cell_type": "code",
   "execution_count": 302,
   "id": "05742e2d-a2f3-4016-97a6-1f972cfb50e9",
   "metadata": {},
   "outputs": [
    {
     "data": {
      "text/html": [
       "<div>\n",
       "<style scoped>\n",
       "    .dataframe tbody tr th:only-of-type {\n",
       "        vertical-align: middle;\n",
       "    }\n",
       "\n",
       "    .dataframe tbody tr th {\n",
       "        vertical-align: top;\n",
       "    }\n",
       "\n",
       "    .dataframe thead th {\n",
       "        text-align: right;\n",
       "    }\n",
       "</style>\n",
       "<table border=\"1\" class=\"dataframe\">\n",
       "  <thead>\n",
       "    <tr style=\"text-align: right;\">\n",
       "      <th></th>\n",
       "      <th>Customer</th>\n",
       "      <th>Age</th>\n",
       "      <th>City</th>\n",
       "      <th>Product</th>\n",
       "      <th>Limit</th>\n",
       "      <th>Company</th>\n",
       "      <th>Segment</th>\n",
       "    </tr>\n",
       "  </thead>\n",
       "  <tbody>\n",
       "    <tr>\n",
       "      <th>0</th>\n",
       "      <td>A1</td>\n",
       "      <td>76</td>\n",
       "      <td>BANGALORE</td>\n",
       "      <td>Gold</td>\n",
       "      <td>500000</td>\n",
       "      <td>C1</td>\n",
       "      <td>Self Employed</td>\n",
       "    </tr>\n",
       "    <tr>\n",
       "      <th>1</th>\n",
       "      <td>A2</td>\n",
       "      <td>71</td>\n",
       "      <td>CALCUTTA</td>\n",
       "      <td>Silver</td>\n",
       "      <td>100000</td>\n",
       "      <td>C2</td>\n",
       "      <td>Salaried_MNC</td>\n",
       "    </tr>\n",
       "    <tr>\n",
       "      <th>2</th>\n",
       "      <td>A3</td>\n",
       "      <td>34</td>\n",
       "      <td>COCHIN</td>\n",
       "      <td>Platimum</td>\n",
       "      <td>10000</td>\n",
       "      <td>C3</td>\n",
       "      <td>Salaried_Pvt</td>\n",
       "    </tr>\n",
       "    <tr>\n",
       "      <th>3</th>\n",
       "      <td>A4</td>\n",
       "      <td>47</td>\n",
       "      <td>BOMBAY</td>\n",
       "      <td>Platimum</td>\n",
       "      <td>10001</td>\n",
       "      <td>C4</td>\n",
       "      <td>Govt</td>\n",
       "    </tr>\n",
       "    <tr>\n",
       "      <th>4</th>\n",
       "      <td>A5</td>\n",
       "      <td>56</td>\n",
       "      <td>BANGALORE</td>\n",
       "      <td>Platimum</td>\n",
       "      <td>10002</td>\n",
       "      <td>C5</td>\n",
       "      <td>Normal Salary</td>\n",
       "    </tr>\n",
       "  </tbody>\n",
       "</table>\n",
       "</div>"
      ],
      "text/plain": [
       "  Customer  Age       City   Product  Limit Company        Segment\n",
       "0       A1   76  BANGALORE      Gold 500000      C1  Self Employed\n",
       "1       A2   71   CALCUTTA    Silver 100000      C2   Salaried_MNC\n",
       "2       A3   34     COCHIN  Platimum  10000      C3   Salaried_Pvt\n",
       "3       A4   47     BOMBAY  Platimum  10001      C4           Govt\n",
       "4       A5   56  BANGALORE  Platimum  10002      C5  Normal Salary"
      ]
     },
     "execution_count": 302,
     "metadata": {},
     "output_type": "execute_result"
    }
   ],
   "source": [
    "customer.head()"
   ]
  },
  {
   "cell_type": "code",
   "execution_count": 392,
   "id": "c4a93519-1423-4f18-a7a4-966efc51f090",
   "metadata": {},
   "outputs": [
    {
     "data": {
      "text/plain": [
       "Customer    0\n",
       "Age         0\n",
       "City        0\n",
       "Product     0\n",
       "Limit       0\n",
       "Company     0\n",
       "Segment     0\n",
       "dtype: int64"
      ]
     },
     "execution_count": 392,
     "metadata": {},
     "output_type": "execute_result"
    }
   ],
   "source": [
    "customer.isnull().sum()"
   ]
  },
  {
   "cell_type": "markdown",
   "id": "2e6f5493-8080-4e9c-ab44-25c887da5784",
   "metadata": {},
   "source": [
    "## Univariate Analysis - Customer"
   ]
  },
  {
   "cell_type": "code",
   "execution_count": 323,
   "id": "bcbdf8f5-c765-45ba-87ee-367fdb94fbdd",
   "metadata": {},
   "outputs": [
    {
     "data": {
      "image/png": "[encoded data removed]",
      "text/plain": [
       "<Figure size 640x480 with 1 Axes>"
      ]
     },
     "metadata": {},
     "output_type": "display_data"
    },
    {
     "data": {
      "image/png": "[encoded data removed]",
      "text/plain": [
       "<Figure size 640x480 with 1 Axes>"
      ]
     },
     "metadata": {},
     "output_type": "display_data"
    }
   ],
   "source": [
    "## CReating boxplot\n",
    "for i in customer.select_dtypes('number').columns:\n",
    "    customer[i].plot(kind = 'box')\n",
    "    plt.show()"
   ]
  },
  {
   "cell_type": "markdown",
   "id": "bb45ff75-92f3-41a2-b19b-e95108a9bda8",
   "metadata": {},
   "source": [
    "### NO OUTLIERS PRESENT"
   ]
  },
  {
   "cell_type": "code",
   "execution_count": 125,
   "id": "03f546ea-05e7-4d5a-b6e2-6e93dbdf461c",
   "metadata": {},
   "outputs": [
    {
     "data": {
      "image/png": "[encoded data removed]",
      "text/plain": [
       "<Figure size 1400x500 with 1 Axes>"
      ]
     },
     "metadata": {},
     "output_type": "display_data"
    },
    {
     "data": {
      "image/png": "[encoded data removed]",
      "text/plain": [
       "<Figure size 1400x500 with 1 Axes>"
      ]
     },
     "metadata": {},
     "output_type": "display_data"
    },
    {
     "data": {
      "image/png": "[encoded data removed]",
      "text/plain": [
       "<Figure size 1400x500 with 1 Axes>"
      ]
     },
     "metadata": {},
     "output_type": "display_data"
    }
   ],
   "source": [
    "## Checking frequency of categorical variable\n",
    "for i in customer.select_dtypes('object').drop(columns = ['Customer','Company'], axis = 1).columns:\n",
    "    plt.figure(figsize=(14,5))\n",
    "    sns.countplot(data = customer, x = i)\n",
    "    plt.show()"
   ]
  },
  {
   "cell_type": "markdown",
   "id": "1f62d036-0ce6-444d-b82b-9b1275d8b9b8",
   "metadata": {},
   "source": [
    "MAXimum customer are GOVT EMPLOYEE \n",
    "Most of them carry product GOLD and\n",
    "Cochin is where max customer belong to followed by Bangalore and Calcutta"
   ]
  },
  {
   "cell_type": "markdown",
   "id": "f60d701e-02f2-4cb5-8065-aa006282b02e",
   "metadata": {},
   "source": [
    "## Bivariate Analysis - Customer"
   ]
  },
  {
   "cell_type": "code",
   "execution_count": 110,
   "id": "a7b5a273-1a15-4bda-8f9a-c1196696dd00",
   "metadata": {},
   "outputs": [
    {
     "data": {
      "text/html": [
       "<div>\n",
       "<style scoped>\n",
       "    .dataframe tbody tr th:only-of-type {\n",
       "        vertical-align: middle;\n",
       "    }\n",
       "\n",
       "    .dataframe tbody tr th {\n",
       "        vertical-align: top;\n",
       "    }\n",
       "\n",
       "    .dataframe thead th {\n",
       "        text-align: right;\n",
       "    }\n",
       "</style>\n",
       "<table border=\"1\" class=\"dataframe\">\n",
       "  <thead>\n",
       "    <tr style=\"text-align: right;\">\n",
       "      <th></th>\n",
       "      <th>Age</th>\n",
       "      <th>Limit</th>\n",
       "    </tr>\n",
       "  </thead>\n",
       "  <tbody>\n",
       "    <tr>\n",
       "      <th>Age</th>\n",
       "      <td>1</td>\n",
       "      <td>0</td>\n",
       "    </tr>\n",
       "    <tr>\n",
       "      <th>Limit</th>\n",
       "      <td>0</td>\n",
       "      <td>1</td>\n",
       "    </tr>\n",
       "  </tbody>\n",
       "</table>\n",
       "</div>"
      ],
      "text/plain": [
       "       Age  Limit\n",
       "Age      1      0\n",
       "Limit    0      1"
      ]
     },
     "execution_count": 110,
     "metadata": {},
     "output_type": "execute_result"
    }
   ],
   "source": [
    "##USING CORR()\n",
    "customer.select_dtypes('number').corr()"
   ]
  },
  {
   "cell_type": "code",
   "execution_count": 111,
   "id": "f377848b-258c-4028-9e5a-8692c6074757",
   "metadata": {},
   "outputs": [
    {
     "data": {
      "image/png": "[encoded data removed]",
      "text/plain": [
       "<Figure size 900x400 with 2 Axes>"
      ]
     },
     "metadata": {},
     "output_type": "display_data"
    }
   ],
   "source": [
    "plt.figure(figsize= (9,4))\n",
    "sns.heatmap(data= customer.select_dtypes('number').corr(), annot= True, vmin=-1, vmax= 1, cmap='Greens')\n",
    "plt.show()"
   ]
  },
  {
   "cell_type": "markdown",
   "id": "7fab5dda-2907-4b3c-8318-24272bd323ce",
   "metadata": {},
   "source": [
    "#### SPEND TABLE"
   ]
  },
  {
   "cell_type": "code",
   "execution_count": 324,
   "id": "0127fcbe-2db1-471a-8e55-434077f3879f",
   "metadata": {},
   "outputs": [
    {
     "data": {
      "text/html": [
       "<div>\n",
       "<style scoped>\n",
       "    .dataframe tbody tr th:only-of-type {\n",
       "        vertical-align: middle;\n",
       "    }\n",
       "\n",
       "    .dataframe tbody tr th {\n",
       "        vertical-align: top;\n",
       "    }\n",
       "\n",
       "    .dataframe thead th {\n",
       "        text-align: right;\n",
       "    }\n",
       "</style>\n",
       "<table border=\"1\" class=\"dataframe\">\n",
       "  <thead>\n",
       "    <tr style=\"text-align: right;\">\n",
       "      <th></th>\n",
       "      <th>Sl No:</th>\n",
       "      <th>Customer</th>\n",
       "      <th>Month</th>\n",
       "      <th>Type</th>\n",
       "      <th>Amount</th>\n",
       "    </tr>\n",
       "  </thead>\n",
       "  <tbody>\n",
       "    <tr>\n",
       "      <th>0</th>\n",
       "      <td>1</td>\n",
       "      <td>A1</td>\n",
       "      <td>12-Jan-04</td>\n",
       "      <td>JEWELLERY</td>\n",
       "      <td>485471</td>\n",
       "    </tr>\n",
       "    <tr>\n",
       "      <th>1</th>\n",
       "      <td>2</td>\n",
       "      <td>A1</td>\n",
       "      <td>3-Jan-04</td>\n",
       "      <td>PETRO</td>\n",
       "      <td>410556</td>\n",
       "    </tr>\n",
       "    <tr>\n",
       "      <th>2</th>\n",
       "      <td>3</td>\n",
       "      <td>A1</td>\n",
       "      <td>15-Jan-04</td>\n",
       "      <td>CLOTHES</td>\n",
       "      <td>23740</td>\n",
       "    </tr>\n",
       "    <tr>\n",
       "      <th>3</th>\n",
       "      <td>4</td>\n",
       "      <td>A1</td>\n",
       "      <td>25-Jan-04</td>\n",
       "      <td>FOOD</td>\n",
       "      <td>484342</td>\n",
       "    </tr>\n",
       "    <tr>\n",
       "      <th>4</th>\n",
       "      <td>5</td>\n",
       "      <td>A1</td>\n",
       "      <td>17-Jan-05</td>\n",
       "      <td>CAMERA</td>\n",
       "      <td>369694</td>\n",
       "    </tr>\n",
       "  </tbody>\n",
       "</table>\n",
       "</div>"
      ],
      "text/plain": [
       "   Sl No: Customer      Month       Type  Amount\n",
       "0       1       A1  12-Jan-04  JEWELLERY  485471\n",
       "1       2       A1   3-Jan-04      PETRO  410556\n",
       "2       3       A1  15-Jan-04    CLOTHES   23740\n",
       "3       4       A1  25-Jan-04       FOOD  484342\n",
       "4       5       A1  17-Jan-05     CAMERA  369694"
      ]
     },
     "execution_count": 324,
     "metadata": {},
     "output_type": "execute_result"
    }
   ],
   "source": [
    "spend.head()"
   ]
  },
  {
   "cell_type": "code",
   "execution_count": 393,
   "id": "7407f656-0a76-4012-9490-037786270a1d",
   "metadata": {},
   "outputs": [],
   "source": [
    "##drop \"Sl No:\" column from \"spend\" - No need\n",
    "spend = spend.drop(columns = 'Sl No:', axis=1)"
   ]
  },
  {
   "cell_type": "code",
   "execution_count": 394,
   "id": "95627d1b-522d-4994-83c2-b38b7e45dd2c",
   "metadata": {},
   "outputs": [],
   "source": [
    "##change the type of month column from object to datetime in spend table\n",
    "spend.Month = pd.to_datetime(spend.Month)"
   ]
  },
  {
   "cell_type": "code",
   "execution_count": 395,
   "id": "1b5e71cc-8b8e-4842-a24b-9f4efe9ad0ae",
   "metadata": {},
   "outputs": [
    {
     "name": "stdout",
     "output_type": "stream",
     "text": [
      "<class 'pandas.core.frame.DataFrame'>\n",
      "RangeIndex: 1500 entries, 0 to 1499\n",
      "Data columns (total 4 columns):\n",
      " #   Column    Non-Null Count  Dtype         \n",
      "---  ------    --------------  -----         \n",
      " 0   Customer  1500 non-null   object        \n",
      " 1   Month     1500 non-null   datetime64[ns]\n",
      " 2   Type      1500 non-null   object        \n",
      " 3   Amount    1500 non-null   float64       \n",
      "dtypes: datetime64[ns](1), float64(1), object(2)\n",
      "memory usage: 47.0+ KB\n"
     ]
    }
   ],
   "source": [
    "spend.info()"
   ]
  },
  {
   "cell_type": "code",
   "execution_count": 396,
   "id": "2b3fd603-7466-40b4-a631-bea8717069e3",
   "metadata": {},
   "outputs": [
    {
     "data": {
      "text/html": [
       "<div>\n",
       "<style scoped>\n",
       "    .dataframe tbody tr th:only-of-type {\n",
       "        vertical-align: middle;\n",
       "    }\n",
       "\n",
       "    .dataframe tbody tr th {\n",
       "        vertical-align: top;\n",
       "    }\n",
       "\n",
       "    .dataframe thead th {\n",
       "        text-align: right;\n",
       "    }\n",
       "</style>\n",
       "<table border=\"1\" class=\"dataframe\">\n",
       "  <thead>\n",
       "    <tr style=\"text-align: right;\">\n",
       "      <th></th>\n",
       "      <th>count</th>\n",
       "      <th>mean</th>\n",
       "      <th>min</th>\n",
       "      <th>25%</th>\n",
       "      <th>50%</th>\n",
       "      <th>75%</th>\n",
       "      <th>max</th>\n",
       "      <th>std</th>\n",
       "    </tr>\n",
       "  </thead>\n",
       "  <tbody>\n",
       "    <tr>\n",
       "      <th>Amount</th>\n",
       "      <td>1500</td>\n",
       "      <td>243096</td>\n",
       "      <td>720</td>\n",
       "      <td>122606</td>\n",
       "      <td>239210</td>\n",
       "      <td>361618</td>\n",
       "      <td>499793</td>\n",
       "      <td>141350</td>\n",
       "    </tr>\n",
       "  </tbody>\n",
       "</table>\n",
       "</div>"
      ],
      "text/plain": [
       "        count   mean  min    25%    50%    75%    max    std\n",
       "Amount   1500 243096  720 122606 239210 361618 499793 141350"
      ]
     },
     "execution_count": 396,
     "metadata": {},
     "output_type": "execute_result"
    }
   ],
   "source": [
    "spend.describe().drop('Month', axis=1).T"
   ]
  },
  {
   "cell_type": "code",
   "execution_count": 330,
   "id": "0368db11-4193-4bcc-9f02-fc7d37144457",
   "metadata": {},
   "outputs": [
    {
     "data": {
      "text/html": [
       "<div>\n",
       "<style scoped>\n",
       "    .dataframe tbody tr th:only-of-type {\n",
       "        vertical-align: middle;\n",
       "    }\n",
       "\n",
       "    .dataframe tbody tr th {\n",
       "        vertical-align: top;\n",
       "    }\n",
       "\n",
       "    .dataframe thead th {\n",
       "        text-align: right;\n",
       "    }\n",
       "</style>\n",
       "<table border=\"1\" class=\"dataframe\">\n",
       "  <thead>\n",
       "    <tr style=\"text-align: right;\">\n",
       "      <th></th>\n",
       "      <th>count</th>\n",
       "      <th>unique</th>\n",
       "      <th>top</th>\n",
       "      <th>freq</th>\n",
       "    </tr>\n",
       "  </thead>\n",
       "  <tbody>\n",
       "    <tr>\n",
       "      <th>Customer</th>\n",
       "      <td>1500</td>\n",
       "      <td>100</td>\n",
       "      <td>A61</td>\n",
       "      <td>38</td>\n",
       "    </tr>\n",
       "    <tr>\n",
       "      <th>Type</th>\n",
       "      <td>1500</td>\n",
       "      <td>15</td>\n",
       "      <td>PETRO</td>\n",
       "      <td>200</td>\n",
       "    </tr>\n",
       "  </tbody>\n",
       "</table>\n",
       "</div>"
      ],
      "text/plain": [
       "         count unique    top freq\n",
       "Customer  1500    100    A61   38\n",
       "Type      1500     15  PETRO  200"
      ]
     },
     "execution_count": 330,
     "metadata": {},
     "output_type": "execute_result"
    }
   ],
   "source": [
    "spend.describe(include = 'object').T"
   ]
  },
  {
   "cell_type": "code",
   "execution_count": 331,
   "id": "1285ba40-51b3-4148-8a36-d7ed9de4181c",
   "metadata": {},
   "outputs": [
    {
     "data": {
      "text/plain": [
       "Customer            object\n",
       "Month       datetime64[ns]\n",
       "Type                object\n",
       "Amount             float64\n",
       "dtype: object"
      ]
     },
     "execution_count": 331,
     "metadata": {},
     "output_type": "execute_result"
    }
   ],
   "source": [
    "spend.dtypes"
   ]
  },
  {
   "cell_type": "code",
   "execution_count": 96,
   "id": "3b84c62c-2ef9-4fd6-8f92-3ca891cd8c91",
   "metadata": {},
   "outputs": [
    {
     "name": "stdout",
     "output_type": "stream",
     "text": [
      "Customer\n",
      "A61    38\n",
      "A60    38\n",
      "A22    33\n",
      "A21    33\n",
      "A41    31\n",
      "       ..\n",
      "A83     1\n",
      "A85     1\n",
      "A86     1\n",
      "A87     1\n",
      "A80     1\n",
      "Name: count, Length: 100, dtype: int64\n",
      "\n",
      "\n",
      "Type\n",
      "PETRO           200\n",
      "FOOD            160\n",
      "CAMERA          160\n",
      "AIR TICKET      147\n",
      "TRAIN TICKET    132\n",
      "SHOPPING        113\n",
      "BUS TICKET       99\n",
      "JEWELLERY        95\n",
      "CLOTHES          95\n",
      "RENTAL           76\n",
      "MOVIE TICKET     76\n",
      "BIKE             49\n",
      "AUTO             40\n",
      "CAR              30\n",
      "SANDALS          28\n",
      "Name: count, dtype: int64\n",
      "\n",
      "\n"
     ]
    }
   ],
   "source": [
    "##value counts of categorical columns\n",
    "spend_cat = spend.select_dtypes('object').columns\n",
    "for i in spend_cat:\n",
    "    print(spend[i].value_counts())\n",
    "    print('\\n')"
   ]
  },
  {
   "cell_type": "markdown",
   "id": "1a7fb691-5d91-4f06-9f7f-ec3384dc17d8",
   "metadata": {},
   "source": [
    "## UNIVARIATE ANALYSIS - SPEND TABLE"
   ]
  },
  {
   "cell_type": "code",
   "execution_count": 114,
   "id": "1226f37f-10f2-4581-aeb1-0815dba7c53c",
   "metadata": {},
   "outputs": [
    {
     "data": {
      "image/png": "[encoded data removed]",
      "text/plain": [
       "<Figure size 640x480 with 1 Axes>"
      ]
     },
     "metadata": {},
     "output_type": "display_data"
    }
   ],
   "source": [
    "## creating boxplot\n",
    "for i in spend.select_dtypes('number').columns:\n",
    "    spend[i].plot(kind = 'box')\n",
    "    plt.show()"
   ]
  },
  {
   "cell_type": "markdown",
   "id": "a2112357-54b9-449b-a3c4-86343e216519",
   "metadata": {},
   "source": [
    "### NO OUTLIERS PRESENT - SPEND"
   ]
  },
  {
   "cell_type": "code",
   "execution_count": 126,
   "id": "89f4a067-5698-4d97-87b0-68638fa49c2a",
   "metadata": {},
   "outputs": [],
   "source": [
    "## Checking frequency of categorical variable"
   ]
  },
  {
   "cell_type": "code",
   "execution_count": 128,
   "id": "fc3e2bb1-36df-4bfe-874a-7de38e59c895",
   "metadata": {},
   "outputs": [
    {
     "data": {
      "image/png": "[encoded data removed]",
      "text/plain": [
       "<Figure size 1400x500 with 1 Axes>"
      ]
     },
     "metadata": {},
     "output_type": "display_data"
    }
   ],
   "source": [
    "for i in spend.select_dtypes('object').drop(columns = ['Customer'], axis = 1).columns:\n",
    "    plt.figure(figsize=(14,5))\n",
    "    sns.countplot(data = spend, x = i)\n",
    "    plt.show()"
   ]
  },
  {
   "cell_type": "code",
   "execution_count": null,
   "id": "8b59e1ca-a7c6-48f9-87d9-50056ec9217a",
   "metadata": {},
   "outputs": [],
   "source": [
    "Customers spend max amount on PETROL followed by FOOD and CAMERA"
   ]
  },
  {
   "cell_type": "markdown",
   "id": "01477362-fa22-4ab0-b262-4c985f1bd261",
   "metadata": {},
   "source": [
    "#### BIVARIATE ANALYSIS"
   ]
  },
  {
   "cell_type": "code",
   "execution_count": 140,
   "id": "ff063ee7-e8bc-4402-87e2-eacd2d3b722b",
   "metadata": {},
   "outputs": [
    {
     "data": {
      "image/png": "[encoded data removed]",
      "text/plain": [
       "<Figure size 1300x500 with 2 Axes>"
      ]
     },
     "metadata": {},
     "output_type": "display_data"
    }
   ],
   "source": [
    "##Creating heatmap:\n",
    "cust_type = pd.crosstab(spend.Type, spend.Customer)\n",
    "plt.figure(figsize = (13,5))\n",
    "sns.heatmap(data = cust_type)\n",
    "plt.show()"
   ]
  },
  {
   "cell_type": "code",
   "execution_count": 397,
   "id": "b98d8d5b-6b54-4885-8595-329837353dbd",
   "metadata": {},
   "outputs": [
    {
     "data": {
      "text/plain": [
       "Customer    0\n",
       "Month       0\n",
       "Type        0\n",
       "Amount      0\n",
       "dtype: int64"
      ]
     },
     "execution_count": 397,
     "metadata": {},
     "output_type": "execute_result"
    }
   ],
   "source": [
    "spend.isnull().sum()"
   ]
  },
  {
   "cell_type": "markdown",
   "id": "081d8921-1be5-4809-9967-433ec30201d9",
   "metadata": {},
   "source": [
    "#### REPAYMENT TABLE"
   ]
  },
  {
   "cell_type": "code",
   "execution_count": 333,
   "id": "9bc8fc16-9553-4297-ad55-543487fe27a8",
   "metadata": {},
   "outputs": [
    {
     "data": {
      "text/html": [
       "<div>\n",
       "<style scoped>\n",
       "    .dataframe tbody tr th:only-of-type {\n",
       "        vertical-align: middle;\n",
       "    }\n",
       "\n",
       "    .dataframe tbody tr th {\n",
       "        vertical-align: top;\n",
       "    }\n",
       "\n",
       "    .dataframe thead th {\n",
       "        text-align: right;\n",
       "    }\n",
       "</style>\n",
       "<table border=\"1\" class=\"dataframe\">\n",
       "  <thead>\n",
       "    <tr style=\"text-align: right;\">\n",
       "      <th></th>\n",
       "      <th>SL No:</th>\n",
       "      <th>Customer</th>\n",
       "      <th>Month</th>\n",
       "      <th>Amount</th>\n",
       "      <th>Unnamed: 4</th>\n",
       "    </tr>\n",
       "  </thead>\n",
       "  <tbody>\n",
       "    <tr>\n",
       "      <th>0</th>\n",
       "      <td>NaN</td>\n",
       "      <td>A1</td>\n",
       "      <td>12-Jan-04</td>\n",
       "      <td>495415</td>\n",
       "      <td>NaN</td>\n",
       "    </tr>\n",
       "    <tr>\n",
       "      <th>1</th>\n",
       "      <td>2</td>\n",
       "      <td>A1</td>\n",
       "      <td>3-Jan-04</td>\n",
       "      <td>245899</td>\n",
       "      <td>NaN</td>\n",
       "    </tr>\n",
       "    <tr>\n",
       "      <th>2</th>\n",
       "      <td>3</td>\n",
       "      <td>A1</td>\n",
       "      <td>15-Jan-04</td>\n",
       "      <td>259490</td>\n",
       "      <td>NaN</td>\n",
       "    </tr>\n",
       "    <tr>\n",
       "      <th>3</th>\n",
       "      <td>4</td>\n",
       "      <td>A1</td>\n",
       "      <td>25-Jan-04</td>\n",
       "      <td>437555</td>\n",
       "      <td>NaN</td>\n",
       "    </tr>\n",
       "    <tr>\n",
       "      <th>4</th>\n",
       "      <td>5</td>\n",
       "      <td>A1</td>\n",
       "      <td>17-Jan-05</td>\n",
       "      <td>165973</td>\n",
       "      <td>NaN</td>\n",
       "    </tr>\n",
       "  </tbody>\n",
       "</table>\n",
       "</div>"
      ],
      "text/plain": [
       "   SL No: Customer      Month  Amount  Unnamed: 4\n",
       "0     NaN       A1  12-Jan-04  495415         NaN\n",
       "1       2       A1   3-Jan-04  245899         NaN\n",
       "2       3       A1  15-Jan-04  259490         NaN\n",
       "3       4       A1  25-Jan-04  437555         NaN\n",
       "4       5       A1  17-Jan-05  165973         NaN"
      ]
     },
     "execution_count": 333,
     "metadata": {},
     "output_type": "execute_result"
    }
   ],
   "source": [
    "repayment.head()"
   ]
  },
  {
   "cell_type": "code",
   "execution_count": 398,
   "id": "bed752a9-df4a-4231-9d9d-9e366032f493",
   "metadata": {},
   "outputs": [],
   "source": [
    "##drop \"SL No:\" and \"Unnamed: 4\" column from customer - No need\n",
    "repayment = repayment.drop(columns = ['SL No:','Unnamed: 4'], axis = 1)"
   ]
  },
  {
   "cell_type": "code",
   "execution_count": 399,
   "id": "02dc07c5-1143-4516-a9c2-ba4eaee2d58e",
   "metadata": {},
   "outputs": [
    {
     "name": "stdout",
     "output_type": "stream",
     "text": [
      "<class 'pandas.core.frame.DataFrame'>\n",
      "RangeIndex: 1523 entries, 0 to 1522\n",
      "Data columns (total 3 columns):\n",
      " #   Column    Non-Null Count  Dtype  \n",
      "---  ------    --------------  -----  \n",
      " 0   Customer  1500 non-null   object \n",
      " 1   Month     1500 non-null   object \n",
      " 2   Amount    1500 non-null   float64\n",
      "dtypes: float64(1), object(2)\n",
      "memory usage: 35.8+ KB\n"
     ]
    }
   ],
   "source": [
    "repayment.info()"
   ]
  },
  {
   "cell_type": "code",
   "execution_count": 336,
   "id": "b831fab4-1886-46b7-950c-ee4ab0fb9879",
   "metadata": {},
   "outputs": [
    {
     "data": {
      "text/html": [
       "<div>\n",
       "<style scoped>\n",
       "    .dataframe tbody tr th:only-of-type {\n",
       "        vertical-align: middle;\n",
       "    }\n",
       "\n",
       "    .dataframe tbody tr th {\n",
       "        vertical-align: top;\n",
       "    }\n",
       "\n",
       "    .dataframe thead th {\n",
       "        text-align: right;\n",
       "    }\n",
       "</style>\n",
       "<table border=\"1\" class=\"dataframe\">\n",
       "  <thead>\n",
       "    <tr style=\"text-align: right;\">\n",
       "      <th></th>\n",
       "      <th>Customer</th>\n",
       "      <th>Month</th>\n",
       "      <th>Amount</th>\n",
       "    </tr>\n",
       "  </thead>\n",
       "  <tbody>\n",
       "    <tr>\n",
       "      <th>1500</th>\n",
       "      <td>NaN</td>\n",
       "      <td>NaN</td>\n",
       "      <td>NaN</td>\n",
       "    </tr>\n",
       "    <tr>\n",
       "      <th>1501</th>\n",
       "      <td>NaN</td>\n",
       "      <td>NaN</td>\n",
       "      <td>NaN</td>\n",
       "    </tr>\n",
       "    <tr>\n",
       "      <th>1502</th>\n",
       "      <td>NaN</td>\n",
       "      <td>NaN</td>\n",
       "      <td>NaN</td>\n",
       "    </tr>\n",
       "    <tr>\n",
       "      <th>1503</th>\n",
       "      <td>NaN</td>\n",
       "      <td>NaN</td>\n",
       "      <td>NaN</td>\n",
       "    </tr>\n",
       "    <tr>\n",
       "      <th>1504</th>\n",
       "      <td>NaN</td>\n",
       "      <td>NaN</td>\n",
       "      <td>NaN</td>\n",
       "    </tr>\n",
       "    <tr>\n",
       "      <th>1505</th>\n",
       "      <td>NaN</td>\n",
       "      <td>NaN</td>\n",
       "      <td>NaN</td>\n",
       "    </tr>\n",
       "    <tr>\n",
       "      <th>1506</th>\n",
       "      <td>NaN</td>\n",
       "      <td>NaN</td>\n",
       "      <td>NaN</td>\n",
       "    </tr>\n",
       "    <tr>\n",
       "      <th>1507</th>\n",
       "      <td>NaN</td>\n",
       "      <td>NaN</td>\n",
       "      <td>NaN</td>\n",
       "    </tr>\n",
       "    <tr>\n",
       "      <th>1508</th>\n",
       "      <td>NaN</td>\n",
       "      <td>NaN</td>\n",
       "      <td>NaN</td>\n",
       "    </tr>\n",
       "    <tr>\n",
       "      <th>1509</th>\n",
       "      <td>NaN</td>\n",
       "      <td>NaN</td>\n",
       "      <td>NaN</td>\n",
       "    </tr>\n",
       "    <tr>\n",
       "      <th>1510</th>\n",
       "      <td>NaN</td>\n",
       "      <td>NaN</td>\n",
       "      <td>NaN</td>\n",
       "    </tr>\n",
       "    <tr>\n",
       "      <th>1511</th>\n",
       "      <td>NaN</td>\n",
       "      <td>NaN</td>\n",
       "      <td>NaN</td>\n",
       "    </tr>\n",
       "    <tr>\n",
       "      <th>1512</th>\n",
       "      <td>NaN</td>\n",
       "      <td>NaN</td>\n",
       "      <td>NaN</td>\n",
       "    </tr>\n",
       "    <tr>\n",
       "      <th>1513</th>\n",
       "      <td>NaN</td>\n",
       "      <td>NaN</td>\n",
       "      <td>NaN</td>\n",
       "    </tr>\n",
       "    <tr>\n",
       "      <th>1514</th>\n",
       "      <td>NaN</td>\n",
       "      <td>NaN</td>\n",
       "      <td>NaN</td>\n",
       "    </tr>\n",
       "    <tr>\n",
       "      <th>1515</th>\n",
       "      <td>NaN</td>\n",
       "      <td>NaN</td>\n",
       "      <td>NaN</td>\n",
       "    </tr>\n",
       "    <tr>\n",
       "      <th>1516</th>\n",
       "      <td>NaN</td>\n",
       "      <td>NaN</td>\n",
       "      <td>NaN</td>\n",
       "    </tr>\n",
       "    <tr>\n",
       "      <th>1517</th>\n",
       "      <td>NaN</td>\n",
       "      <td>NaN</td>\n",
       "      <td>NaN</td>\n",
       "    </tr>\n",
       "    <tr>\n",
       "      <th>1518</th>\n",
       "      <td>NaN</td>\n",
       "      <td>NaN</td>\n",
       "      <td>NaN</td>\n",
       "    </tr>\n",
       "    <tr>\n",
       "      <th>1519</th>\n",
       "      <td>NaN</td>\n",
       "      <td>NaN</td>\n",
       "      <td>NaN</td>\n",
       "    </tr>\n",
       "    <tr>\n",
       "      <th>1520</th>\n",
       "      <td>NaN</td>\n",
       "      <td>NaN</td>\n",
       "      <td>NaN</td>\n",
       "    </tr>\n",
       "    <tr>\n",
       "      <th>1521</th>\n",
       "      <td>NaN</td>\n",
       "      <td>NaN</td>\n",
       "      <td>NaN</td>\n",
       "    </tr>\n",
       "    <tr>\n",
       "      <th>1522</th>\n",
       "      <td>NaN</td>\n",
       "      <td>NaN</td>\n",
       "      <td>NaN</td>\n",
       "    </tr>\n",
       "  </tbody>\n",
       "</table>\n",
       "</div>"
      ],
      "text/plain": [
       "     Customer Month  Amount\n",
       "1500      NaN   NaN     NaN\n",
       "1501      NaN   NaN     NaN\n",
       "1502      NaN   NaN     NaN\n",
       "1503      NaN   NaN     NaN\n",
       "1504      NaN   NaN     NaN\n",
       "1505      NaN   NaN     NaN\n",
       "1506      NaN   NaN     NaN\n",
       "1507      NaN   NaN     NaN\n",
       "1508      NaN   NaN     NaN\n",
       "1509      NaN   NaN     NaN\n",
       "1510      NaN   NaN     NaN\n",
       "1511      NaN   NaN     NaN\n",
       "1512      NaN   NaN     NaN\n",
       "1513      NaN   NaN     NaN\n",
       "1514      NaN   NaN     NaN\n",
       "1515      NaN   NaN     NaN\n",
       "1516      NaN   NaN     NaN\n",
       "1517      NaN   NaN     NaN\n",
       "1518      NaN   NaN     NaN\n",
       "1519      NaN   NaN     NaN\n",
       "1520      NaN   NaN     NaN\n",
       "1521      NaN   NaN     NaN\n",
       "1522      NaN   NaN     NaN"
      ]
     },
     "execution_count": 336,
     "metadata": {},
     "output_type": "execute_result"
    }
   ],
   "source": [
    "##checking any null values in any columns in repayment\n",
    "repayment[repayment.isnull().any(axis = 1)]"
   ]
  },
  {
   "cell_type": "code",
   "execution_count": 400,
   "id": "0c41f4fe-b1a7-491b-ae45-8b2596e1f3a3",
   "metadata": {},
   "outputs": [],
   "source": [
    "## droping the rows having NULL values in repayment table- \n",
    "repayment.dropna(axis=0, inplace=True)"
   ]
  },
  {
   "cell_type": "code",
   "execution_count": 401,
   "id": "2a7aaef0-fac1-41db-ac09-e0159a59e5f5",
   "metadata": {},
   "outputs": [
    {
     "data": {
      "text/plain": [
       "Customer    0\n",
       "Month       0\n",
       "Amount      0\n",
       "dtype: int64"
      ]
     },
     "execution_count": 401,
     "metadata": {},
     "output_type": "execute_result"
    }
   ],
   "source": [
    "repayment.isnull().sum()"
   ]
  },
  {
   "cell_type": "code",
   "execution_count": 402,
   "id": "bdc27596-0a67-4cf8-bd08-b59f54084970",
   "metadata": {},
   "outputs": [],
   "source": [
    "##change the type of month column from object to datetime in repayment table\n",
    "repayment.Month = pd.to_datetime(repayment.Month)"
   ]
  },
  {
   "cell_type": "code",
   "execution_count": 403,
   "id": "6cdcaee7-4bf0-42a9-9bc4-788d92d842ef",
   "metadata": {},
   "outputs": [
    {
     "name": "stdout",
     "output_type": "stream",
     "text": [
      "<class 'pandas.core.frame.DataFrame'>\n",
      "Index: 1500 entries, 0 to 1499\n",
      "Data columns (total 3 columns):\n",
      " #   Column    Non-Null Count  Dtype         \n",
      "---  ------    --------------  -----         \n",
      " 0   Customer  1500 non-null   object        \n",
      " 1   Month     1500 non-null   datetime64[ns]\n",
      " 2   Amount    1500 non-null   float64       \n",
      "dtypes: datetime64[ns](1), float64(1), object(1)\n",
      "memory usage: 46.9+ KB\n"
     ]
    }
   ],
   "source": [
    "repayment.info()"
   ]
  },
  {
   "cell_type": "code",
   "execution_count": 341,
   "id": "2b3c84a5-c6e1-4a50-ab80-d46e421f0341",
   "metadata": {},
   "outputs": [
    {
     "data": {
      "text/html": [
       "<div>\n",
       "<style scoped>\n",
       "    .dataframe tbody tr th:only-of-type {\n",
       "        vertical-align: middle;\n",
       "    }\n",
       "\n",
       "    .dataframe tbody tr th {\n",
       "        vertical-align: top;\n",
       "    }\n",
       "\n",
       "    .dataframe thead th {\n",
       "        text-align: right;\n",
       "    }\n",
       "</style>\n",
       "<table border=\"1\" class=\"dataframe\">\n",
       "  <thead>\n",
       "    <tr style=\"text-align: right;\">\n",
       "      <th></th>\n",
       "      <th>count</th>\n",
       "      <th>mean</th>\n",
       "      <th>min</th>\n",
       "      <th>25%</th>\n",
       "      <th>50%</th>\n",
       "      <th>75%</th>\n",
       "      <th>max</th>\n",
       "      <th>std</th>\n",
       "    </tr>\n",
       "  </thead>\n",
       "  <tbody>\n",
       "    <tr>\n",
       "      <th>Amount</th>\n",
       "      <td>1500</td>\n",
       "      <td>247890</td>\n",
       "      <td>56</td>\n",
       "      <td>118605</td>\n",
       "      <td>248008</td>\n",
       "      <td>367237</td>\n",
       "      <td>499931</td>\n",
       "      <td>145290</td>\n",
       "    </tr>\n",
       "  </tbody>\n",
       "</table>\n",
       "</div>"
      ],
      "text/plain": [
       "        count   mean  min    25%    50%    75%    max    std\n",
       "Amount   1500 247890   56 118605 248008 367237 499931 145290"
      ]
     },
     "execution_count": 341,
     "metadata": {},
     "output_type": "execute_result"
    }
   ],
   "source": [
    "repayment.describe().drop('Month', axis = 1).T"
   ]
  },
  {
   "cell_type": "code",
   "execution_count": 342,
   "id": "abcd3671-5a9a-4a40-929d-41a0dbf78ccb",
   "metadata": {},
   "outputs": [
    {
     "data": {
      "text/html": [
       "<div>\n",
       "<style scoped>\n",
       "    .dataframe tbody tr th:only-of-type {\n",
       "        vertical-align: middle;\n",
       "    }\n",
       "\n",
       "    .dataframe tbody tr th {\n",
       "        vertical-align: top;\n",
       "    }\n",
       "\n",
       "    .dataframe thead th {\n",
       "        text-align: right;\n",
       "    }\n",
       "</style>\n",
       "<table border=\"1\" class=\"dataframe\">\n",
       "  <thead>\n",
       "    <tr style=\"text-align: right;\">\n",
       "      <th></th>\n",
       "      <th>count</th>\n",
       "      <th>unique</th>\n",
       "      <th>top</th>\n",
       "      <th>freq</th>\n",
       "    </tr>\n",
       "  </thead>\n",
       "  <tbody>\n",
       "    <tr>\n",
       "      <th>Customer</th>\n",
       "      <td>1500</td>\n",
       "      <td>100</td>\n",
       "      <td>A61</td>\n",
       "      <td>38</td>\n",
       "    </tr>\n",
       "  </tbody>\n",
       "</table>\n",
       "</div>"
      ],
      "text/plain": [
       "         count unique  top freq\n",
       "Customer  1500    100  A61   38"
      ]
     },
     "execution_count": 342,
     "metadata": {},
     "output_type": "execute_result"
    }
   ],
   "source": [
    "repayment.describe(include='object').T"
   ]
  },
  {
   "cell_type": "code",
   "execution_count": 102,
   "id": "a1e87730-197e-4491-be69-4720153f83ff",
   "metadata": {},
   "outputs": [
    {
     "name": "stdout",
     "output_type": "stream",
     "text": [
      "Customer\n",
      "A61    38\n",
      "A60    38\n",
      "A22    33\n",
      "A21    33\n",
      "A41    31\n",
      "       ..\n",
      "A83     1\n",
      "A85     1\n",
      "A86     1\n",
      "A87     1\n",
      "A80     1\n",
      "Name: count, Length: 100, dtype: int64\n",
      "\n",
      "\n"
     ]
    }
   ],
   "source": [
    "##value counts of categorical columns\n",
    "repayment_cat = repayment.select_dtypes('object').columns\n",
    "for i in repayment_cat:\n",
    "    print(repayment[i].value_counts())\n",
    "    print('\\n')"
   ]
  },
  {
   "cell_type": "code",
   "execution_count": 343,
   "id": "fbf820f7-1df2-4a02-85ef-8fc3e4cf26c1",
   "metadata": {},
   "outputs": [
    {
     "data": {
      "text/html": [
       "<div>\n",
       "<style scoped>\n",
       "    .dataframe tbody tr th:only-of-type {\n",
       "        vertical-align: middle;\n",
       "    }\n",
       "\n",
       "    .dataframe tbody tr th {\n",
       "        vertical-align: top;\n",
       "    }\n",
       "\n",
       "    .dataframe thead th {\n",
       "        text-align: right;\n",
       "    }\n",
       "</style>\n",
       "<table border=\"1\" class=\"dataframe\">\n",
       "  <thead>\n",
       "    <tr style=\"text-align: right;\">\n",
       "      <th></th>\n",
       "      <th>Customer</th>\n",
       "      <th>Month</th>\n",
       "      <th>Amount</th>\n",
       "    </tr>\n",
       "  </thead>\n",
       "  <tbody>\n",
       "    <tr>\n",
       "      <th>0</th>\n",
       "      <td>A1</td>\n",
       "      <td>2004-01-12</td>\n",
       "      <td>495415</td>\n",
       "    </tr>\n",
       "    <tr>\n",
       "      <th>1</th>\n",
       "      <td>A1</td>\n",
       "      <td>2004-01-03</td>\n",
       "      <td>245899</td>\n",
       "    </tr>\n",
       "    <tr>\n",
       "      <th>2</th>\n",
       "      <td>A1</td>\n",
       "      <td>2004-01-15</td>\n",
       "      <td>259490</td>\n",
       "    </tr>\n",
       "    <tr>\n",
       "      <th>3</th>\n",
       "      <td>A1</td>\n",
       "      <td>2004-01-25</td>\n",
       "      <td>437555</td>\n",
       "    </tr>\n",
       "    <tr>\n",
       "      <th>4</th>\n",
       "      <td>A1</td>\n",
       "      <td>2005-01-17</td>\n",
       "      <td>165973</td>\n",
       "    </tr>\n",
       "  </tbody>\n",
       "</table>\n",
       "</div>"
      ],
      "text/plain": [
       "  Customer      Month  Amount\n",
       "0       A1 2004-01-12  495415\n",
       "1       A1 2004-01-03  245899\n",
       "2       A1 2004-01-15  259490\n",
       "3       A1 2004-01-25  437555\n",
       "4       A1 2005-01-17  165973"
      ]
     },
     "execution_count": 343,
     "metadata": {},
     "output_type": "execute_result"
    }
   ],
   "source": [
    "repayment.head()"
   ]
  },
  {
   "cell_type": "markdown",
   "id": "1b8c8532-d52f-4e1b-8860-dfe714bd258e",
   "metadata": {},
   "source": [
    "#### UNIVARIATE ANALYSIS"
   ]
  },
  {
   "cell_type": "code",
   "execution_count": 272,
   "id": "0465c5d4-4f9c-44d4-a0f8-223d1e1ac592",
   "metadata": {},
   "outputs": [
    {
     "data": {
      "image/png": "[encoded data removed]",
      "text/plain": [
       "<Figure size 640x480 with 1 Axes>"
      ]
     },
     "metadata": {},
     "output_type": "display_data"
    }
   ],
   "source": [
    "## creating boxplot of numerical cols\n",
    "for i in repayment.select_dtypes('number').columns:\n",
    "    sns.boxplot(data = repayment[i])\n",
    "    plt.show()"
   ]
  },
  {
   "cell_type": "markdown",
   "id": "cf2e56dd-fc23-4fbe-8e5f-eb4a75fe8645",
   "metadata": {},
   "source": [
    "### NO OUTLIERS PRESENT - REPAYMENT"
   ]
  },
  {
   "cell_type": "code",
   "execution_count": 146,
   "id": "cfb534f1-2080-4f99-8373-2232aaaf87c0",
   "metadata": {},
   "outputs": [
    {
     "data": {
      "image/png": "[encoded data removed]",
      "text/plain": [
       "<Figure size 1000x500 with 1 Axes>"
      ]
     },
     "metadata": {},
     "output_type": "display_data"
    }
   ],
   "source": [
    "plt.figure(figsize = (10,5))\n",
    "repayment.Amount.plot(kind='hist')\n",
    "plt.show()"
   ]
  },
  {
   "cell_type": "raw",
   "id": "134a6788-b392-4476-8a46-19cbded5826c",
   "metadata": {},
   "source": [
    "Most of the amount Customers repay falls in the range of 300000 - 350000"
   ]
  },
  {
   "cell_type": "markdown",
   "id": "3a4fd26e-a34f-4c0f-b22f-5995f3ff8b1e",
   "metadata": {},
   "source": [
    "#### BIVARIATE ANALYSIS"
   ]
  },
  {
   "cell_type": "code",
   "execution_count": 149,
   "id": "e9553bb7-d937-408c-8079-c4df47208e36",
   "metadata": {},
   "outputs": [
    {
     "data": {
      "image/png": "[encoded data removed]",
      "text/plain": [
       "<Figure size 1300x500 with 1 Axes>"
      ]
     },
     "metadata": {},
     "output_type": "display_data"
    }
   ],
   "source": [
    "cust_repay = repayment[['Customer','Amount']].groupby('Customer').sum()\n",
    "cust_repay.plot(kind = 'bar', figsize = (13,5))\n",
    "plt.show()"
   ]
  },
  {
   "cell_type": "code",
   "execution_count": 344,
   "id": "8f65d741-16ca-4fab-b969-01cfa6d743a2",
   "metadata": {},
   "outputs": [
    {
     "data": {
      "text/plain": [
       "Customer    0\n",
       "Month       0\n",
       "Amount      0\n",
       "dtype: int64"
      ]
     },
     "execution_count": 344,
     "metadata": {},
     "output_type": "execute_result"
    }
   ],
   "source": [
    "repayment.isna().sum()"
   ]
  },
  {
   "cell_type": "markdown",
   "id": "248b84ba-c249-4d3b-86d7-f91aec3a0878",
   "metadata": {},
   "source": [
    "## EDA ENDS --"
   ]
  },
  {
   "cell_type": "code",
   "execution_count": null,
   "id": "5efdebe6-bd65-44be-9b53-d7afd01b80a2",
   "metadata": {},
   "outputs": [],
   "source": [
    "## Q1. In the above dataset,"
   ]
  },
  {
   "cell_type": "code",
   "execution_count": null,
   "id": "d85a6666-9454-4782-a744-e40339979520",
   "metadata": {},
   "outputs": [],
   "source": [
    "## a. In case age is less than 18, replace it with mean of age values."
   ]
  },
  {
   "cell_type": "code",
   "execution_count": 416,
   "id": "950ad4cf-b6f4-4964-8046-0d1ace5f3702",
   "metadata": {},
   "outputs": [],
   "source": [
    "customer.loc[(customer.Age<18),'Age'] = customer.Age.mean()"
   ]
  },
  {
   "cell_type": "code",
   "execution_count": 419,
   "id": "d508e86c-8e2a-497f-8f18-d03f7b4a9a06",
   "metadata": {},
   "outputs": [
    {
     "data": {
      "text/html": [
       "<div>\n",
       "<style scoped>\n",
       "    .dataframe tbody tr th:only-of-type {\n",
       "        vertical-align: middle;\n",
       "    }\n",
       "\n",
       "    .dataframe tbody tr th {\n",
       "        vertical-align: top;\n",
       "    }\n",
       "\n",
       "    .dataframe thead th {\n",
       "        text-align: right;\n",
       "    }\n",
       "</style>\n",
       "<table border=\"1\" class=\"dataframe\">\n",
       "  <thead>\n",
       "    <tr style=\"text-align: right;\">\n",
       "      <th></th>\n",
       "      <th>Customer</th>\n",
       "      <th>Age</th>\n",
       "      <th>City</th>\n",
       "      <th>Product</th>\n",
       "      <th>Limit</th>\n",
       "      <th>Company</th>\n",
       "      <th>Segment</th>\n",
       "    </tr>\n",
       "  </thead>\n",
       "  <tbody>\n",
       "  </tbody>\n",
       "</table>\n",
       "</div>"
      ],
      "text/plain": [
       "Empty DataFrame\n",
       "Columns: [Customer, Age, City, Product, Limit, Company, Segment]\n",
       "Index: []"
      ]
     },
     "execution_count": 419,
     "metadata": {},
     "output_type": "execute_result"
    }
   ],
   "source": [
    "customer.loc[(customer.Age<18)]"
   ]
  },
  {
   "cell_type": "code",
   "execution_count": 284,
   "id": "1ed30140-c4eb-4019-ab3d-b18a555b0128",
   "metadata": {},
   "outputs": [],
   "source": [
    "## b. In case spend amount is more than the limit, replace it with 50% of that customer’s limit. \n",
    "##(customer’s limit provided in acquisition table is the per transaction limit on his card)"
   ]
  },
  {
   "cell_type": "code",
   "execution_count": 420,
   "id": "be67c683-9e43-477b-a5d0-eabd0607e919",
   "metadata": {},
   "outputs": [],
   "source": [
    "## Merge customer and spend tables\n",
    "cust_spend = pd.merge(left = spend, right =customer , on = 'Customer')"
   ]
  },
  {
   "cell_type": "code",
   "execution_count": 421,
   "id": "811c3332-8256-4569-a47c-0cc92749a15f",
   "metadata": {},
   "outputs": [
    {
     "name": "stdout",
     "output_type": "stream",
     "text": [
      "<class 'pandas.core.frame.DataFrame'>\n",
      "RangeIndex: 1500 entries, 0 to 1499\n",
      "Data columns (total 10 columns):\n",
      " #   Column    Non-Null Count  Dtype         \n",
      "---  ------    --------------  -----         \n",
      " 0   Customer  1500 non-null   object        \n",
      " 1   Month     1500 non-null   datetime64[ns]\n",
      " 2   Type      1500 non-null   object        \n",
      " 3   Amount    1500 non-null   float64       \n",
      " 4   Age       1500 non-null   float64       \n",
      " 5   City      1500 non-null   object        \n",
      " 6   Product   1500 non-null   object        \n",
      " 7   Limit     1500 non-null   float64       \n",
      " 8   Company   1500 non-null   object        \n",
      " 9   Segment   1500 non-null   object        \n",
      "dtypes: datetime64[ns](1), float64(3), object(6)\n",
      "memory usage: 117.3+ KB\n"
     ]
    }
   ],
   "source": [
    "cust_spend.info()"
   ]
  },
  {
   "cell_type": "code",
   "execution_count": 423,
   "id": "f9fc7c25-d4b8-49bb-8740-e7722e107430",
   "metadata": {},
   "outputs": [
    {
     "data": {
      "text/html": [
       "<div>\n",
       "<style scoped>\n",
       "    .dataframe tbody tr th:only-of-type {\n",
       "        vertical-align: middle;\n",
       "    }\n",
       "\n",
       "    .dataframe tbody tr th {\n",
       "        vertical-align: top;\n",
       "    }\n",
       "\n",
       "    .dataframe thead th {\n",
       "        text-align: right;\n",
       "    }\n",
       "</style>\n",
       "<table border=\"1\" class=\"dataframe\">\n",
       "  <thead>\n",
       "    <tr style=\"text-align: right;\">\n",
       "      <th></th>\n",
       "      <th>Customer</th>\n",
       "      <th>Month</th>\n",
       "      <th>Type</th>\n",
       "      <th>Amount</th>\n",
       "      <th>Age</th>\n",
       "      <th>City</th>\n",
       "      <th>Product</th>\n",
       "      <th>Limit</th>\n",
       "      <th>Company</th>\n",
       "      <th>Segment</th>\n",
       "    </tr>\n",
       "  </thead>\n",
       "  <tbody>\n",
       "    <tr>\n",
       "      <th>7</th>\n",
       "      <td>A8</td>\n",
       "      <td>2004-02-05</td>\n",
       "      <td>BIKE</td>\n",
       "      <td>155563</td>\n",
       "      <td>67</td>\n",
       "      <td>PATNA</td>\n",
       "      <td>Silver</td>\n",
       "      <td>100002</td>\n",
       "      <td>C8</td>\n",
       "      <td>Salaried_Pvt</td>\n",
       "    </tr>\n",
       "    <tr>\n",
       "      <th>18</th>\n",
       "      <td>A19</td>\n",
       "      <td>2005-04-04</td>\n",
       "      <td>FOOD</td>\n",
       "      <td>441442</td>\n",
       "      <td>27</td>\n",
       "      <td>BANGALORE</td>\n",
       "      <td>Platimum</td>\n",
       "      <td>10000</td>\n",
       "      <td>C19</td>\n",
       "      <td>Salaried_Pvt</td>\n",
       "    </tr>\n",
       "    <tr>\n",
       "      <th>19</th>\n",
       "      <td>A20</td>\n",
       "      <td>2006-04-30</td>\n",
       "      <td>JEWELLERY</td>\n",
       "      <td>356733</td>\n",
       "      <td>27</td>\n",
       "      <td>CALCUTTA</td>\n",
       "      <td>Platimum</td>\n",
       "      <td>10001</td>\n",
       "      <td>C20</td>\n",
       "      <td>Govt</td>\n",
       "    </tr>\n",
       "    <tr>\n",
       "      <th>20</th>\n",
       "      <td>A21</td>\n",
       "      <td>2004-04-25</td>\n",
       "      <td>PETRO</td>\n",
       "      <td>190012</td>\n",
       "      <td>57</td>\n",
       "      <td>COCHIN</td>\n",
       "      <td>Platimum</td>\n",
       "      <td>10002</td>\n",
       "      <td>C21</td>\n",
       "      <td>Normal Salary</td>\n",
       "    </tr>\n",
       "    <tr>\n",
       "      <th>21</th>\n",
       "      <td>A22</td>\n",
       "      <td>2006-04-19</td>\n",
       "      <td>CLOTHES</td>\n",
       "      <td>423672</td>\n",
       "      <td>27</td>\n",
       "      <td>BOMBAY</td>\n",
       "      <td>Silver</td>\n",
       "      <td>100000</td>\n",
       "      <td>C22</td>\n",
       "      <td>Self Employed</td>\n",
       "    </tr>\n",
       "    <tr>\n",
       "      <th>...</th>\n",
       "      <td>...</td>\n",
       "      <td>...</td>\n",
       "      <td>...</td>\n",
       "      <td>...</td>\n",
       "      <td>...</td>\n",
       "      <td>...</td>\n",
       "      <td>...</td>\n",
       "      <td>...</td>\n",
       "      <td>...</td>\n",
       "      <td>...</td>\n",
       "    </tr>\n",
       "    <tr>\n",
       "      <th>1485</th>\n",
       "      <td>A59</td>\n",
       "      <td>2004-01-15</td>\n",
       "      <td>FOOD</td>\n",
       "      <td>181115</td>\n",
       "      <td>74</td>\n",
       "      <td>BANGALORE</td>\n",
       "      <td>Silver</td>\n",
       "      <td>100003</td>\n",
       "      <td>C21</td>\n",
       "      <td>Normal Salary</td>\n",
       "    </tr>\n",
       "    <tr>\n",
       "      <th>1496</th>\n",
       "      <td>A68</td>\n",
       "      <td>2006-03-25</td>\n",
       "      <td>BUS TICKET</td>\n",
       "      <td>204971</td>\n",
       "      <td>46</td>\n",
       "      <td>TRIVANDRUM</td>\n",
       "      <td>Silver</td>\n",
       "      <td>100000</td>\n",
       "      <td>C30</td>\n",
       "      <td>Self Employed</td>\n",
       "    </tr>\n",
       "    <tr>\n",
       "      <th>1497</th>\n",
       "      <td>A69</td>\n",
       "      <td>2006-03-31</td>\n",
       "      <td>BUS TICKET</td>\n",
       "      <td>50449</td>\n",
       "      <td>33</td>\n",
       "      <td>CALCUTTA</td>\n",
       "      <td>Platimum</td>\n",
       "      <td>10000</td>\n",
       "      <td>C31</td>\n",
       "      <td>Self Employed</td>\n",
       "    </tr>\n",
       "    <tr>\n",
       "      <th>1498</th>\n",
       "      <td>A70</td>\n",
       "      <td>2006-03-23</td>\n",
       "      <td>BUS TICKET</td>\n",
       "      <td>80594</td>\n",
       "      <td>46</td>\n",
       "      <td>BOMBAY</td>\n",
       "      <td>Platimum</td>\n",
       "      <td>10001</td>\n",
       "      <td>C32</td>\n",
       "      <td>Self Employed</td>\n",
       "    </tr>\n",
       "    <tr>\n",
       "      <th>1499</th>\n",
       "      <td>A71</td>\n",
       "      <td>2006-03-24</td>\n",
       "      <td>BUS TICKET</td>\n",
       "      <td>194448</td>\n",
       "      <td>34</td>\n",
       "      <td>BOMBAY</td>\n",
       "      <td>Platimum</td>\n",
       "      <td>10002</td>\n",
       "      <td>C33</td>\n",
       "      <td>Self Employed</td>\n",
       "    </tr>\n",
       "  </tbody>\n",
       "</table>\n",
       "<p>607 rows × 10 columns</p>\n",
       "</div>"
      ],
      "text/plain": [
       "     Customer      Month        Type  Amount  Age        City   Product  \\\n",
       "7          A8 2004-02-05        BIKE  155563   67       PATNA    Silver   \n",
       "18        A19 2005-04-04        FOOD  441442   27   BANGALORE  Platimum   \n",
       "19        A20 2006-04-30   JEWELLERY  356733   27    CALCUTTA  Platimum   \n",
       "20        A21 2004-04-25       PETRO  190012   57      COCHIN  Platimum   \n",
       "21        A22 2006-04-19     CLOTHES  423672   27      BOMBAY    Silver   \n",
       "...       ...        ...         ...     ...  ...         ...       ...   \n",
       "1485      A59 2004-01-15        FOOD  181115   74   BANGALORE    Silver   \n",
       "1496      A68 2006-03-25  BUS TICKET  204971   46  TRIVANDRUM    Silver   \n",
       "1497      A69 2006-03-31  BUS TICKET   50449   33    CALCUTTA  Platimum   \n",
       "1498      A70 2006-03-23  BUS TICKET   80594   46      BOMBAY  Platimum   \n",
       "1499      A71 2006-03-24  BUS TICKET  194448   34      BOMBAY  Platimum   \n",
       "\n",
       "      Limit Company        Segment  \n",
       "7    100002      C8   Salaried_Pvt  \n",
       "18    10000     C19   Salaried_Pvt  \n",
       "19    10001     C20           Govt  \n",
       "20    10002     C21  Normal Salary  \n",
       "21   100000     C22  Self Employed  \n",
       "...     ...     ...            ...  \n",
       "1485 100003     C21  Normal Salary  \n",
       "1496 100000     C30  Self Employed  \n",
       "1497  10000     C31  Self Employed  \n",
       "1498  10001     C32  Self Employed  \n",
       "1499  10002     C33  Self Employed  \n",
       "\n",
       "[607 rows x 10 columns]"
      ]
     },
     "execution_count": 423,
     "metadata": {},
     "output_type": "execute_result"
    }
   ],
   "source": [
    "## fetching rows where amount is more than limit\n",
    "cust_spend[cust_spend.Amount > cust_spend.Limit]"
   ]
  },
  {
   "cell_type": "code",
   "execution_count": 424,
   "id": "188c2849-7dd7-4b68-b6b0-cecf21cf23e4",
   "metadata": {},
   "outputs": [],
   "source": [
    "## replacing amount with 50% of limit where amount is > limit\n",
    "cust_spend.Amount = np.where(cust_spend.Amount > cust_spend.Limit, cust_spend.Limit/2, cust_spend.Amount)"
   ]
  },
  {
   "cell_type": "code",
   "execution_count": 425,
   "id": "3550a011-437d-4406-b683-6dfdcb9c74c9",
   "metadata": {},
   "outputs": [
    {
     "data": {
      "text/html": [
       "<div>\n",
       "<style scoped>\n",
       "    .dataframe tbody tr th:only-of-type {\n",
       "        vertical-align: middle;\n",
       "    }\n",
       "\n",
       "    .dataframe tbody tr th {\n",
       "        vertical-align: top;\n",
       "    }\n",
       "\n",
       "    .dataframe thead th {\n",
       "        text-align: right;\n",
       "    }\n",
       "</style>\n",
       "<table border=\"1\" class=\"dataframe\">\n",
       "  <thead>\n",
       "    <tr style=\"text-align: right;\">\n",
       "      <th></th>\n",
       "      <th>Customer</th>\n",
       "      <th>Month</th>\n",
       "      <th>Type</th>\n",
       "      <th>Amount</th>\n",
       "      <th>Age</th>\n",
       "      <th>City</th>\n",
       "      <th>Product</th>\n",
       "      <th>Limit</th>\n",
       "      <th>Company</th>\n",
       "      <th>Segment</th>\n",
       "    </tr>\n",
       "  </thead>\n",
       "  <tbody>\n",
       "  </tbody>\n",
       "</table>\n",
       "</div>"
      ],
      "text/plain": [
       "Empty DataFrame\n",
       "Columns: [Customer, Month, Type, Amount, Age, City, Product, Limit, Company, Segment]\n",
       "Index: []"
      ]
     },
     "execution_count": 425,
     "metadata": {},
     "output_type": "execute_result"
    }
   ],
   "source": [
    "## again checking rows where amouont is more than limit\n",
    "cust_spend[cust_spend.Amount > cust_spend.Limit]"
   ]
  },
  {
   "cell_type": "code",
   "execution_count": null,
   "id": "839eb877-7045-411f-8203-358b28b54652",
   "metadata": {},
   "outputs": [],
   "source": [
    "##c. Incase the repayment amount is more than the limit, replace the repayment with the limit."
   ]
  },
  {
   "cell_type": "code",
   "execution_count": 426,
   "id": "fa92e11d-8a3d-4d90-a954-b156911f64b8",
   "metadata": {},
   "outputs": [],
   "source": [
    "##merge customer with repayment\n",
    "cust_repay = pd.merge(left = repayment, right = customer, on = 'Customer')"
   ]
  },
  {
   "cell_type": "code",
   "execution_count": 427,
   "id": "e4dd5778-75bf-48f5-8633-74ddb360c2c1",
   "metadata": {},
   "outputs": [
    {
     "name": "stdout",
     "output_type": "stream",
     "text": [
      "<class 'pandas.core.frame.DataFrame'>\n",
      "RangeIndex: 1500 entries, 0 to 1499\n",
      "Data columns (total 9 columns):\n",
      " #   Column    Non-Null Count  Dtype         \n",
      "---  ------    --------------  -----         \n",
      " 0   Customer  1500 non-null   object        \n",
      " 1   Month     1500 non-null   datetime64[ns]\n",
      " 2   Amount    1500 non-null   float64       \n",
      " 3   Age       1500 non-null   float64       \n",
      " 4   City      1500 non-null   object        \n",
      " 5   Product   1500 non-null   object        \n",
      " 6   Limit     1500 non-null   float64       \n",
      " 7   Company   1500 non-null   object        \n",
      " 8   Segment   1500 non-null   object        \n",
      "dtypes: datetime64[ns](1), float64(3), object(5)\n",
      "memory usage: 105.6+ KB\n"
     ]
    }
   ],
   "source": [
    "cust_repay.info()"
   ]
  },
  {
   "cell_type": "code",
   "execution_count": 428,
   "id": "50e2b9fb-aec6-4cf2-abea-d2b1f568a87e",
   "metadata": {},
   "outputs": [
    {
     "data": {
      "text/html": [
       "<div>\n",
       "<style scoped>\n",
       "    .dataframe tbody tr th:only-of-type {\n",
       "        vertical-align: middle;\n",
       "    }\n",
       "\n",
       "    .dataframe tbody tr th {\n",
       "        vertical-align: top;\n",
       "    }\n",
       "\n",
       "    .dataframe thead th {\n",
       "        text-align: right;\n",
       "    }\n",
       "</style>\n",
       "<table border=\"1\" class=\"dataframe\">\n",
       "  <thead>\n",
       "    <tr style=\"text-align: right;\">\n",
       "      <th></th>\n",
       "      <th>Customer</th>\n",
       "      <th>Month</th>\n",
       "      <th>Amount</th>\n",
       "      <th>Age</th>\n",
       "      <th>City</th>\n",
       "      <th>Product</th>\n",
       "      <th>Limit</th>\n",
       "      <th>Company</th>\n",
       "      <th>Segment</th>\n",
       "    </tr>\n",
       "  </thead>\n",
       "  <tbody>\n",
       "    <tr>\n",
       "      <th>7</th>\n",
       "      <td>A8</td>\n",
       "      <td>2004-02-05</td>\n",
       "      <td>156914</td>\n",
       "      <td>67</td>\n",
       "      <td>PATNA</td>\n",
       "      <td>Silver</td>\n",
       "      <td>100002</td>\n",
       "      <td>C8</td>\n",
       "      <td>Salaried_Pvt</td>\n",
       "    </tr>\n",
       "    <tr>\n",
       "      <th>8</th>\n",
       "      <td>A9</td>\n",
       "      <td>2005-02-28</td>\n",
       "      <td>417295</td>\n",
       "      <td>79</td>\n",
       "      <td>CHENNAI</td>\n",
       "      <td>Silver</td>\n",
       "      <td>100003</td>\n",
       "      <td>C9</td>\n",
       "      <td>Govt</td>\n",
       "    </tr>\n",
       "    <tr>\n",
       "      <th>17</th>\n",
       "      <td>A18</td>\n",
       "      <td>2006-03-05</td>\n",
       "      <td>213352</td>\n",
       "      <td>34</td>\n",
       "      <td>BANGALORE</td>\n",
       "      <td>Silver</td>\n",
       "      <td>100000</td>\n",
       "      <td>C18</td>\n",
       "      <td>Salaried_MNC</td>\n",
       "    </tr>\n",
       "    <tr>\n",
       "      <th>18</th>\n",
       "      <td>A19</td>\n",
       "      <td>2005-04-04</td>\n",
       "      <td>347826</td>\n",
       "      <td>27</td>\n",
       "      <td>BANGALORE</td>\n",
       "      <td>Platimum</td>\n",
       "      <td>10000</td>\n",
       "      <td>C19</td>\n",
       "      <td>Salaried_Pvt</td>\n",
       "    </tr>\n",
       "    <tr>\n",
       "      <th>19</th>\n",
       "      <td>A20</td>\n",
       "      <td>2006-04-30</td>\n",
       "      <td>471099</td>\n",
       "      <td>27</td>\n",
       "      <td>CALCUTTA</td>\n",
       "      <td>Platimum</td>\n",
       "      <td>10001</td>\n",
       "      <td>C20</td>\n",
       "      <td>Govt</td>\n",
       "    </tr>\n",
       "    <tr>\n",
       "      <th>...</th>\n",
       "      <td>...</td>\n",
       "      <td>...</td>\n",
       "      <td>...</td>\n",
       "      <td>...</td>\n",
       "      <td>...</td>\n",
       "      <td>...</td>\n",
       "      <td>...</td>\n",
       "      <td>...</td>\n",
       "      <td>...</td>\n",
       "    </tr>\n",
       "    <tr>\n",
       "      <th>1483</th>\n",
       "      <td>A57</td>\n",
       "      <td>2004-03-19</td>\n",
       "      <td>207786</td>\n",
       "      <td>37</td>\n",
       "      <td>TRIVANDRUM</td>\n",
       "      <td>Silver</td>\n",
       "      <td>100001</td>\n",
       "      <td>C19</td>\n",
       "      <td>Normal Salary</td>\n",
       "    </tr>\n",
       "    <tr>\n",
       "      <th>1496</th>\n",
       "      <td>A68</td>\n",
       "      <td>2006-05-10</td>\n",
       "      <td>319836</td>\n",
       "      <td>46</td>\n",
       "      <td>TRIVANDRUM</td>\n",
       "      <td>Silver</td>\n",
       "      <td>100000</td>\n",
       "      <td>C30</td>\n",
       "      <td>Self Employed</td>\n",
       "    </tr>\n",
       "    <tr>\n",
       "      <th>1497</th>\n",
       "      <td>A69</td>\n",
       "      <td>2006-07-11</td>\n",
       "      <td>247628</td>\n",
       "      <td>33</td>\n",
       "      <td>CALCUTTA</td>\n",
       "      <td>Platimum</td>\n",
       "      <td>10000</td>\n",
       "      <td>C31</td>\n",
       "      <td>Self Employed</td>\n",
       "    </tr>\n",
       "    <tr>\n",
       "      <th>1498</th>\n",
       "      <td>A70</td>\n",
       "      <td>2005-08-12</td>\n",
       "      <td>454017</td>\n",
       "      <td>46</td>\n",
       "      <td>BOMBAY</td>\n",
       "      <td>Platimum</td>\n",
       "      <td>10001</td>\n",
       "      <td>C32</td>\n",
       "      <td>Self Employed</td>\n",
       "    </tr>\n",
       "    <tr>\n",
       "      <th>1499</th>\n",
       "      <td>A71</td>\n",
       "      <td>2004-09-13</td>\n",
       "      <td>56286</td>\n",
       "      <td>34</td>\n",
       "      <td>BOMBAY</td>\n",
       "      <td>Platimum</td>\n",
       "      <td>10002</td>\n",
       "      <td>C33</td>\n",
       "      <td>Self Employed</td>\n",
       "    </tr>\n",
       "  </tbody>\n",
       "</table>\n",
       "<p>600 rows × 9 columns</p>\n",
       "</div>"
      ],
      "text/plain": [
       "     Customer      Month  Amount  Age        City   Product  Limit Company  \\\n",
       "7          A8 2004-02-05  156914   67       PATNA    Silver 100002      C8   \n",
       "8          A9 2005-02-28  417295   79     CHENNAI    Silver 100003      C9   \n",
       "17        A18 2006-03-05  213352   34   BANGALORE    Silver 100000     C18   \n",
       "18        A19 2005-04-04  347826   27   BANGALORE  Platimum  10000     C19   \n",
       "19        A20 2006-04-30  471099   27    CALCUTTA  Platimum  10001     C20   \n",
       "...       ...        ...     ...  ...         ...       ...    ...     ...   \n",
       "1483      A57 2004-03-19  207786   37  TRIVANDRUM    Silver 100001     C19   \n",
       "1496      A68 2006-05-10  319836   46  TRIVANDRUM    Silver 100000     C30   \n",
       "1497      A69 2006-07-11  247628   33    CALCUTTA  Platimum  10000     C31   \n",
       "1498      A70 2005-08-12  454017   46      BOMBAY  Platimum  10001     C32   \n",
       "1499      A71 2004-09-13   56286   34      BOMBAY  Platimum  10002     C33   \n",
       "\n",
       "            Segment  \n",
       "7      Salaried_Pvt  \n",
       "8              Govt  \n",
       "17     Salaried_MNC  \n",
       "18     Salaried_Pvt  \n",
       "19             Govt  \n",
       "...             ...  \n",
       "1483  Normal Salary  \n",
       "1496  Self Employed  \n",
       "1497  Self Employed  \n",
       "1498  Self Employed  \n",
       "1499  Self Employed  \n",
       "\n",
       "[600 rows x 9 columns]"
      ]
     },
     "execution_count": 428,
     "metadata": {},
     "output_type": "execute_result"
    }
   ],
   "source": [
    "## fetching rows where amount is more than limit\n",
    "cust_repay[cust_repay.Amount > cust_repay.Limit]"
   ]
  },
  {
   "cell_type": "code",
   "execution_count": 429,
   "id": "be75a74a-96b2-41ef-a8d4-f09d2b7d27f0",
   "metadata": {},
   "outputs": [],
   "source": [
    "##Replacing the repayment amount with limit if it is more than limit\n",
    "cust_repay.Amount = np.where(cust_repay.Amount > cust_repay.Limit, cust_repay.Limit, cust_repay.Amount)"
   ]
  },
  {
   "cell_type": "code",
   "execution_count": 430,
   "id": "7bb02224-f89d-4da6-b505-98114c7075cd",
   "metadata": {},
   "outputs": [
    {
     "data": {
      "text/html": [
       "<div>\n",
       "<style scoped>\n",
       "    .dataframe tbody tr th:only-of-type {\n",
       "        vertical-align: middle;\n",
       "    }\n",
       "\n",
       "    .dataframe tbody tr th {\n",
       "        vertical-align: top;\n",
       "    }\n",
       "\n",
       "    .dataframe thead th {\n",
       "        text-align: right;\n",
       "    }\n",
       "</style>\n",
       "<table border=\"1\" class=\"dataframe\">\n",
       "  <thead>\n",
       "    <tr style=\"text-align: right;\">\n",
       "      <th></th>\n",
       "      <th>Customer</th>\n",
       "      <th>Month</th>\n",
       "      <th>Amount</th>\n",
       "      <th>Age</th>\n",
       "      <th>City</th>\n",
       "      <th>Product</th>\n",
       "      <th>Limit</th>\n",
       "      <th>Company</th>\n",
       "      <th>Segment</th>\n",
       "    </tr>\n",
       "  </thead>\n",
       "  <tbody>\n",
       "  </tbody>\n",
       "</table>\n",
       "</div>"
      ],
      "text/plain": [
       "Empty DataFrame\n",
       "Columns: [Customer, Month, Amount, Age, City, Product, Limit, Company, Segment]\n",
       "Index: []"
      ]
     },
     "execution_count": 430,
     "metadata": {},
     "output_type": "execute_result"
    }
   ],
   "source": [
    "## again checking\n",
    "cust_repay[cust_repay.Amount > cust_repay.Limit]"
   ]
  },
  {
   "cell_type": "code",
   "execution_count": null,
   "id": "924a1dcf-2015-4021-8732-00dea9e584c4",
   "metadata": {},
   "outputs": [],
   "source": [
    "##2. From the above dataset create the following summaries:"
   ]
  },
  {
   "cell_type": "code",
   "execution_count": null,
   "id": "9dac3213-491b-4280-b9a8-d7fed025568e",
   "metadata": {},
   "outputs": [],
   "source": [
    "##  a. How many distinct customers exist?"
   ]
  },
  {
   "cell_type": "code",
   "execution_count": 431,
   "id": "8cf84bf1-d42d-40f4-a2c8-8cdd313ffa5a",
   "metadata": {},
   "outputs": [
    {
     "name": "stdout",
     "output_type": "stream",
     "text": [
      "The count of DISTINCT CUSTOMER is\n"
     ]
    },
    {
     "data": {
      "text/plain": [
       "100"
      ]
     },
     "execution_count": 431,
     "metadata": {},
     "output_type": "execute_result"
    }
   ],
   "source": [
    "print('The count of DISTINCT CUSTOMER is')\n",
    "customer.Customer.nunique()"
   ]
  },
  {
   "cell_type": "code",
   "execution_count": null,
   "id": "c8a3d6e4-4d0f-4ef3-ad71-44c708c32ca7",
   "metadata": {},
   "outputs": [],
   "source": [
    "## b. How many distinct categories exist?"
   ]
  },
  {
   "cell_type": "code",
   "execution_count": 436,
   "id": "1a1f58b2-36e1-40c0-b07d-5ad808fc963c",
   "metadata": {},
   "outputs": [
    {
     "name": "stdout",
     "output_type": "stream",
     "text": [
      "Product - Count of Distinct Categories is\n"
     ]
    },
    {
     "data": {
      "text/plain": [
       "3"
      ]
     },
     "execution_count": 436,
     "metadata": {},
     "output_type": "execute_result"
    }
   ],
   "source": [
    "print('Product - Count of Distinct Categories is')\n",
    "customer.Product.nunique()"
   ]
  },
  {
   "cell_type": "code",
   "execution_count": 437,
   "id": "a67d7c24-7756-42d8-acf2-c4bddd1c93a9",
   "metadata": {},
   "outputs": [
    {
     "name": "stdout",
     "output_type": "stream",
     "text": [
      "Segment - Count of Distinct Categories is\n"
     ]
    },
    {
     "data": {
      "text/plain": [
       "5"
      ]
     },
     "execution_count": 437,
     "metadata": {},
     "output_type": "execute_result"
    }
   ],
   "source": [
    "print('Segment - Count of Distinct Categories is')\n",
    "customer.Segment.nunique()"
   ]
  },
  {
   "cell_type": "code",
   "execution_count": 438,
   "id": "681e70cb-8b4b-435a-b8da-78f497afd95a",
   "metadata": {},
   "outputs": [
    {
     "data": {
      "text/plain": [
       "array(['Gold', 'Silver', 'Platimum'], dtype=object)"
      ]
     },
     "execution_count": 438,
     "metadata": {},
     "output_type": "execute_result"
    }
   ],
   "source": [
    "customer.Product.unique()"
   ]
  },
  {
   "cell_type": "code",
   "execution_count": 439,
   "id": "2eaa5325-818f-4315-a0c0-f1874881f917",
   "metadata": {},
   "outputs": [
    {
     "data": {
      "text/plain": [
       "array(['Self Employed', 'Salaried_MNC', 'Salaried_Pvt', 'Govt',\n",
       "       'Normal Salary'], dtype=object)"
      ]
     },
     "execution_count": 439,
     "metadata": {},
     "output_type": "execute_result"
    }
   ],
   "source": [
    "customer.Segment.unique()"
   ]
  },
  {
   "cell_type": "code",
   "execution_count": null,
   "id": "7ee32618-7f30-4c9a-9140-aeb1842f2111",
   "metadata": {},
   "outputs": [],
   "source": [
    "## c. What is the average monthly spend by customers?"
   ]
  },
  {
   "cell_type": "code",
   "execution_count": 450,
   "id": "01e22f55-a72e-4c49-a2ec-04000e954ff6",
   "metadata": {},
   "outputs": [],
   "source": [
    "##renaming Month column in cust_spend table to 'Spend_dt'\n",
    "cust_spend.rename(columns = {'Month' : 'Spend_dt'}, inplace=True)"
   ]
  },
  {
   "cell_type": "code",
   "execution_count": 458,
   "id": "27a3841e-e574-4bc8-b58c-42c3587cbc7c",
   "metadata": {},
   "outputs": [],
   "source": [
    "## creating new column as Month and Year\n",
    "cust_spend['Month'] =  cust_spend.Spend_dt.dt.month\n",
    "cust_spend['Year'] = cust_spend.Spend_dt.dt.year"
   ]
  },
  {
   "cell_type": "code",
   "execution_count": 464,
   "id": "8f3186c8-6bbd-4f5d-9b14-125ac09cc943",
   "metadata": {},
   "outputs": [
    {
     "data": {
      "text/html": [
       "<div>\n",
       "<style scoped>\n",
       "    .dataframe tbody tr th:only-of-type {\n",
       "        vertical-align: middle;\n",
       "    }\n",
       "\n",
       "    .dataframe tbody tr th {\n",
       "        vertical-align: top;\n",
       "    }\n",
       "\n",
       "    .dataframe thead th {\n",
       "        text-align: right;\n",
       "    }\n",
       "</style>\n",
       "<table border=\"1\" class=\"dataframe\">\n",
       "  <thead>\n",
       "    <tr style=\"text-align: right;\">\n",
       "      <th></th>\n",
       "      <th>Customer</th>\n",
       "      <th>Year</th>\n",
       "      <th>Month</th>\n",
       "      <th>Avg_Monthly_Spend</th>\n",
       "    </tr>\n",
       "  </thead>\n",
       "  <tbody>\n",
       "    <tr>\n",
       "      <th>0</th>\n",
       "      <td>A1</td>\n",
       "      <td>2004</td>\n",
       "      <td>1</td>\n",
       "      <td>373274</td>\n",
       "    </tr>\n",
       "    <tr>\n",
       "      <th>1</th>\n",
       "      <td>A1</td>\n",
       "      <td>2004</td>\n",
       "      <td>2</td>\n",
       "      <td>52209</td>\n",
       "    </tr>\n",
       "    <tr>\n",
       "      <th>2</th>\n",
       "      <td>A1</td>\n",
       "      <td>2004</td>\n",
       "      <td>5</td>\n",
       "      <td>361141</td>\n",
       "    </tr>\n",
       "    <tr>\n",
       "      <th>3</th>\n",
       "      <td>A1</td>\n",
       "      <td>2005</td>\n",
       "      <td>1</td>\n",
       "      <td>369694</td>\n",
       "    </tr>\n",
       "    <tr>\n",
       "      <th>4</th>\n",
       "      <td>A1</td>\n",
       "      <td>2005</td>\n",
       "      <td>2</td>\n",
       "      <td>205992</td>\n",
       "    </tr>\n",
       "    <tr>\n",
       "      <th>...</th>\n",
       "      <td>...</td>\n",
       "      <td>...</td>\n",
       "      <td>...</td>\n",
       "      <td>...</td>\n",
       "    </tr>\n",
       "    <tr>\n",
       "      <th>802</th>\n",
       "      <td>A95</td>\n",
       "      <td>2004</td>\n",
       "      <td>1</td>\n",
       "      <td>240402</td>\n",
       "    </tr>\n",
       "    <tr>\n",
       "      <th>803</th>\n",
       "      <td>A96</td>\n",
       "      <td>2004</td>\n",
       "      <td>1</td>\n",
       "      <td>54730</td>\n",
       "    </tr>\n",
       "    <tr>\n",
       "      <th>804</th>\n",
       "      <td>A97</td>\n",
       "      <td>2004</td>\n",
       "      <td>1</td>\n",
       "      <td>5000</td>\n",
       "    </tr>\n",
       "    <tr>\n",
       "      <th>805</th>\n",
       "      <td>A98</td>\n",
       "      <td>2004</td>\n",
       "      <td>1</td>\n",
       "      <td>5000</td>\n",
       "    </tr>\n",
       "    <tr>\n",
       "      <th>806</th>\n",
       "      <td>A99</td>\n",
       "      <td>2004</td>\n",
       "      <td>1</td>\n",
       "      <td>5001</td>\n",
       "    </tr>\n",
       "  </tbody>\n",
       "</table>\n",
       "<p>807 rows × 4 columns</p>\n",
       "</div>"
      ],
      "text/plain": [
       "    Customer  Year  Month  Avg_Monthly_Spend\n",
       "0         A1  2004      1             373274\n",
       "1         A1  2004      2              52209\n",
       "2         A1  2004      5             361141\n",
       "3         A1  2005      1             369694\n",
       "4         A1  2005      2             205992\n",
       "..       ...   ...    ...                ...\n",
       "802      A95  2004      1             240402\n",
       "803      A96  2004      1              54730\n",
       "804      A97  2004      1               5000\n",
       "805      A98  2004      1               5000\n",
       "806      A99  2004      1               5001\n",
       "\n",
       "[807 rows x 4 columns]"
      ]
     },
     "execution_count": 464,
     "metadata": {},
     "output_type": "execute_result"
    }
   ],
   "source": [
    "##Calculating Average monthly Spend by year nd month for each customer\n",
    "cust_spend[['Customer','Year','Month','Amount']].groupby(by = ['Customer','Year','Month']).mean().\\\n",
    "rename(columns={'Amount':'Avg_Monthly_Spend'}).reset_index()"
   ]
  },
  {
   "cell_type": "code",
   "execution_count": null,
   "id": "096847ce-c422-4c5a-9c11-22a4f8d80465",
   "metadata": {},
   "outputs": [],
   "source": [
    "## d. What is the average monthly repayment by customers?"
   ]
  },
  {
   "cell_type": "code",
   "execution_count": 466,
   "id": "b6248999-e73d-4716-9a4f-9350f9f30bc5",
   "metadata": {},
   "outputs": [],
   "source": [
    "##renaming Month column in cust_repay table as 'Repay_dt'\n",
    "cust_repay.rename(columns = {'Month' : 'Repay_dt'}, inplace=True)"
   ]
  },
  {
   "cell_type": "code",
   "execution_count": 478,
   "id": "1c0ac5e4-d189-4b27-9ee8-07a1141c9c5e",
   "metadata": {},
   "outputs": [],
   "source": [
    "## adding new columns as month and year\n",
    "cust_repay['Month'] = cust_repay.Repay_dt.dt.month\n",
    "cust_repay['Year'] = cust_repay.Repay_dt.dt.year"
   ]
  },
  {
   "cell_type": "code",
   "execution_count": null,
   "id": "e5dfdffa-c551-4105-81ef-252053644cf5",
   "metadata": {},
   "outputs": [],
   "source": [
    "## Calculating avg monthly repayment by each customer monthwise"
   ]
  },
  {
   "cell_type": "code",
   "execution_count": 482,
   "id": "f02c9af3-4d68-4901-9e6b-b573eff2c68f",
   "metadata": {},
   "outputs": [
    {
     "data": {
      "text/html": [
       "<div>\n",
       "<style scoped>\n",
       "    .dataframe tbody tr th:only-of-type {\n",
       "        vertical-align: middle;\n",
       "    }\n",
       "\n",
       "    .dataframe tbody tr th {\n",
       "        vertical-align: top;\n",
       "    }\n",
       "\n",
       "    .dataframe thead th {\n",
       "        text-align: right;\n",
       "    }\n",
       "</style>\n",
       "<table border=\"1\" class=\"dataframe\">\n",
       "  <thead>\n",
       "    <tr style=\"text-align: right;\">\n",
       "      <th></th>\n",
       "      <th>Customer</th>\n",
       "      <th>Year</th>\n",
       "      <th>Month</th>\n",
       "      <th>Avg_Monthly_Repay</th>\n",
       "    </tr>\n",
       "  </thead>\n",
       "  <tbody>\n",
       "    <tr>\n",
       "      <th>0</th>\n",
       "      <td>A1</td>\n",
       "      <td>2004</td>\n",
       "      <td>1</td>\n",
       "      <td>373639</td>\n",
       "    </tr>\n",
       "    <tr>\n",
       "      <th>1</th>\n",
       "      <td>A1</td>\n",
       "      <td>2004</td>\n",
       "      <td>2</td>\n",
       "      <td>117964</td>\n",
       "    </tr>\n",
       "    <tr>\n",
       "      <th>2</th>\n",
       "      <td>A1</td>\n",
       "      <td>2005</td>\n",
       "      <td>1</td>\n",
       "      <td>165973</td>\n",
       "    </tr>\n",
       "    <tr>\n",
       "      <th>3</th>\n",
       "      <td>A1</td>\n",
       "      <td>2005</td>\n",
       "      <td>2</td>\n",
       "      <td>165977</td>\n",
       "    </tr>\n",
       "    <tr>\n",
       "      <th>4</th>\n",
       "      <td>A1</td>\n",
       "      <td>2005</td>\n",
       "      <td>7</td>\n",
       "      <td>297177</td>\n",
       "    </tr>\n",
       "    <tr>\n",
       "      <th>...</th>\n",
       "      <td>...</td>\n",
       "      <td>...</td>\n",
       "      <td>...</td>\n",
       "      <td>...</td>\n",
       "    </tr>\n",
       "    <tr>\n",
       "      <th>793</th>\n",
       "      <td>A95</td>\n",
       "      <td>2004</td>\n",
       "      <td>1</td>\n",
       "      <td>369406</td>\n",
       "    </tr>\n",
       "    <tr>\n",
       "      <th>794</th>\n",
       "      <td>A96</td>\n",
       "      <td>2004</td>\n",
       "      <td>1</td>\n",
       "      <td>100000</td>\n",
       "    </tr>\n",
       "    <tr>\n",
       "      <th>795</th>\n",
       "      <td>A97</td>\n",
       "      <td>2004</td>\n",
       "      <td>1</td>\n",
       "      <td>10000</td>\n",
       "    </tr>\n",
       "    <tr>\n",
       "      <th>796</th>\n",
       "      <td>A98</td>\n",
       "      <td>2004</td>\n",
       "      <td>1</td>\n",
       "      <td>10001</td>\n",
       "    </tr>\n",
       "    <tr>\n",
       "      <th>797</th>\n",
       "      <td>A99</td>\n",
       "      <td>2004</td>\n",
       "      <td>1</td>\n",
       "      <td>10002</td>\n",
       "    </tr>\n",
       "  </tbody>\n",
       "</table>\n",
       "<p>798 rows × 4 columns</p>\n",
       "</div>"
      ],
      "text/plain": [
       "    Customer  Year  Month  Avg_Monthly_Repay\n",
       "0         A1  2004      1             373639\n",
       "1         A1  2004      2             117964\n",
       "2         A1  2005      1             165973\n",
       "3         A1  2005      2             165977\n",
       "4         A1  2005      7             297177\n",
       "..       ...   ...    ...                ...\n",
       "793      A95  2004      1             369406\n",
       "794      A96  2004      1             100000\n",
       "795      A97  2004      1              10000\n",
       "796      A98  2004      1              10001\n",
       "797      A99  2004      1              10002\n",
       "\n",
       "[798 rows x 4 columns]"
      ]
     },
     "execution_count": 482,
     "metadata": {},
     "output_type": "execute_result"
    }
   ],
   "source": [
    "cust_repay[['Customer','Year','Month','Amount']].groupby(['Customer','Year','Month']).mean().\\\n",
    "rename(columns = {'Amount':'Avg_Monthly_Repay'}).reset_index()"
   ]
  },
  {
   "cell_type": "code",
   "execution_count": null,
   "id": "52ee222c-d4f5-4e4b-8256-5e245f05c8f1",
   "metadata": {},
   "outputs": [],
   "source": [
    "## e. If the monthly rate of interest is 2.9%, what is the profit for the bank for each month? \n",
    "## (Profit is defined as interest earned on Monthly Profit. \n",
    "## Monthly Profit = Monthly repayment – Monthly spend. \n",
    "## Interest is earned only on positive profits and not on negative amounts)"
   ]
  },
  {
   "cell_type": "code",
   "execution_count": 490,
   "id": "1a010baf-9c04-4ff3-8240-1be785b2993f",
   "metadata": {},
   "outputs": [],
   "source": [
    "## CREATING two NEW DATAFRAME WITH MONTHWISE spend and repayment\n",
    "monthly_spend = cust_spend[['Year','Month','Amount']].groupby(['Year','Month']).sum().rename(columns = {'Amount':'Monthly_Spend'}).reset_index()"
   ]
  },
  {
   "cell_type": "code",
   "execution_count": 491,
   "id": "0408bf7c-7b29-4654-9ac3-0b63d05103e4",
   "metadata": {},
   "outputs": [],
   "source": [
    "monthly_repay = cust_repay[['Year','Month','Amount']].groupby(['Year','Month']).sum().rename(columns = {'Amount':'Monthly_Repay'}).reset_index()"
   ]
  },
  {
   "cell_type": "code",
   "execution_count": 495,
   "id": "42128f19-f7b6-471a-be34-8c4ddbc86890",
   "metadata": {},
   "outputs": [],
   "source": [
    "##now merging both tables on year and month columns\n",
    "monthly_tran = pd.merge(left = monthly_repay, right = monthly_spend, on = ['Year','Month'])"
   ]
  },
  {
   "cell_type": "code",
   "execution_count": 497,
   "id": "1d229fb5-7211-4f59-882b-2214a41a1e4a",
   "metadata": {},
   "outputs": [],
   "source": [
    "## adding new column to monthly_tran as monthly profit\n",
    "monthly_tran.loc[:,'Monthy_Profit'] = monthly_tran.Monthly_Repay - monthly_tran.Monthly_Spend"
   ]
  },
  {
   "cell_type": "code",
   "execution_count": 500,
   "id": "887c4197-1da8-48e7-9745-b2285816baaa",
   "metadata": {},
   "outputs": [],
   "source": [
    "##Calculating actual profit with inerest of 2.9% for positive monthly_profits\n",
    "monthly_tran['Actual_Profit'] = np.where(monthly_tran.Monthy_Profit > 0, monthly_tran.Monthy_Profit*2.9/100,0)"
   ]
  },
  {
   "cell_type": "code",
   "execution_count": 501,
   "id": "3cb4170f-e805-4d2f-acd2-f7d3265230e3",
   "metadata": {},
   "outputs": [
    {
     "data": {
      "text/html": [
       "<div>\n",
       "<style scoped>\n",
       "    .dataframe tbody tr th:only-of-type {\n",
       "        vertical-align: middle;\n",
       "    }\n",
       "\n",
       "    .dataframe tbody tr th {\n",
       "        vertical-align: top;\n",
       "    }\n",
       "\n",
       "    .dataframe thead th {\n",
       "        text-align: right;\n",
       "    }\n",
       "</style>\n",
       "<table border=\"1\" class=\"dataframe\">\n",
       "  <thead>\n",
       "    <tr style=\"text-align: right;\">\n",
       "      <th></th>\n",
       "      <th>Year</th>\n",
       "      <th>Month</th>\n",
       "      <th>Monthly_Repay</th>\n",
       "      <th>Monthly_Spend</th>\n",
       "      <th>Monthy_Profit</th>\n",
       "      <th>Actual_Profit</th>\n",
       "    </tr>\n",
       "  </thead>\n",
       "  <tbody>\n",
       "    <tr>\n",
       "      <th>0</th>\n",
       "      <td>2004</td>\n",
       "      <td>1</td>\n",
       "      <td>44792021</td>\n",
       "      <td>44279812</td>\n",
       "      <td>512209</td>\n",
       "      <td>14854</td>\n",
       "    </tr>\n",
       "    <tr>\n",
       "      <th>1</th>\n",
       "      <td>2004</td>\n",
       "      <td>2</td>\n",
       "      <td>3391538</td>\n",
       "      <td>3835952</td>\n",
       "      <td>-444414</td>\n",
       "      <td>0</td>\n",
       "    </tr>\n",
       "    <tr>\n",
       "      <th>2</th>\n",
       "      <td>2004</td>\n",
       "      <td>3</td>\n",
       "      <td>2666519</td>\n",
       "      <td>1871913</td>\n",
       "      <td>794606</td>\n",
       "      <td>23044</td>\n",
       "    </tr>\n",
       "    <tr>\n",
       "      <th>3</th>\n",
       "      <td>2004</td>\n",
       "      <td>4</td>\n",
       "      <td>5268980</td>\n",
       "      <td>3489415</td>\n",
       "      <td>1779564</td>\n",
       "      <td>51607</td>\n",
       "    </tr>\n",
       "    <tr>\n",
       "      <th>4</th>\n",
       "      <td>2004</td>\n",
       "      <td>5</td>\n",
       "      <td>3782760</td>\n",
       "      <td>2146577</td>\n",
       "      <td>1636183</td>\n",
       "      <td>47449</td>\n",
       "    </tr>\n",
       "    <tr>\n",
       "      <th>5</th>\n",
       "      <td>2004</td>\n",
       "      <td>9</td>\n",
       "      <td>1902816</td>\n",
       "      <td>2402110</td>\n",
       "      <td>-499293</td>\n",
       "      <td>0</td>\n",
       "    </tr>\n",
       "    <tr>\n",
       "      <th>6</th>\n",
       "      <td>2004</td>\n",
       "      <td>11</td>\n",
       "      <td>1788399</td>\n",
       "      <td>1114989</td>\n",
       "      <td>673410</td>\n",
       "      <td>19529</td>\n",
       "    </tr>\n",
       "    <tr>\n",
       "      <th>7</th>\n",
       "      <td>2005</td>\n",
       "      <td>1</td>\n",
       "      <td>4894040</td>\n",
       "      <td>5383607</td>\n",
       "      <td>-489567</td>\n",
       "      <td>0</td>\n",
       "    </tr>\n",
       "    <tr>\n",
       "      <th>8</th>\n",
       "      <td>2005</td>\n",
       "      <td>2</td>\n",
       "      <td>25491800</td>\n",
       "      <td>25928183</td>\n",
       "      <td>-436383</td>\n",
       "      <td>0</td>\n",
       "    </tr>\n",
       "    <tr>\n",
       "      <th>9</th>\n",
       "      <td>2005</td>\n",
       "      <td>4</td>\n",
       "      <td>3634904</td>\n",
       "      <td>4100066</td>\n",
       "      <td>-465162</td>\n",
       "      <td>0</td>\n",
       "    </tr>\n",
       "    <tr>\n",
       "      <th>10</th>\n",
       "      <td>2005</td>\n",
       "      <td>5</td>\n",
       "      <td>30818765</td>\n",
       "      <td>21647612</td>\n",
       "      <td>9171152</td>\n",
       "      <td>265963</td>\n",
       "    </tr>\n",
       "    <tr>\n",
       "      <th>11</th>\n",
       "      <td>2005</td>\n",
       "      <td>6</td>\n",
       "      <td>3493886</td>\n",
       "      <td>8010512</td>\n",
       "      <td>-4516626</td>\n",
       "      <td>0</td>\n",
       "    </tr>\n",
       "    <tr>\n",
       "      <th>12</th>\n",
       "      <td>2005</td>\n",
       "      <td>7</td>\n",
       "      <td>1799339</td>\n",
       "      <td>1691243</td>\n",
       "      <td>108096</td>\n",
       "      <td>3135</td>\n",
       "    </tr>\n",
       "    <tr>\n",
       "      <th>13</th>\n",
       "      <td>2005</td>\n",
       "      <td>8</td>\n",
       "      <td>5549412</td>\n",
       "      <td>3967808</td>\n",
       "      <td>1581604</td>\n",
       "      <td>45867</td>\n",
       "    </tr>\n",
       "    <tr>\n",
       "      <th>14</th>\n",
       "      <td>2005</td>\n",
       "      <td>9</td>\n",
       "      <td>882720</td>\n",
       "      <td>1531933</td>\n",
       "      <td>-649213</td>\n",
       "      <td>0</td>\n",
       "    </tr>\n",
       "    <tr>\n",
       "      <th>15</th>\n",
       "      <td>2005</td>\n",
       "      <td>10</td>\n",
       "      <td>1635219</td>\n",
       "      <td>1258312</td>\n",
       "      <td>376907</td>\n",
       "      <td>10930</td>\n",
       "    </tr>\n",
       "    <tr>\n",
       "      <th>16</th>\n",
       "      <td>2005</td>\n",
       "      <td>11</td>\n",
       "      <td>7107487</td>\n",
       "      <td>7481049</td>\n",
       "      <td>-373562</td>\n",
       "      <td>0</td>\n",
       "    </tr>\n",
       "    <tr>\n",
       "      <th>17</th>\n",
       "      <td>2005</td>\n",
       "      <td>12</td>\n",
       "      <td>2149429</td>\n",
       "      <td>1181824</td>\n",
       "      <td>967605</td>\n",
       "      <td>28061</td>\n",
       "    </tr>\n",
       "    <tr>\n",
       "      <th>18</th>\n",
       "      <td>2006</td>\n",
       "      <td>1</td>\n",
       "      <td>2453064</td>\n",
       "      <td>1908375</td>\n",
       "      <td>544689</td>\n",
       "      <td>15796</td>\n",
       "    </tr>\n",
       "    <tr>\n",
       "      <th>19</th>\n",
       "      <td>2006</td>\n",
       "      <td>2</td>\n",
       "      <td>7339729</td>\n",
       "      <td>6236117</td>\n",
       "      <td>1103611</td>\n",
       "      <td>32005</td>\n",
       "    </tr>\n",
       "    <tr>\n",
       "      <th>20</th>\n",
       "      <td>2006</td>\n",
       "      <td>3</td>\n",
       "      <td>31591838</td>\n",
       "      <td>28583303</td>\n",
       "      <td>3008535</td>\n",
       "      <td>87248</td>\n",
       "    </tr>\n",
       "    <tr>\n",
       "      <th>21</th>\n",
       "      <td>2006</td>\n",
       "      <td>4</td>\n",
       "      <td>16247639</td>\n",
       "      <td>12665908</td>\n",
       "      <td>3581731</td>\n",
       "      <td>103870</td>\n",
       "    </tr>\n",
       "    <tr>\n",
       "      <th>22</th>\n",
       "      <td>2006</td>\n",
       "      <td>5</td>\n",
       "      <td>14900518</td>\n",
       "      <td>8046846</td>\n",
       "      <td>6853671</td>\n",
       "      <td>198756</td>\n",
       "    </tr>\n",
       "    <tr>\n",
       "      <th>23</th>\n",
       "      <td>2006</td>\n",
       "      <td>6</td>\n",
       "      <td>1985149</td>\n",
       "      <td>2183601</td>\n",
       "      <td>-198452</td>\n",
       "      <td>0</td>\n",
       "    </tr>\n",
       "    <tr>\n",
       "      <th>24</th>\n",
       "      <td>2006</td>\n",
       "      <td>7</td>\n",
       "      <td>6295653</td>\n",
       "      <td>5294483</td>\n",
       "      <td>1001170</td>\n",
       "      <td>29034</td>\n",
       "    </tr>\n",
       "    <tr>\n",
       "      <th>25</th>\n",
       "      <td>2006</td>\n",
       "      <td>8</td>\n",
       "      <td>1938642</td>\n",
       "      <td>2994095</td>\n",
       "      <td>-1055453</td>\n",
       "      <td>0</td>\n",
       "    </tr>\n",
       "    <tr>\n",
       "      <th>26</th>\n",
       "      <td>2006</td>\n",
       "      <td>9</td>\n",
       "      <td>2388295</td>\n",
       "      <td>1993489</td>\n",
       "      <td>394806</td>\n",
       "      <td>11449</td>\n",
       "    </tr>\n",
       "    <tr>\n",
       "      <th>27</th>\n",
       "      <td>2006</td>\n",
       "      <td>10</td>\n",
       "      <td>2447635</td>\n",
       "      <td>2410188</td>\n",
       "      <td>37447</td>\n",
       "      <td>1086</td>\n",
       "    </tr>\n",
       "    <tr>\n",
       "      <th>28</th>\n",
       "      <td>2006</td>\n",
       "      <td>11</td>\n",
       "      <td>3930260</td>\n",
       "      <td>4039951</td>\n",
       "      <td>-109691</td>\n",
       "      <td>0</td>\n",
       "    </tr>\n",
       "    <tr>\n",
       "      <th>29</th>\n",
       "      <td>2006</td>\n",
       "      <td>12</td>\n",
       "      <td>2413907</td>\n",
       "      <td>2101811</td>\n",
       "      <td>312096</td>\n",
       "      <td>9051</td>\n",
       "    </tr>\n",
       "  </tbody>\n",
       "</table>\n",
       "</div>"
      ],
      "text/plain": [
       "    Year  Month  Monthly_Repay  Monthly_Spend  Monthy_Profit  Actual_Profit\n",
       "0   2004      1       44792021       44279812         512209          14854\n",
       "1   2004      2        3391538        3835952        -444414              0\n",
       "2   2004      3        2666519        1871913         794606          23044\n",
       "3   2004      4        5268980        3489415        1779564          51607\n",
       "4   2004      5        3782760        2146577        1636183          47449\n",
       "5   2004      9        1902816        2402110        -499293              0\n",
       "6   2004     11        1788399        1114989         673410          19529\n",
       "7   2005      1        4894040        5383607        -489567              0\n",
       "8   2005      2       25491800       25928183        -436383              0\n",
       "9   2005      4        3634904        4100066        -465162              0\n",
       "10  2005      5       30818765       21647612        9171152         265963\n",
       "11  2005      6        3493886        8010512       -4516626              0\n",
       "12  2005      7        1799339        1691243         108096           3135\n",
       "13  2005      8        5549412        3967808        1581604          45867\n",
       "14  2005      9         882720        1531933        -649213              0\n",
       "15  2005     10        1635219        1258312         376907          10930\n",
       "16  2005     11        7107487        7481049        -373562              0\n",
       "17  2005     12        2149429        1181824         967605          28061\n",
       "18  2006      1        2453064        1908375         544689          15796\n",
       "19  2006      2        7339729        6236117        1103611          32005\n",
       "20  2006      3       31591838       28583303        3008535          87248\n",
       "21  2006      4       16247639       12665908        3581731         103870\n",
       "22  2006      5       14900518        8046846        6853671         198756\n",
       "23  2006      6        1985149        2183601        -198452              0\n",
       "24  2006      7        6295653        5294483        1001170          29034\n",
       "25  2006      8        1938642        2994095       -1055453              0\n",
       "26  2006      9        2388295        1993489         394806          11449\n",
       "27  2006     10        2447635        2410188          37447           1086\n",
       "28  2006     11        3930260        4039951        -109691              0\n",
       "29  2006     12        2413907        2101811         312096           9051"
      ]
     },
     "execution_count": 501,
     "metadata": {},
     "output_type": "execute_result"
    }
   ],
   "source": [
    "monthly_tran"
   ]
  },
  {
   "cell_type": "code",
   "execution_count": 503,
   "id": "05d229e9-d4cb-4efa-ac03-1c30f7a720ed",
   "metadata": {},
   "outputs": [],
   "source": [
    "## f. What are the top 5 product types?"
   ]
  },
  {
   "cell_type": "code",
   "execution_count": 516,
   "id": "fbe28e29-6564-4aa7-800c-3b5f6a033085",
   "metadata": {},
   "outputs": [
    {
     "data": {
      "text/html": [
       "<div>\n",
       "<style scoped>\n",
       "    .dataframe tbody tr th:only-of-type {\n",
       "        vertical-align: middle;\n",
       "    }\n",
       "\n",
       "    .dataframe tbody tr th {\n",
       "        vertical-align: top;\n",
       "    }\n",
       "\n",
       "    .dataframe thead th {\n",
       "        text-align: right;\n",
       "    }\n",
       "</style>\n",
       "<table border=\"1\" class=\"dataframe\">\n",
       "  <thead>\n",
       "    <tr style=\"text-align: right;\">\n",
       "      <th></th>\n",
       "      <th>Customer</th>\n",
       "      <th>Spend_dt</th>\n",
       "      <th>Type</th>\n",
       "      <th>Amount</th>\n",
       "      <th>Age</th>\n",
       "      <th>City</th>\n",
       "      <th>Product</th>\n",
       "      <th>Limit</th>\n",
       "      <th>Company</th>\n",
       "      <th>Segment</th>\n",
       "      <th>Month</th>\n",
       "      <th>Year</th>\n",
       "    </tr>\n",
       "  </thead>\n",
       "  <tbody>\n",
       "    <tr>\n",
       "      <th>0</th>\n",
       "      <td>A1</td>\n",
       "      <td>2004-01-12</td>\n",
       "      <td>JEWELLERY</td>\n",
       "      <td>485471</td>\n",
       "      <td>76</td>\n",
       "      <td>BANGALORE</td>\n",
       "      <td>Gold</td>\n",
       "      <td>500000</td>\n",
       "      <td>C1</td>\n",
       "      <td>Self Employed</td>\n",
       "      <td>1</td>\n",
       "      <td>2004</td>\n",
       "    </tr>\n",
       "    <tr>\n",
       "      <th>1</th>\n",
       "      <td>A1</td>\n",
       "      <td>2004-01-03</td>\n",
       "      <td>PETRO</td>\n",
       "      <td>410556</td>\n",
       "      <td>76</td>\n",
       "      <td>BANGALORE</td>\n",
       "      <td>Gold</td>\n",
       "      <td>500000</td>\n",
       "      <td>C1</td>\n",
       "      <td>Self Employed</td>\n",
       "      <td>1</td>\n",
       "      <td>2004</td>\n",
       "    </tr>\n",
       "    <tr>\n",
       "      <th>2</th>\n",
       "      <td>A1</td>\n",
       "      <td>2004-01-15</td>\n",
       "      <td>CLOTHES</td>\n",
       "      <td>23740</td>\n",
       "      <td>76</td>\n",
       "      <td>BANGALORE</td>\n",
       "      <td>Gold</td>\n",
       "      <td>500000</td>\n",
       "      <td>C1</td>\n",
       "      <td>Self Employed</td>\n",
       "      <td>1</td>\n",
       "      <td>2004</td>\n",
       "    </tr>\n",
       "    <tr>\n",
       "      <th>3</th>\n",
       "      <td>A1</td>\n",
       "      <td>2004-01-25</td>\n",
       "      <td>FOOD</td>\n",
       "      <td>484342</td>\n",
       "      <td>76</td>\n",
       "      <td>BANGALORE</td>\n",
       "      <td>Gold</td>\n",
       "      <td>500000</td>\n",
       "      <td>C1</td>\n",
       "      <td>Self Employed</td>\n",
       "      <td>1</td>\n",
       "      <td>2004</td>\n",
       "    </tr>\n",
       "    <tr>\n",
       "      <th>4</th>\n",
       "      <td>A1</td>\n",
       "      <td>2005-01-17</td>\n",
       "      <td>CAMERA</td>\n",
       "      <td>369694</td>\n",
       "      <td>76</td>\n",
       "      <td>BANGALORE</td>\n",
       "      <td>Gold</td>\n",
       "      <td>500000</td>\n",
       "      <td>C1</td>\n",
       "      <td>Self Employed</td>\n",
       "      <td>1</td>\n",
       "      <td>2005</td>\n",
       "    </tr>\n",
       "  </tbody>\n",
       "</table>\n",
       "</div>"
      ],
      "text/plain": [
       "  Customer   Spend_dt       Type  Amount  Age       City Product  Limit  \\\n",
       "0       A1 2004-01-12  JEWELLERY  485471   76  BANGALORE    Gold 500000   \n",
       "1       A1 2004-01-03      PETRO  410556   76  BANGALORE    Gold 500000   \n",
       "2       A1 2004-01-15    CLOTHES   23740   76  BANGALORE    Gold 500000   \n",
       "3       A1 2004-01-25       FOOD  484342   76  BANGALORE    Gold 500000   \n",
       "4       A1 2005-01-17     CAMERA  369694   76  BANGALORE    Gold 500000   \n",
       "\n",
       "  Company        Segment  Month  Year  \n",
       "0      C1  Self Employed      1  2004  \n",
       "1      C1  Self Employed      1  2004  \n",
       "2      C1  Self Employed      1  2004  \n",
       "3      C1  Self Employed      1  2004  \n",
       "4      C1  Self Employed      1  2005  "
      ]
     },
     "execution_count": 516,
     "metadata": {},
     "output_type": "execute_result"
    }
   ],
   "source": [
    "cust_spend.head()"
   ]
  },
  {
   "cell_type": "code",
   "execution_count": 524,
   "id": "c9b21e41-428e-4da5-b6c8-6e42a18e5f42",
   "metadata": {},
   "outputs": [
    {
     "name": "stdout",
     "output_type": "stream",
     "text": [
      "Top 5 product types are\n"
     ]
    },
    {
     "data": {
      "text/html": [
       "<div>\n",
       "<style scoped>\n",
       "    .dataframe tbody tr th:only-of-type {\n",
       "        vertical-align: middle;\n",
       "    }\n",
       "\n",
       "    .dataframe tbody tr th {\n",
       "        vertical-align: top;\n",
       "    }\n",
       "\n",
       "    .dataframe thead th {\n",
       "        text-align: right;\n",
       "    }\n",
       "</style>\n",
       "<table border=\"1\" class=\"dataframe\">\n",
       "  <thead>\n",
       "    <tr style=\"text-align: right;\">\n",
       "      <th></th>\n",
       "      <th>Type</th>\n",
       "      <th>Amount</th>\n",
       "    </tr>\n",
       "  </thead>\n",
       "  <tbody>\n",
       "    <tr>\n",
       "      <th>10</th>\n",
       "      <td>PETRO</td>\n",
       "      <td>28597385</td>\n",
       "    </tr>\n",
       "    <tr>\n",
       "      <th>4</th>\n",
       "      <td>CAMERA</td>\n",
       "      <td>27690738</td>\n",
       "    </tr>\n",
       "    <tr>\n",
       "      <th>7</th>\n",
       "      <td>FOOD</td>\n",
       "      <td>20519244</td>\n",
       "    </tr>\n",
       "    <tr>\n",
       "      <th>0</th>\n",
       "      <td>AIR TICKET</td>\n",
       "      <td>20155847</td>\n",
       "    </tr>\n",
       "    <tr>\n",
       "      <th>14</th>\n",
       "      <td>TRAIN TICKET</td>\n",
       "      <td>19995826</td>\n",
       "    </tr>\n",
       "  </tbody>\n",
       "</table>\n",
       "</div>"
      ],
      "text/plain": [
       "            Type   Amount\n",
       "10         PETRO 28597385\n",
       "4         CAMERA 27690738\n",
       "7           FOOD 20519244\n",
       "0     AIR TICKET 20155847\n",
       "14  TRAIN TICKET 19995826"
      ]
     },
     "execution_count": 524,
     "metadata": {},
     "output_type": "execute_result"
    }
   ],
   "source": [
    "print('Top 5 product types are')\n",
    "cust_spend.groupby('Type').Amount.sum().reset_index().sort_values('Amount', ascending = False).head()"
   ]
  },
  {
   "cell_type": "code",
   "execution_count": 539,
   "id": "0f717793-689d-4877-bca6-0ddb3130dd5b",
   "metadata": {},
   "outputs": [
    {
     "data": {
      "image/png": "[encoded data removed]",
      "text/plain": [
       "<Figure size 900x500 with 1 Axes>"
      ]
     },
     "metadata": {},
     "output_type": "display_data"
    }
   ],
   "source": [
    "top5 = cust_spend.groupby('Type').Amount.sum().reset_index().sort_values('Amount', ascending = False).head()\n",
    "plt.figure(figsize=(9,5))\n",
    "sns.barplot(data = top5, x='Type', y='Amount')\n",
    "plt.show()"
   ]
  },
  {
   "cell_type": "code",
   "execution_count": null,
   "id": "98a8b917-66ae-4733-87b0-fad6a6e42e30",
   "metadata": {},
   "outputs": [],
   "source": [
    "##  g. Which city is having maximum spend?"
   ]
  },
  {
   "cell_type": "code",
   "execution_count": 526,
   "id": "6693a5d2-ce26-409f-8231-99f371da01e8",
   "metadata": {},
   "outputs": [
    {
     "data": {
      "text/html": [
       "<div>\n",
       "<style scoped>\n",
       "    .dataframe tbody tr th:only-of-type {\n",
       "        vertical-align: middle;\n",
       "    }\n",
       "\n",
       "    .dataframe tbody tr th {\n",
       "        vertical-align: top;\n",
       "    }\n",
       "\n",
       "    .dataframe thead th {\n",
       "        text-align: right;\n",
       "    }\n",
       "</style>\n",
       "<table border=\"1\" class=\"dataframe\">\n",
       "  <thead>\n",
       "    <tr style=\"text-align: right;\">\n",
       "      <th></th>\n",
       "      <th>Customer</th>\n",
       "      <th>Spend_dt</th>\n",
       "      <th>Type</th>\n",
       "      <th>Amount</th>\n",
       "      <th>Age</th>\n",
       "      <th>City</th>\n",
       "      <th>Product</th>\n",
       "      <th>Limit</th>\n",
       "      <th>Company</th>\n",
       "      <th>Segment</th>\n",
       "      <th>Month</th>\n",
       "      <th>Year</th>\n",
       "    </tr>\n",
       "  </thead>\n",
       "  <tbody>\n",
       "    <tr>\n",
       "      <th>0</th>\n",
       "      <td>A1</td>\n",
       "      <td>2004-01-12</td>\n",
       "      <td>JEWELLERY</td>\n",
       "      <td>485471</td>\n",
       "      <td>76</td>\n",
       "      <td>BANGALORE</td>\n",
       "      <td>Gold</td>\n",
       "      <td>500000</td>\n",
       "      <td>C1</td>\n",
       "      <td>Self Employed</td>\n",
       "      <td>1</td>\n",
       "      <td>2004</td>\n",
       "    </tr>\n",
       "    <tr>\n",
       "      <th>1</th>\n",
       "      <td>A1</td>\n",
       "      <td>2004-01-03</td>\n",
       "      <td>PETRO</td>\n",
       "      <td>410556</td>\n",
       "      <td>76</td>\n",
       "      <td>BANGALORE</td>\n",
       "      <td>Gold</td>\n",
       "      <td>500000</td>\n",
       "      <td>C1</td>\n",
       "      <td>Self Employed</td>\n",
       "      <td>1</td>\n",
       "      <td>2004</td>\n",
       "    </tr>\n",
       "    <tr>\n",
       "      <th>2</th>\n",
       "      <td>A1</td>\n",
       "      <td>2004-01-15</td>\n",
       "      <td>CLOTHES</td>\n",
       "      <td>23740</td>\n",
       "      <td>76</td>\n",
       "      <td>BANGALORE</td>\n",
       "      <td>Gold</td>\n",
       "      <td>500000</td>\n",
       "      <td>C1</td>\n",
       "      <td>Self Employed</td>\n",
       "      <td>1</td>\n",
       "      <td>2004</td>\n",
       "    </tr>\n",
       "    <tr>\n",
       "      <th>3</th>\n",
       "      <td>A1</td>\n",
       "      <td>2004-01-25</td>\n",
       "      <td>FOOD</td>\n",
       "      <td>484342</td>\n",
       "      <td>76</td>\n",
       "      <td>BANGALORE</td>\n",
       "      <td>Gold</td>\n",
       "      <td>500000</td>\n",
       "      <td>C1</td>\n",
       "      <td>Self Employed</td>\n",
       "      <td>1</td>\n",
       "      <td>2004</td>\n",
       "    </tr>\n",
       "    <tr>\n",
       "      <th>4</th>\n",
       "      <td>A1</td>\n",
       "      <td>2005-01-17</td>\n",
       "      <td>CAMERA</td>\n",
       "      <td>369694</td>\n",
       "      <td>76</td>\n",
       "      <td>BANGALORE</td>\n",
       "      <td>Gold</td>\n",
       "      <td>500000</td>\n",
       "      <td>C1</td>\n",
       "      <td>Self Employed</td>\n",
       "      <td>1</td>\n",
       "      <td>2005</td>\n",
       "    </tr>\n",
       "  </tbody>\n",
       "</table>\n",
       "</div>"
      ],
      "text/plain": [
       "  Customer   Spend_dt       Type  Amount  Age       City Product  Limit  \\\n",
       "0       A1 2004-01-12  JEWELLERY  485471   76  BANGALORE    Gold 500000   \n",
       "1       A1 2004-01-03      PETRO  410556   76  BANGALORE    Gold 500000   \n",
       "2       A1 2004-01-15    CLOTHES   23740   76  BANGALORE    Gold 500000   \n",
       "3       A1 2004-01-25       FOOD  484342   76  BANGALORE    Gold 500000   \n",
       "4       A1 2005-01-17     CAMERA  369694   76  BANGALORE    Gold 500000   \n",
       "\n",
       "  Company        Segment  Month  Year  \n",
       "0      C1  Self Employed      1  2004  \n",
       "1      C1  Self Employed      1  2004  \n",
       "2      C1  Self Employed      1  2004  \n",
       "3      C1  Self Employed      1  2004  \n",
       "4      C1  Self Employed      1  2005  "
      ]
     },
     "execution_count": 526,
     "metadata": {},
     "output_type": "execute_result"
    }
   ],
   "source": [
    "cust_spend.head()"
   ]
  },
  {
   "cell_type": "code",
   "execution_count": 536,
   "id": "f21a2cdf-8d06-4cbc-9fd3-beca2a657f71",
   "metadata": {},
   "outputs": [
    {
     "name": "stdout",
     "output_type": "stream",
     "text": [
      "City with maximum spend is\n"
     ]
    },
    {
     "data": {
      "text/html": [
       "<div>\n",
       "<style scoped>\n",
       "    .dataframe tbody tr th:only-of-type {\n",
       "        vertical-align: middle;\n",
       "    }\n",
       "\n",
       "    .dataframe tbody tr th {\n",
       "        vertical-align: top;\n",
       "    }\n",
       "\n",
       "    .dataframe thead th {\n",
       "        text-align: right;\n",
       "    }\n",
       "</style>\n",
       "<table border=\"1\" class=\"dataframe\">\n",
       "  <thead>\n",
       "    <tr style=\"text-align: right;\">\n",
       "      <th></th>\n",
       "      <th>City</th>\n",
       "      <th>Spend</th>\n",
       "    </tr>\n",
       "  </thead>\n",
       "  <tbody>\n",
       "    <tr>\n",
       "      <th>4</th>\n",
       "      <td>COCHIN</td>\n",
       "      <td>45963514</td>\n",
       "    </tr>\n",
       "  </tbody>\n",
       "</table>\n",
       "</div>"
      ],
      "text/plain": [
       "     City    Spend\n",
       "4  COCHIN 45963514"
      ]
     },
     "execution_count": 536,
     "metadata": {},
     "output_type": "execute_result"
    }
   ],
   "source": [
    "print('City with maximum spend is')\n",
    "cust_spend.groupby('City')[['Amount']].sum().reset_index().sort_values('Amount', ascending=False).rename(columns={'Amount':'Spend'}).head(1)"
   ]
  },
  {
   "cell_type": "code",
   "execution_count": 562,
   "id": "28742a6d-36a8-4151-8a0c-5a96d69154ba",
   "metadata": {},
   "outputs": [
    {
     "data": {
      "image/png": "[encoded data removed]",
      "text/plain": [
       "<Figure size 640x480 with 1 Axes>"
      ]
     },
     "metadata": {},
     "output_type": "display_data"
    }
   ],
   "source": [
    "city_spend = cust_spend.groupby('City')[['Amount']].sum().reset_index().sort_values('Amount', ascending=False).rename(columns={'Amount':'Spend'})\n",
    "plt.pie(city_spend.Spend, labels = city_spend.City, autopct='%0.1f %%', explode=[0.1,0.0,0.0,0.0,0.0,0.0,0.0,0.0] )\n",
    "plt.title('City-wise Spend by Customers')\n",
    "plt.show()"
   ]
  },
  {
   "cell_type": "code",
   "execution_count": null,
   "id": "eec7eecd-6fa3-499e-8283-2cbdfea9c615",
   "metadata": {},
   "outputs": [],
   "source": [
    "##  h. Which age group is spending more money?"
   ]
  },
  {
   "cell_type": "code",
   "execution_count": 537,
   "id": "a71ff653-0b67-4fe6-9db7-3e8f80098642",
   "metadata": {},
   "outputs": [
    {
     "data": {
      "text/html": [
       "<div>\n",
       "<style scoped>\n",
       "    .dataframe tbody tr th:only-of-type {\n",
       "        vertical-align: middle;\n",
       "    }\n",
       "\n",
       "    .dataframe tbody tr th {\n",
       "        vertical-align: top;\n",
       "    }\n",
       "\n",
       "    .dataframe thead th {\n",
       "        text-align: right;\n",
       "    }\n",
       "</style>\n",
       "<table border=\"1\" class=\"dataframe\">\n",
       "  <thead>\n",
       "    <tr style=\"text-align: right;\">\n",
       "      <th></th>\n",
       "      <th>Customer</th>\n",
       "      <th>Spend_dt</th>\n",
       "      <th>Type</th>\n",
       "      <th>Amount</th>\n",
       "      <th>Age</th>\n",
       "      <th>City</th>\n",
       "      <th>Product</th>\n",
       "      <th>Limit</th>\n",
       "      <th>Company</th>\n",
       "      <th>Segment</th>\n",
       "      <th>Month</th>\n",
       "      <th>Year</th>\n",
       "    </tr>\n",
       "  </thead>\n",
       "  <tbody>\n",
       "    <tr>\n",
       "      <th>0</th>\n",
       "      <td>A1</td>\n",
       "      <td>2004-01-12</td>\n",
       "      <td>JEWELLERY</td>\n",
       "      <td>485471</td>\n",
       "      <td>76</td>\n",
       "      <td>BANGALORE</td>\n",
       "      <td>Gold</td>\n",
       "      <td>500000</td>\n",
       "      <td>C1</td>\n",
       "      <td>Self Employed</td>\n",
       "      <td>1</td>\n",
       "      <td>2004</td>\n",
       "    </tr>\n",
       "    <tr>\n",
       "      <th>1</th>\n",
       "      <td>A1</td>\n",
       "      <td>2004-01-03</td>\n",
       "      <td>PETRO</td>\n",
       "      <td>410556</td>\n",
       "      <td>76</td>\n",
       "      <td>BANGALORE</td>\n",
       "      <td>Gold</td>\n",
       "      <td>500000</td>\n",
       "      <td>C1</td>\n",
       "      <td>Self Employed</td>\n",
       "      <td>1</td>\n",
       "      <td>2004</td>\n",
       "    </tr>\n",
       "    <tr>\n",
       "      <th>2</th>\n",
       "      <td>A1</td>\n",
       "      <td>2004-01-15</td>\n",
       "      <td>CLOTHES</td>\n",
       "      <td>23740</td>\n",
       "      <td>76</td>\n",
       "      <td>BANGALORE</td>\n",
       "      <td>Gold</td>\n",
       "      <td>500000</td>\n",
       "      <td>C1</td>\n",
       "      <td>Self Employed</td>\n",
       "      <td>1</td>\n",
       "      <td>2004</td>\n",
       "    </tr>\n",
       "    <tr>\n",
       "      <th>3</th>\n",
       "      <td>A1</td>\n",
       "      <td>2004-01-25</td>\n",
       "      <td>FOOD</td>\n",
       "      <td>484342</td>\n",
       "      <td>76</td>\n",
       "      <td>BANGALORE</td>\n",
       "      <td>Gold</td>\n",
       "      <td>500000</td>\n",
       "      <td>C1</td>\n",
       "      <td>Self Employed</td>\n",
       "      <td>1</td>\n",
       "      <td>2004</td>\n",
       "    </tr>\n",
       "    <tr>\n",
       "      <th>4</th>\n",
       "      <td>A1</td>\n",
       "      <td>2005-01-17</td>\n",
       "      <td>CAMERA</td>\n",
       "      <td>369694</td>\n",
       "      <td>76</td>\n",
       "      <td>BANGALORE</td>\n",
       "      <td>Gold</td>\n",
       "      <td>500000</td>\n",
       "      <td>C1</td>\n",
       "      <td>Self Employed</td>\n",
       "      <td>1</td>\n",
       "      <td>2005</td>\n",
       "    </tr>\n",
       "  </tbody>\n",
       "</table>\n",
       "</div>"
      ],
      "text/plain": [
       "  Customer   Spend_dt       Type  Amount  Age       City Product  Limit  \\\n",
       "0       A1 2004-01-12  JEWELLERY  485471   76  BANGALORE    Gold 500000   \n",
       "1       A1 2004-01-03      PETRO  410556   76  BANGALORE    Gold 500000   \n",
       "2       A1 2004-01-15    CLOTHES   23740   76  BANGALORE    Gold 500000   \n",
       "3       A1 2004-01-25       FOOD  484342   76  BANGALORE    Gold 500000   \n",
       "4       A1 2005-01-17     CAMERA  369694   76  BANGALORE    Gold 500000   \n",
       "\n",
       "  Company        Segment  Month  Year  \n",
       "0      C1  Self Employed      1  2004  \n",
       "1      C1  Self Employed      1  2004  \n",
       "2      C1  Self Employed      1  2004  \n",
       "3      C1  Self Employed      1  2004  \n",
       "4      C1  Self Employed      1  2005  "
      ]
     },
     "execution_count": 537,
     "metadata": {},
     "output_type": "execute_result"
    }
   ],
   "source": [
    "cust_spend.head()"
   ]
  },
  {
   "cell_type": "code",
   "execution_count": 545,
   "id": "76cf6c9a-753a-4504-b2c5-b45580c36cf7",
   "metadata": {},
   "outputs": [],
   "source": [
    "##creating new column as Age_Group\n",
    "cust_spend['Age_Group'] = pd.cut(cust_spend.Age, bins = [10,20,30,40,50,60,70,80], labels = ['10-19','20-29','30-39','40-49','50-59','60-69','70-79'])"
   ]
  },
  {
   "cell_type": "code",
   "execution_count": 548,
   "id": "9fe2fe1a-06fb-43f2-9f81-6527594ec7f5",
   "metadata": {},
   "outputs": [
    {
     "data": {
      "text/html": [
       "<div>\n",
       "<style scoped>\n",
       "    .dataframe tbody tr th:only-of-type {\n",
       "        vertical-align: middle;\n",
       "    }\n",
       "\n",
       "    .dataframe tbody tr th {\n",
       "        vertical-align: top;\n",
       "    }\n",
       "\n",
       "    .dataframe thead th {\n",
       "        text-align: right;\n",
       "    }\n",
       "</style>\n",
       "<table border=\"1\" class=\"dataframe\">\n",
       "  <thead>\n",
       "    <tr style=\"text-align: right;\">\n",
       "      <th></th>\n",
       "      <th>Customer</th>\n",
       "      <th>Spend_dt</th>\n",
       "      <th>Type</th>\n",
       "      <th>Amount</th>\n",
       "      <th>Age</th>\n",
       "      <th>City</th>\n",
       "      <th>Product</th>\n",
       "      <th>Limit</th>\n",
       "      <th>Company</th>\n",
       "      <th>Segment</th>\n",
       "      <th>Month</th>\n",
       "      <th>Year</th>\n",
       "      <th>Age_Group</th>\n",
       "    </tr>\n",
       "  </thead>\n",
       "  <tbody>\n",
       "    <tr>\n",
       "      <th>0</th>\n",
       "      <td>A1</td>\n",
       "      <td>2004-01-12</td>\n",
       "      <td>JEWELLERY</td>\n",
       "      <td>485471</td>\n",
       "      <td>76</td>\n",
       "      <td>BANGALORE</td>\n",
       "      <td>Gold</td>\n",
       "      <td>500000</td>\n",
       "      <td>C1</td>\n",
       "      <td>Self Employed</td>\n",
       "      <td>1</td>\n",
       "      <td>2004</td>\n",
       "      <td>70-79</td>\n",
       "    </tr>\n",
       "    <tr>\n",
       "      <th>1</th>\n",
       "      <td>A1</td>\n",
       "      <td>2004-01-03</td>\n",
       "      <td>PETRO</td>\n",
       "      <td>410556</td>\n",
       "      <td>76</td>\n",
       "      <td>BANGALORE</td>\n",
       "      <td>Gold</td>\n",
       "      <td>500000</td>\n",
       "      <td>C1</td>\n",
       "      <td>Self Employed</td>\n",
       "      <td>1</td>\n",
       "      <td>2004</td>\n",
       "      <td>70-79</td>\n",
       "    </tr>\n",
       "    <tr>\n",
       "      <th>2</th>\n",
       "      <td>A1</td>\n",
       "      <td>2004-01-15</td>\n",
       "      <td>CLOTHES</td>\n",
       "      <td>23740</td>\n",
       "      <td>76</td>\n",
       "      <td>BANGALORE</td>\n",
       "      <td>Gold</td>\n",
       "      <td>500000</td>\n",
       "      <td>C1</td>\n",
       "      <td>Self Employed</td>\n",
       "      <td>1</td>\n",
       "      <td>2004</td>\n",
       "      <td>70-79</td>\n",
       "    </tr>\n",
       "    <tr>\n",
       "      <th>3</th>\n",
       "      <td>A1</td>\n",
       "      <td>2004-01-25</td>\n",
       "      <td>FOOD</td>\n",
       "      <td>484342</td>\n",
       "      <td>76</td>\n",
       "      <td>BANGALORE</td>\n",
       "      <td>Gold</td>\n",
       "      <td>500000</td>\n",
       "      <td>C1</td>\n",
       "      <td>Self Employed</td>\n",
       "      <td>1</td>\n",
       "      <td>2004</td>\n",
       "      <td>70-79</td>\n",
       "    </tr>\n",
       "    <tr>\n",
       "      <th>4</th>\n",
       "      <td>A1</td>\n",
       "      <td>2005-01-17</td>\n",
       "      <td>CAMERA</td>\n",
       "      <td>369694</td>\n",
       "      <td>76</td>\n",
       "      <td>BANGALORE</td>\n",
       "      <td>Gold</td>\n",
       "      <td>500000</td>\n",
       "      <td>C1</td>\n",
       "      <td>Self Employed</td>\n",
       "      <td>1</td>\n",
       "      <td>2005</td>\n",
       "      <td>70-79</td>\n",
       "    </tr>\n",
       "  </tbody>\n",
       "</table>\n",
       "</div>"
      ],
      "text/plain": [
       "  Customer   Spend_dt       Type  Amount  Age       City Product  Limit  \\\n",
       "0       A1 2004-01-12  JEWELLERY  485471   76  BANGALORE    Gold 500000   \n",
       "1       A1 2004-01-03      PETRO  410556   76  BANGALORE    Gold 500000   \n",
       "2       A1 2004-01-15    CLOTHES   23740   76  BANGALORE    Gold 500000   \n",
       "3       A1 2004-01-25       FOOD  484342   76  BANGALORE    Gold 500000   \n",
       "4       A1 2005-01-17     CAMERA  369694   76  BANGALORE    Gold 500000   \n",
       "\n",
       "  Company        Segment  Month  Year Age_Group  \n",
       "0      C1  Self Employed      1  2004     70-79  \n",
       "1      C1  Self Employed      1  2004     70-79  \n",
       "2      C1  Self Employed      1  2004     70-79  \n",
       "3      C1  Self Employed      1  2004     70-79  \n",
       "4      C1  Self Employed      1  2005     70-79  "
      ]
     },
     "execution_count": 548,
     "metadata": {},
     "output_type": "execute_result"
    }
   ],
   "source": [
    "cust_spend.head()"
   ]
  },
  {
   "cell_type": "code",
   "execution_count": 579,
   "id": "d9e16997-36ba-448e-99aa-711720caab04",
   "metadata": {},
   "outputs": [
    {
     "name": "stdout",
     "output_type": "stream",
     "text": [
      "Age Group with max spend is\n"
     ]
    },
    {
     "data": {
      "text/html": [
       "<div>\n",
       "<style scoped>\n",
       "    .dataframe tbody tr th:only-of-type {\n",
       "        vertical-align: middle;\n",
       "    }\n",
       "\n",
       "    .dataframe tbody tr th {\n",
       "        vertical-align: top;\n",
       "    }\n",
       "\n",
       "    .dataframe thead th {\n",
       "        text-align: right;\n",
       "    }\n",
       "</style>\n",
       "<table border=\"1\" class=\"dataframe\">\n",
       "  <thead>\n",
       "    <tr style=\"text-align: right;\">\n",
       "      <th></th>\n",
       "      <th>Age_Group</th>\n",
       "      <th>Amount</th>\n",
       "    </tr>\n",
       "  </thead>\n",
       "  <tbody>\n",
       "    <tr>\n",
       "      <th>3</th>\n",
       "      <td>40-49</td>\n",
       "      <td>57048362</td>\n",
       "    </tr>\n",
       "  </tbody>\n",
       "</table>\n",
       "</div>"
      ],
      "text/plain": [
       "  Age_Group   Amount\n",
       "3     40-49 57048362"
      ]
     },
     "execution_count": 579,
     "metadata": {},
     "output_type": "execute_result"
    }
   ],
   "source": [
    "##calculating the spend based on age groups\n",
    "print('Age Group with max spend is')\n",
    "cust_spend.groupby('Age_Group').Amount.sum().reset_index().sort_values('Amount', ascending=False).head(1)"
   ]
  },
  {
   "cell_type": "code",
   "execution_count": null,
   "id": "00b92899-3b28-4178-baa8-6ab628efe81a",
   "metadata": {},
   "outputs": [],
   "source": [
    "## i. Who are the top 10 customers in terms of repayment?"
   ]
  },
  {
   "cell_type": "code",
   "execution_count": 580,
   "id": "d49091f2-ec4e-469d-8bc8-e682257e5a1a",
   "metadata": {},
   "outputs": [
    {
     "data": {
      "text/html": [
       "<div>\n",
       "<style scoped>\n",
       "    .dataframe tbody tr th:only-of-type {\n",
       "        vertical-align: middle;\n",
       "    }\n",
       "\n",
       "    .dataframe tbody tr th {\n",
       "        vertical-align: top;\n",
       "    }\n",
       "\n",
       "    .dataframe thead th {\n",
       "        text-align: right;\n",
       "    }\n",
       "</style>\n",
       "<table border=\"1\" class=\"dataframe\">\n",
       "  <thead>\n",
       "    <tr style=\"text-align: right;\">\n",
       "      <th></th>\n",
       "      <th>Customer</th>\n",
       "      <th>Repay_dt</th>\n",
       "      <th>Amount</th>\n",
       "      <th>Age</th>\n",
       "      <th>City</th>\n",
       "      <th>Product</th>\n",
       "      <th>Limit</th>\n",
       "      <th>Company</th>\n",
       "      <th>Segment</th>\n",
       "      <th>Month</th>\n",
       "      <th>Year</th>\n",
       "    </tr>\n",
       "  </thead>\n",
       "  <tbody>\n",
       "    <tr>\n",
       "      <th>0</th>\n",
       "      <td>A1</td>\n",
       "      <td>2004-01-12</td>\n",
       "      <td>495415</td>\n",
       "      <td>76</td>\n",
       "      <td>BANGALORE</td>\n",
       "      <td>Gold</td>\n",
       "      <td>500000</td>\n",
       "      <td>C1</td>\n",
       "      <td>Self Employed</td>\n",
       "      <td>1</td>\n",
       "      <td>2004</td>\n",
       "    </tr>\n",
       "    <tr>\n",
       "      <th>1</th>\n",
       "      <td>A1</td>\n",
       "      <td>2004-01-03</td>\n",
       "      <td>245899</td>\n",
       "      <td>76</td>\n",
       "      <td>BANGALORE</td>\n",
       "      <td>Gold</td>\n",
       "      <td>500000</td>\n",
       "      <td>C1</td>\n",
       "      <td>Self Employed</td>\n",
       "      <td>1</td>\n",
       "      <td>2004</td>\n",
       "    </tr>\n",
       "    <tr>\n",
       "      <th>2</th>\n",
       "      <td>A1</td>\n",
       "      <td>2004-01-15</td>\n",
       "      <td>259490</td>\n",
       "      <td>76</td>\n",
       "      <td>BANGALORE</td>\n",
       "      <td>Gold</td>\n",
       "      <td>500000</td>\n",
       "      <td>C1</td>\n",
       "      <td>Self Employed</td>\n",
       "      <td>1</td>\n",
       "      <td>2004</td>\n",
       "    </tr>\n",
       "    <tr>\n",
       "      <th>3</th>\n",
       "      <td>A1</td>\n",
       "      <td>2004-01-25</td>\n",
       "      <td>437555</td>\n",
       "      <td>76</td>\n",
       "      <td>BANGALORE</td>\n",
       "      <td>Gold</td>\n",
       "      <td>500000</td>\n",
       "      <td>C1</td>\n",
       "      <td>Self Employed</td>\n",
       "      <td>1</td>\n",
       "      <td>2004</td>\n",
       "    </tr>\n",
       "    <tr>\n",
       "      <th>4</th>\n",
       "      <td>A1</td>\n",
       "      <td>2005-01-17</td>\n",
       "      <td>165973</td>\n",
       "      <td>76</td>\n",
       "      <td>BANGALORE</td>\n",
       "      <td>Gold</td>\n",
       "      <td>500000</td>\n",
       "      <td>C1</td>\n",
       "      <td>Self Employed</td>\n",
       "      <td>1</td>\n",
       "      <td>2005</td>\n",
       "    </tr>\n",
       "  </tbody>\n",
       "</table>\n",
       "</div>"
      ],
      "text/plain": [
       "  Customer   Repay_dt  Amount  Age       City Product  Limit Company  \\\n",
       "0       A1 2004-01-12  495415   76  BANGALORE    Gold 500000      C1   \n",
       "1       A1 2004-01-03  245899   76  BANGALORE    Gold 500000      C1   \n",
       "2       A1 2004-01-15  259490   76  BANGALORE    Gold 500000      C1   \n",
       "3       A1 2004-01-25  437555   76  BANGALORE    Gold 500000      C1   \n",
       "4       A1 2005-01-17  165973   76  BANGALORE    Gold 500000      C1   \n",
       "\n",
       "         Segment  Month  Year  \n",
       "0  Self Employed      1  2004  \n",
       "1  Self Employed      1  2004  \n",
       "2  Self Employed      1  2004  \n",
       "3  Self Employed      1  2004  \n",
       "4  Self Employed      1  2005  "
      ]
     },
     "execution_count": 580,
     "metadata": {},
     "output_type": "execute_result"
    }
   ],
   "source": [
    "cust_repay.head()"
   ]
  },
  {
   "cell_type": "code",
   "execution_count": 587,
   "id": "29c8aa9a-d482-46d9-b22a-3530a7eca9e6",
   "metadata": {},
   "outputs": [
    {
     "name": "stdout",
     "output_type": "stream",
     "text": [
      "Top 10 customers in terms of repayment are\n"
     ]
    },
    {
     "data": {
      "text/html": [
       "<div>\n",
       "<style scoped>\n",
       "    .dataframe tbody tr th:only-of-type {\n",
       "        vertical-align: middle;\n",
       "    }\n",
       "\n",
       "    .dataframe tbody tr th {\n",
       "        vertical-align: top;\n",
       "    }\n",
       "\n",
       "    .dataframe thead th {\n",
       "        text-align: right;\n",
       "    }\n",
       "</style>\n",
       "<table border=\"1\" class=\"dataframe\">\n",
       "  <thead>\n",
       "    <tr style=\"text-align: right;\">\n",
       "      <th></th>\n",
       "      <th>Customer</th>\n",
       "      <th>Amount</th>\n",
       "    </tr>\n",
       "  </thead>\n",
       "  <tbody>\n",
       "    <tr>\n",
       "      <th>0</th>\n",
       "      <td>A61</td>\n",
       "      <td>10539143</td>\n",
       "    </tr>\n",
       "    <tr>\n",
       "      <th>1</th>\n",
       "      <td>A60</td>\n",
       "      <td>9876291</td>\n",
       "    </tr>\n",
       "    <tr>\n",
       "      <th>2</th>\n",
       "      <td>A13</td>\n",
       "      <td>9572001</td>\n",
       "    </tr>\n",
       "    <tr>\n",
       "      <th>3</th>\n",
       "      <td>A43</td>\n",
       "      <td>8489871</td>\n",
       "    </tr>\n",
       "    <tr>\n",
       "      <th>4</th>\n",
       "      <td>A45</td>\n",
       "      <td>8448335</td>\n",
       "    </tr>\n",
       "    <tr>\n",
       "      <th>5</th>\n",
       "      <td>A12</td>\n",
       "      <td>8334760</td>\n",
       "    </tr>\n",
       "    <tr>\n",
       "      <th>6</th>\n",
       "      <td>A14</td>\n",
       "      <td>7943269</td>\n",
       "    </tr>\n",
       "    <tr>\n",
       "      <th>7</th>\n",
       "      <td>A44</td>\n",
       "      <td>7744730</td>\n",
       "    </tr>\n",
       "    <tr>\n",
       "      <th>8</th>\n",
       "      <td>A39</td>\n",
       "      <td>7622483</td>\n",
       "    </tr>\n",
       "    <tr>\n",
       "      <th>9</th>\n",
       "      <td>A42</td>\n",
       "      <td>7615461</td>\n",
       "    </tr>\n",
       "  </tbody>\n",
       "</table>\n",
       "</div>"
      ],
      "text/plain": [
       "  Customer   Amount\n",
       "0      A61 10539143\n",
       "1      A60  9876291\n",
       "2      A13  9572001\n",
       "3      A43  8489871\n",
       "4      A45  8448335\n",
       "5      A12  8334760\n",
       "6      A14  7943269\n",
       "7      A44  7744730\n",
       "8      A39  7622483\n",
       "9      A42  7615461"
      ]
     },
     "execution_count": 587,
     "metadata": {},
     "output_type": "execute_result"
    }
   ],
   "source": [
    "print('Top 10 customers in terms of repayment are')\n",
    "cust_repay[['Customer','Amount']].groupby('Customer').sum().sort_values('Amount', ascending=False).head(10).reset_index()"
   ]
  },
  {
   "cell_type": "code",
   "execution_count": null,
   "id": "4b7dca88-4cf9-4409-be15-2aa172f5ab82",
   "metadata": {},
   "outputs": [],
   "source": [
    "## Q3. Calculate the city wise spend on each product on yearly basis. Also include a graphical representation for the same."
   ]
  },
  {
   "cell_type": "code",
   "execution_count": 588,
   "id": "e8825242-867e-440a-8c5f-f8517cccec74",
   "metadata": {},
   "outputs": [
    {
     "data": {
      "text/html": [
       "<div>\n",
       "<style scoped>\n",
       "    .dataframe tbody tr th:only-of-type {\n",
       "        vertical-align: middle;\n",
       "    }\n",
       "\n",
       "    .dataframe tbody tr th {\n",
       "        vertical-align: top;\n",
       "    }\n",
       "\n",
       "    .dataframe thead th {\n",
       "        text-align: right;\n",
       "    }\n",
       "</style>\n",
       "<table border=\"1\" class=\"dataframe\">\n",
       "  <thead>\n",
       "    <tr style=\"text-align: right;\">\n",
       "      <th></th>\n",
       "      <th>Customer</th>\n",
       "      <th>Spend_dt</th>\n",
       "      <th>Type</th>\n",
       "      <th>Amount</th>\n",
       "      <th>Age</th>\n",
       "      <th>City</th>\n",
       "      <th>Product</th>\n",
       "      <th>Limit</th>\n",
       "      <th>Company</th>\n",
       "      <th>Segment</th>\n",
       "      <th>Month</th>\n",
       "      <th>Year</th>\n",
       "      <th>Age_Group</th>\n",
       "    </tr>\n",
       "  </thead>\n",
       "  <tbody>\n",
       "    <tr>\n",
       "      <th>0</th>\n",
       "      <td>A1</td>\n",
       "      <td>2004-01-12</td>\n",
       "      <td>JEWELLERY</td>\n",
       "      <td>485471</td>\n",
       "      <td>76</td>\n",
       "      <td>BANGALORE</td>\n",
       "      <td>Gold</td>\n",
       "      <td>500000</td>\n",
       "      <td>C1</td>\n",
       "      <td>Self Employed</td>\n",
       "      <td>1</td>\n",
       "      <td>2004</td>\n",
       "      <td>70-79</td>\n",
       "    </tr>\n",
       "    <tr>\n",
       "      <th>1</th>\n",
       "      <td>A1</td>\n",
       "      <td>2004-01-03</td>\n",
       "      <td>PETRO</td>\n",
       "      <td>410556</td>\n",
       "      <td>76</td>\n",
       "      <td>BANGALORE</td>\n",
       "      <td>Gold</td>\n",
       "      <td>500000</td>\n",
       "      <td>C1</td>\n",
       "      <td>Self Employed</td>\n",
       "      <td>1</td>\n",
       "      <td>2004</td>\n",
       "      <td>70-79</td>\n",
       "    </tr>\n",
       "    <tr>\n",
       "      <th>2</th>\n",
       "      <td>A1</td>\n",
       "      <td>2004-01-15</td>\n",
       "      <td>CLOTHES</td>\n",
       "      <td>23740</td>\n",
       "      <td>76</td>\n",
       "      <td>BANGALORE</td>\n",
       "      <td>Gold</td>\n",
       "      <td>500000</td>\n",
       "      <td>C1</td>\n",
       "      <td>Self Employed</td>\n",
       "      <td>1</td>\n",
       "      <td>2004</td>\n",
       "      <td>70-79</td>\n",
       "    </tr>\n",
       "    <tr>\n",
       "      <th>3</th>\n",
       "      <td>A1</td>\n",
       "      <td>2004-01-25</td>\n",
       "      <td>FOOD</td>\n",
       "      <td>484342</td>\n",
       "      <td>76</td>\n",
       "      <td>BANGALORE</td>\n",
       "      <td>Gold</td>\n",
       "      <td>500000</td>\n",
       "      <td>C1</td>\n",
       "      <td>Self Employed</td>\n",
       "      <td>1</td>\n",
       "      <td>2004</td>\n",
       "      <td>70-79</td>\n",
       "    </tr>\n",
       "    <tr>\n",
       "      <th>4</th>\n",
       "      <td>A1</td>\n",
       "      <td>2005-01-17</td>\n",
       "      <td>CAMERA</td>\n",
       "      <td>369694</td>\n",
       "      <td>76</td>\n",
       "      <td>BANGALORE</td>\n",
       "      <td>Gold</td>\n",
       "      <td>500000</td>\n",
       "      <td>C1</td>\n",
       "      <td>Self Employed</td>\n",
       "      <td>1</td>\n",
       "      <td>2005</td>\n",
       "      <td>70-79</td>\n",
       "    </tr>\n",
       "  </tbody>\n",
       "</table>\n",
       "</div>"
      ],
      "text/plain": [
       "  Customer   Spend_dt       Type  Amount  Age       City Product  Limit  \\\n",
       "0       A1 2004-01-12  JEWELLERY  485471   76  BANGALORE    Gold 500000   \n",
       "1       A1 2004-01-03      PETRO  410556   76  BANGALORE    Gold 500000   \n",
       "2       A1 2004-01-15    CLOTHES   23740   76  BANGALORE    Gold 500000   \n",
       "3       A1 2004-01-25       FOOD  484342   76  BANGALORE    Gold 500000   \n",
       "4       A1 2005-01-17     CAMERA  369694   76  BANGALORE    Gold 500000   \n",
       "\n",
       "  Company        Segment  Month  Year Age_Group  \n",
       "0      C1  Self Employed      1  2004     70-79  \n",
       "1      C1  Self Employed      1  2004     70-79  \n",
       "2      C1  Self Employed      1  2004     70-79  \n",
       "3      C1  Self Employed      1  2004     70-79  \n",
       "4      C1  Self Employed      1  2005     70-79  "
      ]
     },
     "execution_count": 588,
     "metadata": {},
     "output_type": "execute_result"
    }
   ],
   "source": [
    "cust_spend.head(5)"
   ]
  },
  {
   "cell_type": "code",
   "execution_count": 602,
   "id": "fe8798e9-8d3d-4fe3-9414-8450f6cbe87a",
   "metadata": {},
   "outputs": [],
   "source": [
    "yearly_citywise_spend = cust_spend.pivot_table(index='City', columns=['Year','Product'], values='Amount', aggfunc='sum')"
   ]
  },
  {
   "cell_type": "code",
   "execution_count": 603,
   "id": "e748d68f-f149-40bb-8f1c-ec5936b84d84",
   "metadata": {},
   "outputs": [
    {
     "data": {
      "text/html": [
       "<div>\n",
       "<style scoped>\n",
       "    .dataframe tbody tr th:only-of-type {\n",
       "        vertical-align: middle;\n",
       "    }\n",
       "\n",
       "    .dataframe tbody tr th {\n",
       "        vertical-align: top;\n",
       "    }\n",
       "\n",
       "    .dataframe thead tr th {\n",
       "        text-align: left;\n",
       "    }\n",
       "\n",
       "    .dataframe thead tr:last-of-type th {\n",
       "        text-align: right;\n",
       "    }\n",
       "</style>\n",
       "<table border=\"1\" class=\"dataframe\">\n",
       "  <thead>\n",
       "    <tr>\n",
       "      <th>Year</th>\n",
       "      <th colspan=\"3\" halign=\"left\">2004</th>\n",
       "      <th colspan=\"3\" halign=\"left\">2005</th>\n",
       "      <th colspan=\"3\" halign=\"left\">2006</th>\n",
       "    </tr>\n",
       "    <tr>\n",
       "      <th>Product</th>\n",
       "      <th>Gold</th>\n",
       "      <th>Platimum</th>\n",
       "      <th>Silver</th>\n",
       "      <th>Gold</th>\n",
       "      <th>Platimum</th>\n",
       "      <th>Silver</th>\n",
       "      <th>Gold</th>\n",
       "      <th>Platimum</th>\n",
       "      <th>Silver</th>\n",
       "    </tr>\n",
       "    <tr>\n",
       "      <th>City</th>\n",
       "      <th></th>\n",
       "      <th></th>\n",
       "      <th></th>\n",
       "      <th></th>\n",
       "      <th></th>\n",
       "      <th></th>\n",
       "      <th></th>\n",
       "      <th></th>\n",
       "      <th></th>\n",
       "    </tr>\n",
       "  </thead>\n",
       "  <tbody>\n",
       "    <tr>\n",
       "      <th>BANGALORE</th>\n",
       "      <td>9289879</td>\n",
       "      <td>1112732</td>\n",
       "      <td>1291853</td>\n",
       "      <td>12892363</td>\n",
       "      <td>912285</td>\n",
       "      <td>830612</td>\n",
       "      <td>12030611</td>\n",
       "      <td>685831</td>\n",
       "      <td>1415481</td>\n",
       "    </tr>\n",
       "    <tr>\n",
       "      <th>BOMBAY</th>\n",
       "      <td>6987854</td>\n",
       "      <td>897265</td>\n",
       "      <td>532089</td>\n",
       "      <td>8983018</td>\n",
       "      <td>711805</td>\n",
       "      <td>508989</td>\n",
       "      <td>7917144</td>\n",
       "      <td>972130</td>\n",
       "      <td>1092834</td>\n",
       "    </tr>\n",
       "    <tr>\n",
       "      <th>CALCUTTA</th>\n",
       "      <td>7477141</td>\n",
       "      <td>2037690</td>\n",
       "      <td>500006</td>\n",
       "      <td>10303356</td>\n",
       "      <td>4434696</td>\n",
       "      <td>440147</td>\n",
       "      <td>11167533</td>\n",
       "      <td>3589607</td>\n",
       "      <td>1157956</td>\n",
       "    </tr>\n",
       "    <tr>\n",
       "      <th>CHENNAI</th>\n",
       "      <td>1059618</td>\n",
       "      <td>3535652</td>\n",
       "      <td>282057</td>\n",
       "      <td>3740946</td>\n",
       "      <td>5053956</td>\n",
       "      <td>377184</td>\n",
       "      <td>2704289</td>\n",
       "      <td>5024923</td>\n",
       "      <td>350010</td>\n",
       "    </tr>\n",
       "    <tr>\n",
       "      <th>COCHIN</th>\n",
       "      <td>7315850</td>\n",
       "      <td>3419904</td>\n",
       "      <td>814230</td>\n",
       "      <td>12110613</td>\n",
       "      <td>4960922</td>\n",
       "      <td>652269</td>\n",
       "      <td>10499142</td>\n",
       "      <td>4920592</td>\n",
       "      <td>1269991</td>\n",
       "    </tr>\n",
       "    <tr>\n",
       "      <th>DELHI</th>\n",
       "      <td>2806495</td>\n",
       "      <td>283513</td>\n",
       "      <td>768172</td>\n",
       "      <td>1964845</td>\n",
       "      <td>494158</td>\n",
       "      <td>612311</td>\n",
       "      <td>2957103</td>\n",
       "      <td>176789</td>\n",
       "      <td>854900</td>\n",
       "    </tr>\n",
       "    <tr>\n",
       "      <th>PATNA</th>\n",
       "      <td>2072568</td>\n",
       "      <td>1113070</td>\n",
       "      <td>756684</td>\n",
       "      <td>3252616</td>\n",
       "      <td>2883231</td>\n",
       "      <td>950094</td>\n",
       "      <td>2276182</td>\n",
       "      <td>1256138</td>\n",
       "      <td>700005</td>\n",
       "    </tr>\n",
       "    <tr>\n",
       "      <th>TRIVANDRUM</th>\n",
       "      <td>2415103</td>\n",
       "      <td>2161677</td>\n",
       "      <td>209667</td>\n",
       "      <td>1240376</td>\n",
       "      <td>3601443</td>\n",
       "      <td>269913</td>\n",
       "      <td>2735711</td>\n",
       "      <td>2147404</td>\n",
       "      <td>555862</td>\n",
       "    </tr>\n",
       "  </tbody>\n",
       "</table>\n",
       "</div>"
      ],
      "text/plain": [
       "Year          2004                      2005                     2006  \\\n",
       "Product       Gold Platimum  Silver     Gold Platimum Silver     Gold   \n",
       "City                                                                    \n",
       "BANGALORE  9289879  1112732 1291853 12892363   912285 830612 12030611   \n",
       "BOMBAY     6987854   897265  532089  8983018   711805 508989  7917144   \n",
       "CALCUTTA   7477141  2037690  500006 10303356  4434696 440147 11167533   \n",
       "CHENNAI    1059618  3535652  282057  3740946  5053956 377184  2704289   \n",
       "COCHIN     7315850  3419904  814230 12110613  4960922 652269 10499142   \n",
       "DELHI      2806495   283513  768172  1964845   494158 612311  2957103   \n",
       "PATNA      2072568  1113070  756684  3252616  2883231 950094  2276182   \n",
       "TRIVANDRUM 2415103  2161677  209667  1240376  3601443 269913  2735711   \n",
       "\n",
       "Year                         \n",
       "Product    Platimum  Silver  \n",
       "City                         \n",
       "BANGALORE    685831 1415481  \n",
       "BOMBAY       972130 1092834  \n",
       "CALCUTTA    3589607 1157956  \n",
       "CHENNAI     5024923  350010  \n",
       "COCHIN      4920592 1269991  \n",
       "DELHI        176789  854900  \n",
       "PATNA       1256138  700005  \n",
       "TRIVANDRUM  2147404  555862  "
      ]
     },
     "execution_count": 603,
     "metadata": {},
     "output_type": "execute_result"
    }
   ],
   "source": [
    "yearly_citywise_spend"
   ]
  },
  {
   "cell_type": "code",
   "execution_count": 608,
   "id": "3f329161-bdc4-43d7-a767-8d14449b4630",
   "metadata": {},
   "outputs": [
    {
     "data": {
      "image/png": "[encoded data removed]",
      "text/plain": [
       "<Figure size 1200x500 with 1 Axes>"
      ]
     },
     "metadata": {},
     "output_type": "display_data"
    }
   ],
   "source": [
    "yearly_citywise_spend.plot(kind='bar', stacked=True, figsize=(12,5))\n",
    "plt.title('Yearly City-wise Spend - By Product')\n",
    "plt.show()"
   ]
  },
  {
   "cell_type": "code",
   "execution_count": null,
   "id": "1a76badf-0def-419a-bc02-a62e3252cb2c",
   "metadata": {},
   "outputs": [],
   "source": [
    "## Q4. Create graphs for"
   ]
  },
  {
   "cell_type": "code",
   "execution_count": null,
   "id": "90f8cd73-e0ae-497b-9a02-8df2ea4ead19",
   "metadata": {},
   "outputs": [],
   "source": [
    "## a. Monthly comparison of total spends, city wise"
   ]
  },
  {
   "cell_type": "code",
   "execution_count": 614,
   "id": "8ddf73a8-345a-4c33-a65a-4d7d5454be0d",
   "metadata": {},
   "outputs": [],
   "source": [
    "##adding month name to cust_spend table\n",
    "cust_spend['Month_Name'] = cust_spend.Spend_dt.dt.strftime('%B')"
   ]
  },
  {
   "cell_type": "code",
   "execution_count": 615,
   "id": "5ea84b54-43c6-4571-8297-d85b32b9cdb0",
   "metadata": {},
   "outputs": [],
   "source": [
    "monthly_citywise_spend = cust_spend.pivot_table(index='City', columns=['Month_Name'], values='Amount', aggfunc='sum')"
   ]
  },
  {
   "cell_type": "code",
   "execution_count": 616,
   "id": "1bf08805-b0c4-47cc-93a4-ad52685db661",
   "metadata": {},
   "outputs": [
    {
     "data": {
      "text/html": [
       "<div>\n",
       "<style scoped>\n",
       "    .dataframe tbody tr th:only-of-type {\n",
       "        vertical-align: middle;\n",
       "    }\n",
       "\n",
       "    .dataframe tbody tr th {\n",
       "        vertical-align: top;\n",
       "    }\n",
       "\n",
       "    .dataframe thead th {\n",
       "        text-align: right;\n",
       "    }\n",
       "</style>\n",
       "<table border=\"1\" class=\"dataframe\">\n",
       "  <thead>\n",
       "    <tr style=\"text-align: right;\">\n",
       "      <th>Month_Name</th>\n",
       "      <th>April</th>\n",
       "      <th>August</th>\n",
       "      <th>December</th>\n",
       "      <th>February</th>\n",
       "      <th>January</th>\n",
       "      <th>July</th>\n",
       "      <th>June</th>\n",
       "      <th>March</th>\n",
       "      <th>May</th>\n",
       "      <th>November</th>\n",
       "      <th>October</th>\n",
       "      <th>September</th>\n",
       "    </tr>\n",
       "    <tr>\n",
       "      <th>City</th>\n",
       "      <th></th>\n",
       "      <th></th>\n",
       "      <th></th>\n",
       "      <th></th>\n",
       "      <th></th>\n",
       "      <th></th>\n",
       "      <th></th>\n",
       "      <th></th>\n",
       "      <th></th>\n",
       "      <th></th>\n",
       "      <th></th>\n",
       "      <th></th>\n",
       "    </tr>\n",
       "  </thead>\n",
       "  <tbody>\n",
       "    <tr>\n",
       "      <th>BANGALORE</th>\n",
       "      <td>4207980</td>\n",
       "      <td>695062</td>\n",
       "      <td>422167</td>\n",
       "      <td>6734495</td>\n",
       "      <td>9041797</td>\n",
       "      <td>2228218</td>\n",
       "      <td>1330686</td>\n",
       "      <td>5362903</td>\n",
       "      <td>6383115</td>\n",
       "      <td>2260603</td>\n",
       "      <td>1091603</td>\n",
       "      <td>703018</td>\n",
       "    </tr>\n",
       "    <tr>\n",
       "      <th>BOMBAY</th>\n",
       "      <td>1873785</td>\n",
       "      <td>1066745</td>\n",
       "      <td>140041</td>\n",
       "      <td>4276988</td>\n",
       "      <td>5948993</td>\n",
       "      <td>177726</td>\n",
       "      <td>1172595</td>\n",
       "      <td>5227850</td>\n",
       "      <td>3891946</td>\n",
       "      <td>2872049</td>\n",
       "      <td>676006</td>\n",
       "      <td>1278403</td>\n",
       "    </tr>\n",
       "    <tr>\n",
       "      <th>CALCUTTA</th>\n",
       "      <td>3457508</td>\n",
       "      <td>1548354</td>\n",
       "      <td>55002</td>\n",
       "      <td>8150546</td>\n",
       "      <td>9064865</td>\n",
       "      <td>2234573</td>\n",
       "      <td>2293046</td>\n",
       "      <td>4939040</td>\n",
       "      <td>5578247</td>\n",
       "      <td>2078881</td>\n",
       "      <td>196358</td>\n",
       "      <td>1511714</td>\n",
       "    </tr>\n",
       "    <tr>\n",
       "      <th>CHENNAI</th>\n",
       "      <td>2518657</td>\n",
       "      <td>305876</td>\n",
       "      <td>223628</td>\n",
       "      <td>4385816</td>\n",
       "      <td>4466961</td>\n",
       "      <td>693826</td>\n",
       "      <td>1244242</td>\n",
       "      <td>3183644</td>\n",
       "      <td>2856200</td>\n",
       "      <td>1347779</td>\n",
       "      <td>156247</td>\n",
       "      <td>745759</td>\n",
       "    </tr>\n",
       "    <tr>\n",
       "      <th>COCHIN</th>\n",
       "      <td>3882745</td>\n",
       "      <td>2317307</td>\n",
       "      <td>909533</td>\n",
       "      <td>5747886</td>\n",
       "      <td>11714374</td>\n",
       "      <td>1290897</td>\n",
       "      <td>2495745</td>\n",
       "      <td>5645147</td>\n",
       "      <td>6581086</td>\n",
       "      <td>3128000</td>\n",
       "      <td>868552</td>\n",
       "      <td>1382243</td>\n",
       "    </tr>\n",
       "    <tr>\n",
       "      <th>DELHI</th>\n",
       "      <td>777241</td>\n",
       "      <td>155402</td>\n",
       "      <td>842342</td>\n",
       "      <td>1494064</td>\n",
       "      <td>2714261</td>\n",
       "      <td>50002</td>\n",
       "      <td>511276</td>\n",
       "      <td>2267149</td>\n",
       "      <td>1600322</td>\n",
       "      <td>391611</td>\n",
       "      <td>64615</td>\n",
       "      <td>50001</td>\n",
       "    </tr>\n",
       "    <tr>\n",
       "      <th>PATNA</th>\n",
       "      <td>2338180</td>\n",
       "      <td>419384</td>\n",
       "      <td>50000</td>\n",
       "      <td>2353334</td>\n",
       "      <td>4916206</td>\n",
       "      <td>50000</td>\n",
       "      <td>746186</td>\n",
       "      <td>1437167</td>\n",
       "      <td>2136587</td>\n",
       "      <td>413678</td>\n",
       "      <td>329537</td>\n",
       "      <td>70330</td>\n",
       "    </tr>\n",
       "    <tr>\n",
       "      <th>TRIVANDRUM</th>\n",
       "      <td>1199293</td>\n",
       "      <td>453774</td>\n",
       "      <td>640922</td>\n",
       "      <td>2857124</td>\n",
       "      <td>3704337</td>\n",
       "      <td>260484</td>\n",
       "      <td>400337</td>\n",
       "      <td>2392317</td>\n",
       "      <td>2813534</td>\n",
       "      <td>143387</td>\n",
       "      <td>285582</td>\n",
       "      <td>186064</td>\n",
       "    </tr>\n",
       "  </tbody>\n",
       "</table>\n",
       "</div>"
      ],
      "text/plain": [
       "Month_Name   April  August  December  February  January    July    June  \\\n",
       "City                                                                      \n",
       "BANGALORE  4207980  695062    422167   6734495  9041797 2228218 1330686   \n",
       "BOMBAY     1873785 1066745    140041   4276988  5948993  177726 1172595   \n",
       "CALCUTTA   3457508 1548354     55002   8150546  9064865 2234573 2293046   \n",
       "CHENNAI    2518657  305876    223628   4385816  4466961  693826 1244242   \n",
       "COCHIN     3882745 2317307    909533   5747886 11714374 1290897 2495745   \n",
       "DELHI       777241  155402    842342   1494064  2714261   50002  511276   \n",
       "PATNA      2338180  419384     50000   2353334  4916206   50000  746186   \n",
       "TRIVANDRUM 1199293  453774    640922   2857124  3704337  260484  400337   \n",
       "\n",
       "Month_Name   March     May  November  October  September  \n",
       "City                                                      \n",
       "BANGALORE  5362903 6383115   2260603  1091603     703018  \n",
       "BOMBAY     5227850 3891946   2872049   676006    1278403  \n",
       "CALCUTTA   4939040 5578247   2078881   196358    1511714  \n",
       "CHENNAI    3183644 2856200   1347779   156247     745759  \n",
       "COCHIN     5645147 6581086   3128000   868552    1382243  \n",
       "DELHI      2267149 1600322    391611    64615      50001  \n",
       "PATNA      1437167 2136587    413678   329537      70330  \n",
       "TRIVANDRUM 2392317 2813534    143387   285582     186064  "
      ]
     },
     "execution_count": 616,
     "metadata": {},
     "output_type": "execute_result"
    }
   ],
   "source": [
    "monthly_citywise_spend"
   ]
  },
  {
   "cell_type": "code",
   "execution_count": 618,
   "id": "14a9480d-13f8-4cff-b5dc-95ed7adffeb0",
   "metadata": {},
   "outputs": [
    {
     "data": {
      "image/png": "[encoded data removed]",
      "text/plain": [
       "<Figure size 1200x500 with 1 Axes>"
      ]
     },
     "metadata": {},
     "output_type": "display_data"
    }
   ],
   "source": [
    "monthly_citywise_spend.plot(kind='bar', stacked=True, figsize=(12,5))\n",
    "plt.title('Monthly City-wise Spend')\n",
    "plt.show()"
   ]
  },
  {
   "cell_type": "code",
   "execution_count": null,
   "id": "736248b9-691c-45bd-be4e-af38f434efb1",
   "metadata": {},
   "outputs": [],
   "source": [
    "##  b. Comparison of yearly spend on air tickets"
   ]
  },
  {
   "cell_type": "code",
   "execution_count": 620,
   "id": "dbd0ddea-2ded-4c80-99f7-f828d6bb6db6",
   "metadata": {},
   "outputs": [
    {
     "data": {
      "text/plain": [
       "array(['JEWELLERY', 'PETRO', 'CLOTHES', 'FOOD', 'CAMERA', 'SANDALS',\n",
       "       'CAR', 'BIKE', 'AUTO', 'SHOPPING', 'AIR TICKET', 'BUS TICKET',\n",
       "       'TRAIN TICKET', 'RENTAL', 'MOVIE TICKET'], dtype=object)"
      ]
     },
     "execution_count": 620,
     "metadata": {},
     "output_type": "execute_result"
    }
   ],
   "source": [
    "cust_spend.Type.unique()"
   ]
  },
  {
   "cell_type": "code",
   "execution_count": 624,
   "id": "374bdfd0-6876-40e7-9686-4af4b967231e",
   "metadata": {},
   "outputs": [],
   "source": [
    "yearly_airtkts = cust_spend[cust_spend.Type == 'AIR TICKET'].pivot_table(index='Year',  values='Amount', aggfunc='sum')"
   ]
  },
  {
   "cell_type": "code",
   "execution_count": 626,
   "id": "11c60e6d-cd6c-4634-b459-b0efab7313ab",
   "metadata": {},
   "outputs": [
    {
     "data": {
      "image/png": "[encoded data removed]",
      "text/plain": [
       "<Figure size 800x500 with 1 Axes>"
      ]
     },
     "metadata": {},
     "output_type": "display_data"
    }
   ],
   "source": [
    "yearly_airtkts.plot(kind='bar', figsize=(8,5), color='green')\n",
    "plt.title('Yearly Spend on AIR TICKETS')\n",
    "plt.show()"
   ]
  },
  {
   "cell_type": "code",
   "execution_count": null,
   "id": "5f8d0d59-7f50-435c-bc16-ceb2ace242fb",
   "metadata": {},
   "outputs": [],
   "source": [
    "## c. Comparison of monthly spend for each product (look for any seasonality that exists in terms of spend)"
   ]
  },
  {
   "cell_type": "code",
   "execution_count": 630,
   "id": "eadd66ca-3a48-4ed3-9ba5-e120d64cbfe6",
   "metadata": {},
   "outputs": [
    {
     "data": {
      "image/png": "[encoded data removed]",
      "text/plain": [
       "<Figure size 900x500 with 1 Axes>"
      ]
     },
     "metadata": {},
     "output_type": "display_data"
    }
   ],
   "source": [
    "cust_spend.pivot_table(index='Product', columns='Month_Name', values='Amount', aggfunc='sum').plot(kind='bar', figsize=(9,5))\n",
    "plt.show()"
   ]
  },
  {
   "cell_type": "markdown",
   "id": "d37ab8ed-eac3-4417-b930-8b114780a675",
   "metadata": {},
   "source": [
    "## All products is showing highest SPEND in January month.\n",
    "## Gold dominates among all the products with high spend in month of February, March and May"
   ]
  },
  {
   "cell_type": "code",
   "execution_count": 631,
   "id": "83d51daa-d418-4ab8-9b0f-cffb462fb660",
   "metadata": {},
   "outputs": [],
   "source": [
    "## Q5. Write user defined PYTHON function to perform the following analysis:"
   ]
  },
  {
   "cell_type": "code",
   "execution_count": null,
   "id": "1b5ee2bd-8f30-4772-a5bd-1a32e0263038",
   "metadata": {},
   "outputs": [],
   "source": [
    "You need to find top 10 customers for each city in terms of their repayment amount by different products and by different time periods\n",
    "i.e. year or month. The user should be able to specify the product (Gold/Silver/Platinum) and time period (yearly or monthly) and the \n",
    "function should automatically take these inputs while identifying the top 10 customers."
   ]
  },
  {
   "cell_type": "code",
   "execution_count": 661,
   "id": "6b32fb0c-b9e0-476d-b6df-068d9fd5ad22",
   "metadata": {},
   "outputs": [],
   "source": [
    "cust_repay.rename(columns = {'Year':'yearly','Month':'monthly'}, inplace=True)"
   ]
  },
  {
   "cell_type": "code",
   "execution_count": 650,
   "id": "17782b80-bf5f-4b5b-9712-1398983e42c7",
   "metadata": {},
   "outputs": [],
   "source": [
    "def top10(prod, time):\n",
    "    time_df = cust_repay[(cust_repay.Product == prod)]\n",
    "    return time_df.groupby(['City','Customer','Product',time]).Amount.sum().reset_index().sort_values(by='Amount', ascending=False).head(10)"
   ]
  },
  {
   "cell_type": "code",
   "execution_count": 665,
   "id": "06a1242f-724c-4734-8821-5088c5bfb1e5",
   "metadata": {},
   "outputs": [
    {
     "name": "stdin",
     "output_type": "stream",
     "text": [
      "Please Enter Product Category as Gold/Silver/Platinum:  Gold\n",
      "Please Enter Time Period as yearly/monthly:  monthly\n"
     ]
    }
   ],
   "source": [
    "prod = str(input(\"Please Enter Product Category as Gold/Silver/Platinum: \"))\n",
    "time = str(input(\"Please Enter Time Period as yearly/monthly: \"))"
   ]
  },
  {
   "cell_type": "code",
   "execution_count": 666,
   "id": "f143a530-d774-40b8-8d88-8cca4a62b815",
   "metadata": {},
   "outputs": [
    {
     "data": {
      "text/html": [
       "<div>\n",
       "<style scoped>\n",
       "    .dataframe tbody tr th:only-of-type {\n",
       "        vertical-align: middle;\n",
       "    }\n",
       "\n",
       "    .dataframe tbody tr th {\n",
       "        vertical-align: top;\n",
       "    }\n",
       "\n",
       "    .dataframe thead th {\n",
       "        text-align: right;\n",
       "    }\n",
       "</style>\n",
       "<table border=\"1\" class=\"dataframe\">\n",
       "  <thead>\n",
       "    <tr style=\"text-align: right;\">\n",
       "      <th></th>\n",
       "      <th>City</th>\n",
       "      <th>Customer</th>\n",
       "      <th>Product</th>\n",
       "      <th>monthly</th>\n",
       "      <th>Amount</th>\n",
       "    </tr>\n",
       "  </thead>\n",
       "  <tbody>\n",
       "    <tr>\n",
       "      <th>166</th>\n",
       "      <td>COCHIN</td>\n",
       "      <td>A61</td>\n",
       "      <td>Gold</td>\n",
       "      <td>4</td>\n",
       "      <td>3412861</td>\n",
       "    </tr>\n",
       "    <tr>\n",
       "      <th>73</th>\n",
       "      <td>BOMBAY</td>\n",
       "      <td>A42</td>\n",
       "      <td>Gold</td>\n",
       "      <td>5</td>\n",
       "      <td>3305341</td>\n",
       "    </tr>\n",
       "    <tr>\n",
       "      <th>31</th>\n",
       "      <td>BANGALORE</td>\n",
       "      <td>A30</td>\n",
       "      <td>Gold</td>\n",
       "      <td>5</td>\n",
       "      <td>3086549</td>\n",
       "    </tr>\n",
       "    <tr>\n",
       "      <th>101</th>\n",
       "      <td>CALCUTTA</td>\n",
       "      <td>A29</td>\n",
       "      <td>Gold</td>\n",
       "      <td>5</td>\n",
       "      <td>2612140</td>\n",
       "    </tr>\n",
       "    <tr>\n",
       "      <th>69</th>\n",
       "      <td>BOMBAY</td>\n",
       "      <td>A42</td>\n",
       "      <td>Gold</td>\n",
       "      <td>1</td>\n",
       "      <td>2516249</td>\n",
       "    </tr>\n",
       "    <tr>\n",
       "      <th>108</th>\n",
       "      <td>CALCUTTA</td>\n",
       "      <td>A60</td>\n",
       "      <td>Gold</td>\n",
       "      <td>1</td>\n",
       "      <td>2465585</td>\n",
       "    </tr>\n",
       "    <tr>\n",
       "      <th>177</th>\n",
       "      <td>DELHI</td>\n",
       "      <td>A44</td>\n",
       "      <td>Gold</td>\n",
       "      <td>1</td>\n",
       "      <td>2415713</td>\n",
       "    </tr>\n",
       "    <tr>\n",
       "      <th>0</th>\n",
       "      <td>BANGALORE</td>\n",
       "      <td>A1</td>\n",
       "      <td>Gold</td>\n",
       "      <td>1</td>\n",
       "      <td>2407806</td>\n",
       "    </tr>\n",
       "    <tr>\n",
       "      <th>111</th>\n",
       "      <td>CALCUTTA</td>\n",
       "      <td>A60</td>\n",
       "      <td>Gold</td>\n",
       "      <td>4</td>\n",
       "      <td>2397566</td>\n",
       "    </tr>\n",
       "    <tr>\n",
       "      <th>207</th>\n",
       "      <td>TRIVANDRUM</td>\n",
       "      <td>A28</td>\n",
       "      <td>Gold</td>\n",
       "      <td>5</td>\n",
       "      <td>2233253</td>\n",
       "    </tr>\n",
       "  </tbody>\n",
       "</table>\n",
       "</div>"
      ],
      "text/plain": [
       "           City Customer Product  monthly  Amount\n",
       "166      COCHIN      A61    Gold        4 3412861\n",
       "73       BOMBAY      A42    Gold        5 3305341\n",
       "31    BANGALORE      A30    Gold        5 3086549\n",
       "101    CALCUTTA      A29    Gold        5 2612140\n",
       "69       BOMBAY      A42    Gold        1 2516249\n",
       "108    CALCUTTA      A60    Gold        1 2465585\n",
       "177       DELHI      A44    Gold        1 2415713\n",
       "0     BANGALORE       A1    Gold        1 2407806\n",
       "111    CALCUTTA      A60    Gold        4 2397566\n",
       "207  TRIVANDRUM      A28    Gold        5 2233253"
      ]
     },
     "execution_count": 666,
     "metadata": {},
     "output_type": "execute_result"
    }
   ],
   "source": [
    "top10(prod,time)"
   ]
  },
  {
   "cell_type": "markdown",
   "id": "c6784f4e-de84-42ce-9b4e-00f1c15d6580",
   "metadata": {},
   "source": [
    "## --Credit Card Case Study-- END"
   ]
  },
  {
   "cell_type": "code",
   "execution_count": null,
   "id": "a5307522-820f-4c4e-b210-9db4b986f758",
   "metadata": {},
   "outputs": [],
   "source": []
  }
 ],
 "metadata": {
  "kernelspec": {
   "display_name": "Python 3 (ipykernel)",
   "language": "python",
   "name": "python3"
  },
  "language_info": {
   "codemirror_mode": {
    "name": "ipython",
    "version": 3
   },
   "file_extension": ".py",
   "mimetype": "text/x-python",
   "name": "python",
   "nbconvert_exporter": "python",
   "pygments_lexer": "ipython3",
   "version": "3.12.4"
  }
 },
 "nbformat": 4,
 "nbformat_minor": 5
}
